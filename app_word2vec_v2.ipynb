{
  "nbformat": 4,
  "nbformat_minor": 0,
  "metadata": {
    "colab": {
      "name": "app_word2vec_v2.ipynb",
      "version": "0.3.2",
      "provenance": [],
      "collapsed_sections": [
        "607TRz2Bj5Ks",
        "gbr2U07gkdN0",
        "2WVyqmBJikz-"
      ],
      "include_colab_link": true
    },
    "kernelspec": {
      "name": "python3",
      "display_name": "Python 3"
    }
  },
  "cells": [
    {
      "cell_type": "markdown",
      "metadata": {
        "id": "view-in-github",
        "colab_type": "text"
      },
      "source": [
        "[View in Colaboratory](https://colab.research.google.com/github/eveem/practice/blob/master/app_word2vec_v2.ipynb)"
      ]
    },
    {
      "metadata": {
        "id": "607TRz2Bj5Ks",
        "colab_type": "text"
      },
      "cell_type": "markdown",
      "source": [
        "### Install and import packages "
      ]
    },
    {
      "metadata": {
        "id": "_ZixXd2ZijiB",
        "colab_type": "code",
        "colab": {
          "base_uri": "https://localhost:8080/",
          "height": 904
        },
        "outputId": "eaeef115-bf84-4ea7-d87f-9714ff8131c9"
      },
      "cell_type": "code",
      "source": [
        "!pip install xlrd\n",
        "!pip install pandas\n",
        "!pip install -U -q PyDrive\n",
        "!pip install sklearn_crfsuite\n",
        "!pip install gensim\n",
        "!pip install networkx\n",
        "!pip install pydot\n",
        "!pip install cairocffi\n",
        "!pip install graphviz\n",
        "!pip install gprof2dot\n",
        "!pip install pydot-ng\n",
        "\n",
        "import graphviz \n",
        "import gensim\n",
        "import pickle\n",
        "import pydot\n",
        "import xlrd\n",
        "import re\n",
        "import matplotlib.pyplot as plt\n",
        "import matplotlib.image as mping\n",
        "import networkx as nx\n",
        "import pandas as pd\n",
        "import zipfile, os\n",
        "from pydrive.auth import GoogleAuth\n",
        "from pydrive.drive import GoogleDrive\n",
        "from google.colab import auth\n",
        "from oauth2client.client import GoogleCredentials\n",
        "from google.colab import files\n",
        "from IPython.display import Image, display\n",
        "\n",
        "!apt-get update -y\n",
        "!apt-get install python-pydot -y --allow-unauthenticated"
      ],
      "execution_count": 19,
      "outputs": [
        {
          "output_type": "stream",
          "text": [
            "Requirement already satisfied: xlrd in /usr/local/lib/python3.6/dist-packages (1.1.0)\n",
            "Requirement already satisfied: pandas in /usr/local/lib/python3.6/dist-packages (0.22.0)\n",
            "Requirement already satisfied: pytz>=2011k in /usr/local/lib/python3.6/dist-packages (from pandas) (2018.4)\n",
            "Requirement already satisfied: numpy>=1.9.0 in /usr/local/lib/python3.6/dist-packages (from pandas) (1.14.5)\n",
            "Requirement already satisfied: python-dateutil>=2 in /usr/local/lib/python3.6/dist-packages (from pandas) (2.5.3)\n",
            "Requirement already satisfied: six>=1.5 in /usr/local/lib/python3.6/dist-packages (from python-dateutil>=2->pandas) (1.11.0)\n",
            "Requirement already satisfied: sklearn_crfsuite in /usr/local/lib/python3.6/dist-packages (0.3.6)\n",
            "Requirement already satisfied: tqdm>=2.0 in /usr/local/lib/python3.6/dist-packages (from sklearn_crfsuite) (4.23.4)\n",
            "Requirement already satisfied: six in /usr/local/lib/python3.6/dist-packages (from sklearn_crfsuite) (1.11.0)\n",
            "Requirement already satisfied: tabulate in /usr/local/lib/python3.6/dist-packages (from sklearn_crfsuite) (0.8.2)\n",
            "Requirement already satisfied: python-crfsuite>=0.8.3 in /usr/local/lib/python3.6/dist-packages (from sklearn_crfsuite) (0.9.5)\n",
            "Requirement already satisfied: gensim in /usr/local/lib/python3.6/dist-packages (3.4.0)\n",
            "Requirement already satisfied: six>=1.5.0 in /usr/local/lib/python3.6/dist-packages (from gensim) (1.11.0)\n",
            "Requirement already satisfied: numpy>=1.11.3 in /usr/local/lib/python3.6/dist-packages (from gensim) (1.14.5)\n",
            "Requirement already satisfied: scipy>=0.18.1 in /usr/local/lib/python3.6/dist-packages (from gensim) (0.19.1)\n",
            "Requirement already satisfied: smart-open>=1.2.1 in /usr/local/lib/python3.6/dist-packages (from gensim) (1.5.7)\n",
            "Requirement already satisfied: boto>=2.32 in /usr/local/lib/python3.6/dist-packages (from smart-open>=1.2.1->gensim) (2.48.0)\n",
            "Requirement already satisfied: boto3 in /usr/local/lib/python3.6/dist-packages (from smart-open>=1.2.1->gensim) (1.7.45)\n",
            "Requirement already satisfied: requests in /usr/local/lib/python3.6/dist-packages (from smart-open>=1.2.1->gensim) (2.18.4)\n",
            "Requirement already satisfied: bz2file in /usr/local/lib/python3.6/dist-packages (from smart-open>=1.2.1->gensim) (0.98)\n",
            "Requirement already satisfied: s3transfer<0.2.0,>=0.1.10 in /usr/local/lib/python3.6/dist-packages (from boto3->smart-open>=1.2.1->gensim) (0.1.13)\n",
            "Requirement already satisfied: botocore<1.11.0,>=1.10.45 in /usr/local/lib/python3.6/dist-packages (from boto3->smart-open>=1.2.1->gensim) (1.10.45)\n",
            "Requirement already satisfied: jmespath<1.0.0,>=0.7.1 in /usr/local/lib/python3.6/dist-packages (from boto3->smart-open>=1.2.1->gensim) (0.9.3)\n",
            "Requirement already satisfied: urllib3<1.23,>=1.21.1 in /usr/local/lib/python3.6/dist-packages (from requests->smart-open>=1.2.1->gensim) (1.22)\n",
            "Requirement already satisfied: idna<2.7,>=2.5 in /usr/local/lib/python3.6/dist-packages (from requests->smart-open>=1.2.1->gensim) (2.6)\n",
            "Requirement already satisfied: certifi>=2017.4.17 in /usr/local/lib/python3.6/dist-packages (from requests->smart-open>=1.2.1->gensim) (2018.4.16)\n",
            "Requirement already satisfied: chardet<3.1.0,>=3.0.2 in /usr/local/lib/python3.6/dist-packages (from requests->smart-open>=1.2.1->gensim) (3.0.4)\n",
            "Requirement already satisfied: docutils>=0.10 in /usr/local/lib/python3.6/dist-packages (from botocore<1.11.0,>=1.10.45->boto3->smart-open>=1.2.1->gensim) (0.14)\n",
            "Requirement already satisfied: python-dateutil<3.0.0,>=2.1; python_version >= \"2.7\" in /usr/local/lib/python3.6/dist-packages (from botocore<1.11.0,>=1.10.45->boto3->smart-open>=1.2.1->gensim) (2.5.3)\n",
            "Requirement already satisfied: networkx in /usr/local/lib/python3.6/dist-packages (2.1)\n",
            "Requirement already satisfied: decorator>=4.1.0 in /usr/local/lib/python3.6/dist-packages (from networkx) (4.3.0)\n",
            "Requirement already satisfied: pydot in /usr/local/lib/python3.6/dist-packages (1.2.4)\n",
            "Requirement already satisfied: pyparsing>=2.1.4 in /usr/local/lib/python3.6/dist-packages (from pydot) (2.2.0)\n",
            "Requirement already satisfied: cairocffi in /usr/local/lib/python3.6/dist-packages (0.8.1)\n",
            "Requirement already satisfied: cffi>=1.1.0 in /usr/local/lib/python3.6/dist-packages (from cairocffi) (1.11.5)\n",
            "Requirement already satisfied: pycparser in /usr/local/lib/python3.6/dist-packages (from cffi>=1.1.0->cairocffi) (2.18)\n",
            "Requirement already satisfied: graphviz in /usr/local/lib/python3.6/dist-packages (0.8.3)\n",
            "Requirement already satisfied: gprof2dot in /usr/local/lib/python3.6/dist-packages (2017.9.19)\n",
            "Requirement already satisfied: pydot-ng in /usr/local/lib/python3.6/dist-packages (1.0.0)\n",
            "Requirement already satisfied: pyparsing>=2.0.1 in /usr/local/lib/python3.6/dist-packages (from pydot-ng) (2.2.0)\n",
            "Get:1 http://security.ubuntu.com/ubuntu artful-security InRelease [83.2 kB]\n",
            "Hit:2 http://archive.ubuntu.com/ubuntu artful InRelease\n",
            "Get:3 http://archive.ubuntu.com/ubuntu artful-updates InRelease [88.7 kB]\n",
            "Get:4 http://archive.ubuntu.com/ubuntu artful-backports InRelease [74.6 kB]\n",
            "Fetched 247 kB in 0s (268 kB/s)\n"
          ],
          "name": "stdout"
        },
        {
          "output_type": "stream",
          "text": [
            "Reading package lists... Done\n",
            "Reading package lists... Done\n",
            "Building dependency tree       \n",
            "Reading state information... Done\n",
            "python-pydot is already the newest version (1.0.28-2).\n",
            "0 upgraded, 0 newly installed, 0 to remove and 6 not upgraded.\n"
          ],
          "name": "stdout"
        }
      ]
    },
    {
      "metadata": {
        "id": "gbr2U07gkdN0",
        "colab_type": "text"
      },
      "cell_type": "markdown",
      "source": [
        "### Define function"
      ]
    },
    {
      "metadata": {
        "id": "Lgz4xL2Whc5F",
        "colab_type": "code",
        "colab": {}
      },
      "cell_type": "code",
      "source": [
        "w2v_model = ''\n",
        "dict_sort = []\n",
        "top10word = tuple()"
      ],
      "execution_count": 0,
      "outputs": []
    },
    {
      "metadata": {
        "id": "_ohnvbqxkByc",
        "colab_type": "code",
        "colab": {}
      },
      "cell_type": "code",
      "source": [
        "def upload_xlsx ():\n",
        "  uploaded = files.upload()\n",
        "  for i in uploaded:\n",
        "    file_name = i\n",
        "    return file_name\n",
        "\n",
        "def create_csv ():\n",
        "  file_name = upload_xlsx()\n",
        "  xls = pd.ExcelFile(file_name, on_demand = True)\n",
        "  sheets = xls.sheet_names\n",
        "  print('Sheet name list : ', end='')\n",
        "  print(sheets)\n",
        "  while True:\n",
        "    sheet_name = input('Enter sheet name : ')\n",
        "    if sheet_name in sheets:\n",
        "      break\n",
        "    else:\n",
        "      print('Error!! Do not have this sheet name..')\n",
        "\n",
        "  df = pd.read_excel(file_name, sheetname=sheet_name, index_col=None)\n",
        "  df.to_csv('csvfile.csv', encoding='utf-8', index=False)\n",
        "  print('Create CSV file complete...')\n",
        "  \n",
        "def create_text_list ():\n",
        "  df = pd.read_csv('csvfile.csv')\n",
        "  print('Field name list : ', end='')\n",
        "  fields = df.columns.values\n",
        "  print(fields)\n",
        "  while True:\n",
        "    field_name = input('Enter field name : ')\n",
        "    if field_name in fields:\n",
        "      break\n",
        "    else:\n",
        "      print('Error!! Do not have this field name..')\n",
        "\n",
        "  text_list = [i for i in df[field_name] if i]\n",
        "  print('Create list of text complete...')\n",
        "  return text_list\n",
        "\n",
        "def sent2labels(sent):\n",
        "  return [label for cur, tag in sent]\n",
        "\n",
        "def sent2features(sent):\n",
        "  data = []\n",
        "  for cur, tag in sent:\n",
        "    data.append({'current': cur, 'tag': tag})\n",
        "  return data\n",
        "\n",
        "def generate_feature (text_list):\n",
        "  tag_type = ['c', 'n', 'v', 'w', 't', 's', 'd']\n",
        "  rex_thai = re.compile(r\"[^\\u0E00-\\u0E7F' ]|^'|'$|''\")\n",
        "  c_tag = set('กขฃคฆงจชซญฎฏฐฑฒณดตถทธนบปพฟภมยรลวศษสฬอ')\n",
        "  n_tag = set('ฅฉผฝฌหฮ')\n",
        "  v_tag = {'ะ', 'ิ', 'ี', 'ึ', 'ื', 'ุ', 'ู', 'า', 'ำ', 'ๅ', '็', 'ั'}\n",
        "  w_tag = {'เ', 'แ', 'โ', 'ใ', 'ไ'}\n",
        "  t_tag = {'่',  '้', '๊', '๋'}\n",
        "  s_tag = {'ฺ', '์', 'ๆ', 'ฯ'}\n",
        "  d_tag = set('0123456789')\n",
        "  \n",
        "  new_text = []\n",
        "  for line in text_list:\n",
        "    char_to_remove = re.findall(rex_thai, line)\n",
        "    list_with_char_removed = [char for char in line if not char in char_to_remove]\n",
        "    line = ''.join(list_with_char_removed)\n",
        "    temp = line\n",
        "    if ' ' in line:\n",
        "      temp = temp.replace(' ', '')\n",
        "    new_text.append(temp)  \n",
        "    \n",
        "  raw_data = []\n",
        "  for line in new_text:\n",
        "    len_line = len(line)\n",
        "    d = []\n",
        "    for i in range(0, len_line):\n",
        "      t = ''\n",
        "      for tag in tag_type:\n",
        "        if line[i] in vars()[tag + '_tag']:\n",
        "          t = tag\n",
        "      d.append((line[i], t))\n",
        "    raw_data.append(d)\n",
        "  print('Create list of char and feature complete...')\n",
        "  return raw_data\n",
        "\n",
        "def download_model ():\n",
        "  # change by url\n",
        "  zip_id = '1WwyyzOS7rsDGTSnxCkEBXaLqGBmGUHA4'\n",
        "  \n",
        "  auth.authenticate_user()\n",
        "  gauth = GoogleAuth()\n",
        "  gauth.credentials = GoogleCredentials.get_application_default()\n",
        "  drive = GoogleDrive(gauth)\n",
        "\n",
        "  # Downloading zip file\n",
        "  myzip = drive.CreateFile({'id': zip_id})\n",
        "  myzip.GetContentFile('model.zip')\n",
        "\n",
        "  # Uncompressing zip file\n",
        "  zip_ref = zipfile.ZipFile('model.zip', 'r')\n",
        "  zip_ref.extractall('MODEL/')\n",
        "  \n",
        "  with open('./MODEL/model.pickle', 'rb') as handle:\n",
        "    crf_model = pickle.load(handle)\n",
        "\n",
        "  print('Download model complete...')\n",
        "  return crf_model\n",
        "\n",
        "def tokenize (model, x_data):\n",
        "  x_data = [sent2features(s) for s in x_data]\n",
        "  y_data = model.predict(x_data)\n",
        "  splited_list = []\n",
        "  len_text = len(x_data)\n",
        "  \n",
        "  for i in range(0, len_text):\n",
        "    len_line = len(x_data[i])\n",
        "    split_by_pipe = ''\n",
        "    if len_line > 1:\n",
        "      for j in range(0, len_line):\n",
        "        if y_data[i][j] == 'B' and j != 0:\n",
        "          split_by_pipe += '|'\n",
        "        split_by_pipe += x_data[i][j]['current']\n",
        "      splited_list.append(split_by_pipe)\n",
        "  return splited_list\n",
        "\n",
        "def generate_word2vec (pipe_list):\n",
        "  documents = []\n",
        "  dict_count = dict()\n",
        "  \n",
        "  for i in pipe_list:\n",
        "    temp = i.split('|')\n",
        "    documents.append(temp)\n",
        "    for word in temp:\n",
        "      if word in dict_count:\n",
        "        dict_count[word] += 1\n",
        "      else:\n",
        "        dict_count[word] = 1\n",
        "  \n",
        "  print('Generate list of text split by pipe complete...')\n",
        "  \n",
        "  model = gensim.models.Word2Vec (documents, size=150, window=10, min_count=2, workers=10)\n",
        "  model.train(documents, total_examples=len(documents), epochs=10)\n",
        "  \n",
        "  print('Generate word2vec complete...')\n",
        "  import operator\n",
        "  dc_sort = sorted(dict_count.items(),key = operator.itemgetter(1), reverse = True)\n",
        "  top_word = dc_sort[0:10]\n",
        "  \n",
        "  result = (model, dc_sort, top_word)\n",
        "  return result\n",
        "  \n",
        "def show_graph (center_word, model):\n",
        "  print('Show word list and graph...')\n",
        "  print(center_word + ' : ', end='')\n",
        "  near = model.wv.most_similar(positive=center_word, topn = 10)\n",
        "  for i in near:\n",
        "    print(i[0] + '(' + '%.2f'%(1/i[1]) + ')' + ', ', end='')\n",
        "  print('\\n')\n",
        "  color = 'red'\n",
        "  graph = pydot.Dot(graph_type='graph', layout='neato')\n",
        "  for word in near:\n",
        "      edge = pydot.Edge(center_word, word[0], color=color, len=1/word[1], label=\"%.2f\" % (1/word[1]), fontsize=\"8.0\")\n",
        "      graph.add_edge(edge)\n",
        "      color = 'pink'\n",
        "  return graphviz.Source(graph) \n",
        "  \n",
        "def run_program ():\n",
        "  global w2v_model\n",
        "  global dict_sort\n",
        "  global top10word\n",
        "  create_csv()\n",
        "  text_list = create_text_list()\n",
        "  char_with_feature = generate_feature(text_list)\n",
        "  crf_model = download_model()\n",
        "  pipe_split_list = tokenize(crf_model, char_with_feature)\n",
        "  output = generate_word2vec(pipe_split_list)\n",
        "  w2v_model = output[0]\n",
        "  dict_sort = output[1]\n",
        "  top10word = output[2]\n",
        "  "
      ],
      "execution_count": 0,
      "outputs": []
    },
    {
      "metadata": {
        "id": "lZzNGPzxaZ9V",
        "colab_type": "text"
      },
      "cell_type": "markdown",
      "source": [
        "### Run model"
      ]
    },
    {
      "metadata": {
        "id": "C10gm08xakeD",
        "colab_type": "text"
      },
      "cell_type": "markdown",
      "source": [
        "* upload file .xlsx \n",
        "* enter **sheet name** \n",
        "* enter **field name**\n",
        "* and.. wait\n",
        "\n"
      ]
    },
    {
      "metadata": {
        "id": "V58lsiei9y0r",
        "colab_type": "code",
        "colab": {
          "resources": {
            "http://localhost:8080/nbextensions/google.colab/files.js": {
              "data": "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",
              "ok": true,
              "headers": [
                [
                  "content-type",
                  "application/javascript"
                ]
              ],
              "status": 200,
              "status_text": ""
            }
          },
          "base_uri": "https://localhost:8080/",
          "height": 307
        },
        "outputId": "a4d22954-40e1-48cc-bd44-da88d9506005"
      },
      "cell_type": "code",
      "source": [
        "run_program()"
      ],
      "execution_count": 22,
      "outputs": [
        {
          "output_type": "display_data",
          "data": {
            "text/html": [
              "\n",
              "     <input type=\"file\" id=\"files-eb7e2aba-8703-4be6-b2b0-ca99032e28f4\" name=\"files[]\" multiple disabled />\n",
              "     <output id=\"result-eb7e2aba-8703-4be6-b2b0-ca99032e28f4\">\n",
              "      Upload widget is only available when the cell has been executed in the\n",
              "      current browser session. Please rerun this cell to enable.\n",
              "      </output>\n",
              "      <script src=\"/nbextensions/google.colab/files.js\"></script> "
            ],
            "text/plain": [
              "<IPython.core.display.HTML object>"
            ]
          },
          "metadata": {
            "tags": []
          }
        },
        {
          "output_type": "stream",
          "text": [
            "Saving Word to Vec.xlsx to Word to Vec (15).xlsx\n",
            "Sheet name list : ['Raw data']\n",
            "Enter sheet name : Raw data\n"
          ],
          "name": "stdout"
        },
        {
          "output_type": "stream",
          "text": [
            "/usr/local/lib/python3.6/dist-packages/pandas/util/_decorators.py:118: FutureWarning: The `sheetname` keyword is deprecated, use `sheet_name` instead\n",
            "  return func(*args, **kwargs)\n"
          ],
          "name": "stderr"
        },
        {
          "output_type": "stream",
          "text": [
            "Create CSV file complete...\n",
            "Field name list : ['id' 'date' 'time' 'post_date' 'text' 'engagement' 'post_by' 'channel'\n",
            " 'type' 'page_name' 'parent_link' 'link' 'sentiment' 'brand' 'model'\n",
            " 'Main Criteria' 'Main feature' 'feature']\n",
            "Enter field name : text\n",
            "Create list of text complete...\n",
            "Create list of char and feature complete...\n",
            "Download model complete...\n",
            "Generate list of text split by pipe complete...\n",
            "Generate word2vec complete...\n"
          ],
          "name": "stdout"
        }
      ]
    },
    {
      "metadata": {
        "id": "2WVyqmBJikz-",
        "colab_type": "text"
      },
      "cell_type": "markdown",
      "source": [
        "### Top 10 words graph"
      ]
    },
    {
      "metadata": {
        "id": "Knwdg46ySvcD",
        "colab_type": "code",
        "colab": {
          "base_uri": "https://localhost:8080/",
          "height": 855
        },
        "outputId": "dbf39993-fb42-4346-a9a6-916a39ea7e40"
      },
      "cell_type": "code",
      "source": [
        "show_graph (dict_sort[0][0], w2v_model)"
      ],
      "execution_count": 23,
      "outputs": [
        {
          "output_type": "stream",
          "text": [
            "Show word list and graph...\n",
            "ที่ : แต่(2.59), ใน(2.65), ซึ่ง(2.88), ขับมาดี(2.93), ขันวันนี้นับ(3.00), กาล่า(3.11), วีดี(3.20), ที่ดูจ(3.21), เอง(3.26), โลก(3.31), \n",
            "\n"
          ],
          "name": "stdout"
        },
        {
          "output_type": "execute_result",
          "data": {
            "text/plain": [
              "<graphviz.files.Source at 0x7f1140eca9b0>"
            ],
            "image/svg+xml": "<?xml version=\"1.0\" encoding=\"UTF-8\" standalone=\"no\"?>\n<!DOCTYPE svg PUBLIC \"-//W3C//DTD SVG 1.1//EN\"\n \"http://www.w3.org/Graphics/SVG/1.1/DTD/svg11.dtd\">\n<!-- Generated by graphviz version 2.38.0 (20140413.2041)\n -->\n<!-- Title: G Pages: 1 -->\n<svg width=\"684pt\" height=\"587pt\"\n viewBox=\"0.00 0.00 684.26 586.66\" xmlns=\"http://www.w3.org/2000/svg\" xmlns:xlink=\"http://www.w3.org/1999/xlink\">\n<g id=\"graph0\" class=\"graph\" transform=\"scale(1 1) rotate(0) translate(338.079 275.315)\">\n<title>G</title>\n<polygon fill=\"white\" stroke=\"none\" points=\"-338.079,311.341 -338.079,-275.315 346.176,-275.315 346.176,311.341 -338.079,311.341\"/>\n<!-- ที่ -->\n<g id=\"node1\" class=\"node\"><title>ที่</title>\n<ellipse fill=\"none\" stroke=\"black\" cx=\"-5.06683\" cy=\"-11.18\" rx=\"38.1938\" ry=\"18\"/>\n<text text-anchor=\"middle\" x=\"-5.06683\" y=\"-7.48004\" font-family=\"Times,serif\" font-size=\"14.00\">ที่</text>\n</g>\n<!-- แต่ -->\n<g id=\"node2\" class=\"node\"><title>แต่</title>\n<ellipse fill=\"none\" stroke=\"black\" cx=\"146.66\" cy=\"-92.3749\" rx=\"38.1938\" ry=\"18\"/>\n<text text-anchor=\"middle\" x=\"146.66\" y=\"-88.6749\" font-family=\"Times,serif\" font-size=\"14.00\">แต่</text>\n</g>\n<!-- ที่&#45;&#45;แต่ -->\n<g id=\"edge1\" class=\"edge\"><title>ที่&#45;&#45;แต่</title>\n<path fill=\"none\" stroke=\"red\" d=\"M20.3288,-24.7702C48.3367,-39.7583 93.1405,-63.7345 121.181,-78.7403\"/>\n<text text-anchor=\"middle\" x=\"61.2552\" y=\"-54.3553\" font-family=\"Times,serif\" font-size=\"8.00\">2.59</text>\n</g>\n<!-- ใน -->\n<g id=\"node3\" class=\"node\"><title>ใน</title>\n<ellipse fill=\"none\" stroke=\"black\" cx=\"-51.1203\" cy=\"158.268\" rx=\"29.4969\" ry=\"18\"/>\n<text text-anchor=\"middle\" x=\"-51.1203\" y=\"161.968\" font-family=\"Times,serif\" font-size=\"14.00\">ใน</text>\n</g>\n<!-- ที่&#45;&#45;ใน -->\n<g id=\"edge2\" class=\"edge\"><title>ที่&#45;&#45;ใน</title>\n<path fill=\"none\" stroke=\"pink\" d=\"M-9.99536,6.9539C-18.8594,39.5679 -37.389,107.746 -46.2272,140.265\"/>\n<text text-anchor=\"middle\" x=\"-37.6113\" y=\"71.0093\" font-family=\"Times,serif\" font-size=\"8.00\">2.65</text>\n</g>\n<!-- ซึ่ง -->\n<g id=\"node4\" class=\"node\"><title>ซึ่ง</title>\n<ellipse fill=\"none\" stroke=\"black\" cx=\"-70.8859\" cy=\"-243.549\" rx=\"48.1917\" ry=\"18\"/>\n<text text-anchor=\"middle\" x=\"-70.8859\" y=\"-239.849\" font-family=\"Times,serif\" font-size=\"14.00\">ซึ่ง</text>\n</g>\n<!-- ที่&#45;&#45;ซึ่ง -->\n<g id=\"edge3\" class=\"edge\"><title>ที่&#45;&#45;ซึ่ง</title>\n<path fill=\"none\" stroke=\"pink\" d=\"M-10.1222,-29.0278C-22.3739,-72.2812 -53.5439,-182.325 -65.8132,-225.641\"/>\n<text text-anchor=\"middle\" x=\"-47.4677\" y=\"-129.934\" font-family=\"Times,serif\" font-size=\"8.00\">2.88</text>\n</g>\n<!-- ขับมาดี -->\n<g id=\"node5\" class=\"node\"><title>ขับมาดี</title>\n<ellipse fill=\"none\" stroke=\"black\" cx=\"102.629\" cy=\"-253.315\" rx=\"75.2868\" ry=\"18\"/>\n<text text-anchor=\"middle\" x=\"102.629\" y=\"-249.615\" font-family=\"Times,serif\" font-size=\"14.00\">ขับมาดี</text>\n</g>\n<!-- ที่&#45;&#45;ขับมาดี -->\n<g id=\"edge4\" class=\"edge\"><title>ที่&#45;&#45;ขับมาดี</title>\n<path fill=\"none\" stroke=\"pink\" d=\"M2.85232,-28.9848C22.72,-73.6538 74.5162,-190.108 94.552,-235.155\"/>\n<text text-anchor=\"middle\" x=\"39.2022\" y=\"-134.67\" font-family=\"Times,serif\" font-size=\"8.00\">2.93</text>\n</g>\n<!-- ขันวันนี้นับ -->\n<g id=\"node6\" class=\"node\"><title>ขันวันนี้นับ</title>\n<ellipse fill=\"none\" stroke=\"black\" cx=\"-211.889\" cy=\"-162.582\" rx=\"122.379\" ry=\"18\"/>\n<text text-anchor=\"middle\" x=\"-211.889\" y=\"-158.882\" font-family=\"Times,serif\" font-size=\"14.00\">ขันวันนี้นับ</text>\n</g>\n<!-- ที่&#45;&#45;ขันวันนี้นับ -->\n<g id=\"edge5\" class=\"edge\"><title>ที่&#45;&#45;ขันวันนี้นับ</title>\n<path fill=\"none\" stroke=\"pink\" d=\"M-26.0363,-26.5304C-64.6499,-54.797 -146.782,-114.92 -187.69,-144.866\"/>\n<text text-anchor=\"middle\" x=\"-116.363\" y=\"-88.2984\" font-family=\"Times,serif\" font-size=\"8.00\">3.00</text>\n</g>\n<!-- กาล่า -->\n<g id=\"node7\" class=\"node\"><title>กาล่า</title>\n<ellipse fill=\"none\" stroke=\"black\" cx=\"-274.004\" cy=\"-1.95892\" rx=\"57.3905\" ry=\"18\"/>\n<text text-anchor=\"middle\" x=\"-274.004\" y=\"1.74108\" font-family=\"Times,serif\" font-size=\"14.00\">กาล่า</text>\n</g>\n<!-- ที่&#45;&#45;กาล่า -->\n<g id=\"edge6\" class=\"edge\"><title>ที่&#45;&#45;กาล่า</title>\n<path fill=\"none\" stroke=\"pink\" d=\"M-43.3134,-9.86867C-88.7038,-8.31236 -164.812,-5.70283 -217.117,-3.90944\"/>\n<text text-anchor=\"middle\" x=\"-139.715\" y=\"-9.48906\" font-family=\"Times,serif\" font-size=\"8.00\">3.11</text>\n</g>\n<!-- วีดี -->\n<g id=\"node8\" class=\"node\"><title>วีดี</title>\n<ellipse fill=\"none\" stroke=\"black\" cx=\"294.081\" cy=\"-34.9205\" rx=\"48.1917\" ry=\"18\"/>\n<text text-anchor=\"middle\" x=\"294.081\" y=\"-31.2205\" font-family=\"Times,serif\" font-size=\"14.00\">วีดี</text>\n</g>\n<!-- ที่&#45;&#45;วีดี -->\n<g id=\"edge7\" class=\"edge\"><title>ที่&#45;&#45;วีดี</title>\n<path fill=\"none\" stroke=\"pink\" d=\"M32.8204,-14.1868C87.297,-18.5101 187.696,-26.4778 246.911,-31.1771\"/>\n<text text-anchor=\"middle\" x=\"130.366\" y=\"-25.2819\" font-family=\"Times,serif\" font-size=\"8.00\">3.20</text>\n</g>\n<!-- ที่ดูจ -->\n<g id=\"node9\" class=\"node\"><title>ที่ดูจ</title>\n<ellipse fill=\"none\" stroke=\"black\" cx=\"-221.231\" cy=\"187.847\" rx=\"66.0889\" ry=\"18\"/>\n<text text-anchor=\"middle\" x=\"-221.231\" y=\"191.547\" font-family=\"Times,serif\" font-size=\"14.00\">ที่ดูจ</text>\n</g>\n<!-- ที่&#45;&#45;ที่ดูจ -->\n<g id=\"edge8\" class=\"edge\"><title>ที่&#45;&#45;ที่ดูจ</title>\n<path fill=\"none\" stroke=\"pink\" d=\"M-22.7564,5.10718C-62.9887,42.1499 -161.049,132.437 -202.374,170.485\"/>\n<text text-anchor=\"middle\" x=\"-122.065\" y=\"85.1963\" font-family=\"Times,serif\" font-size=\"8.00\">3.21</text>\n</g>\n<!-- เอง -->\n<g id=\"node10\" class=\"node\"><title>เอง</title>\n<ellipse fill=\"none\" stroke=\"black\" cx=\"227.33\" cy=\"164.424\" rx=\"38.1938\" ry=\"18\"/>\n<text text-anchor=\"middle\" x=\"227.33\" y=\"168.124\" font-family=\"Times,serif\" font-size=\"14.00\">เอง</text>\n</g>\n<!-- ที่&#45;&#45;เอง -->\n<g id=\"edge9\" class=\"edge\"><title>ที่&#45;&#45;เอง</title>\n<path fill=\"none\" stroke=\"pink\" d=\"M15.5568,4.40365C59.7691,37.8115 163.212,115.975 207.084,149.126\"/>\n<text text-anchor=\"middle\" x=\"101.82\" y=\"74.1648\" font-family=\"Times,serif\" font-size=\"8.00\">3.26</text>\n</g>\n<!-- โลก -->\n<g id=\"node11\" class=\"node\"><title>โลก</title>\n<ellipse fill=\"none\" stroke=\"black\" cx=\"63.4981\" cy=\"289.341\" rx=\"38.1938\" ry=\"18\"/>\n<text text-anchor=\"middle\" x=\"63.4981\" y=\"293.041\" font-family=\"Times,serif\" font-size=\"14.00\">โลก</text>\n</g>\n<!-- ที่&#45;&#45;โลก -->\n<g id=\"edge10\" class=\"edge\"><title>ที่&#45;&#45;โลก</title>\n<path fill=\"none\" stroke=\"pink\" d=\"M-0.983111,6.71894C11.183,60.0431 47.0985,217.461 59.3491,271.156\"/>\n<text text-anchor=\"middle\" x=\"19.683\" y=\"136.337\" font-family=\"Times,serif\" font-size=\"8.00\">3.31</text>\n</g>\n</g>\n</svg>\n"
          },
          "metadata": {
            "tags": []
          },
          "execution_count": 23
        }
      ]
    },
    {
      "metadata": {
        "id": "tafQ1KayhuAO",
        "colab_type": "code",
        "colab": {
          "base_uri": "https://localhost:8080/",
          "height": 715
        },
        "outputId": "168acb52-847b-42e7-cfcf-f2e6170a98ac"
      },
      "cell_type": "code",
      "source": [
        "show_graph (dict_sort[1][0], w2v_model)"
      ],
      "execution_count": 24,
      "outputs": [
        {
          "output_type": "stream",
          "text": [
            "Show word list and graph...\n",
            "ไม่ : ก็(2.15), ไม่รู้(2.23), ปุ๊บรถ(2.46), แต่(2.47), คิดว่า(2.49), เหรอ(2.53), ได้(2.56), ไป(2.58), จริงๆ(2.59), ขนาดนั้น(2.62), \n",
            "\n"
          ],
          "name": "stdout"
        },
        {
          "output_type": "execute_result",
          "data": {
            "text/plain": [
              "<graphviz.files.Source at 0x7f1140cf8470>"
            ],
            "image/svg+xml": "<?xml version=\"1.0\" encoding=\"UTF-8\" standalone=\"no\"?>\n<!DOCTYPE svg PUBLIC \"-//W3C//DTD SVG 1.1//EN\"\n \"http://www.w3.org/Graphics/SVG/1.1/DTD/svg11.dtd\">\n<!-- Generated by graphviz version 2.38.0 (20140413.2041)\n -->\n<!-- Title: G Pages: 1 -->\n<svg width=\"548pt\" height=\"482pt\"\n viewBox=\"0.00 0.00 548.35 482.31\" xmlns=\"http://www.w3.org/2000/svg\" xmlns:xlink=\"http://www.w3.org/1999/xlink\">\n<g id=\"graph0\" class=\"graph\" transform=\"scale(1 1) rotate(0) translate(271.951 231.037)\">\n<title>G</title>\n<polygon fill=\"white\" stroke=\"none\" points=\"-271.951,251.272 -271.951,-231.037 276.4,-231.037 276.4,251.272 -271.951,251.272\"/>\n<!-- ไม่ -->\n<g id=\"node1\" class=\"node\"><title>ไม่</title>\n<ellipse fill=\"none\" stroke=\"black\" cx=\"-2.71692\" cy=\"-3.81028\" rx=\"38.1938\" ry=\"18\"/>\n<text text-anchor=\"middle\" x=\"-2.71692\" y=\"-0.110278\" font-family=\"Times,serif\" font-size=\"14.00\">ไม่</text>\n</g>\n<!-- ก็ -->\n<g id=\"node2\" class=\"node\"><title>ก็</title>\n<ellipse fill=\"none\" stroke=\"black\" cx=\"118.62\" cy=\"-80.2026\" rx=\"29.4969\" ry=\"18\"/>\n<text text-anchor=\"middle\" x=\"118.62\" y=\"-76.5026\" font-family=\"Times,serif\" font-size=\"14.00\">ก็</text>\n</g>\n<!-- ไม่&#45;&#45;ก็ -->\n<g id=\"edge1\" class=\"edge\"><title>ไม่&#45;&#45;ก็</title>\n<path fill=\"none\" stroke=\"red\" d=\"M20.3913,-18.3589C42.8068,-32.4715 76.5006,-53.6847 98.023,-67.2349\"/>\n<text text-anchor=\"middle\" x=\"49.7071\" y=\"-45.3969\" font-family=\"Times,serif\" font-size=\"8.00\">2.15</text>\n</g>\n<!-- ไม่รู้ -->\n<g id=\"node3\" class=\"node\"><title>ไม่รู้</title>\n<ellipse fill=\"none\" stroke=\"black\" cx=\"-47.3011\" cy=\"144.582\" rx=\"66.0889\" ry=\"18\"/>\n<text text-anchor=\"middle\" x=\"-47.3011\" y=\"148.282\" font-family=\"Times,serif\" font-size=\"14.00\">ไม่รู้</text>\n</g>\n<!-- ไม่&#45;&#45;ไม่รู้ -->\n<g id=\"edge2\" class=\"edge\"><title>ไม่&#45;&#45;ไม่รู้</title>\n<path fill=\"none\" stroke=\"pink\" d=\"M-8.09482,14.0893C-16.6641,42.611 -33.3229,98.0575 -41.9042,126.619\"/>\n<text text-anchor=\"middle\" x=\"-34.4995\" y=\"67.7542\" font-family=\"Times,serif\" font-size=\"8.00\">2.23</text>\n</g>\n<!-- ปุ๊บรถ -->\n<g id=\"node4\" class=\"node\"><title>ปุ๊บรถ</title>\n<ellipse fill=\"none\" stroke=\"black\" cx=\"-59.4638\" cy=\"-206.895\" rx=\"66.0889\" ry=\"18\"/>\n<text text-anchor=\"middle\" x=\"-59.4638\" y=\"-203.195\" font-family=\"Times,serif\" font-size=\"14.00\">ปุ๊บรถ</text>\n</g>\n<!-- ไม่&#45;&#45;ปุ๊บรถ -->\n<g id=\"edge3\" class=\"edge\"><title>ไม่&#45;&#45;ปุ๊บรถ</title>\n<path fill=\"none\" stroke=\"pink\" d=\"M-7.75283,-21.8327C-18.5215,-60.3714 -43.6805,-150.41 -54.4392,-188.913\"/>\n<text text-anchor=\"middle\" x=\"-40.596\" y=\"-107.973\" font-family=\"Times,serif\" font-size=\"8.00\">2.46</text>\n</g>\n<!-- แต่ -->\n<g id=\"node5\" class=\"node\"><title>แต่</title>\n<ellipse fill=\"none\" stroke=\"black\" cx=\"89.0727\" cy=\"-209.037\" rx=\"38.1938\" ry=\"18\"/>\n<text text-anchor=\"middle\" x=\"89.0727\" y=\"-205.337\" font-family=\"Times,serif\" font-size=\"14.00\">แต่</text>\n</g>\n<!-- ไม่&#45;&#45;แต่ -->\n<g id=\"edge4\" class=\"edge\"><title>ไม่&#45;&#45;แต่</title>\n<path fill=\"none\" stroke=\"pink\" d=\"M5.26824,-21.6638C22.6714,-60.5744 63.8449,-152.632 81.1714,-191.371\"/>\n<text text-anchor=\"middle\" x=\"33.7198\" y=\"-109.117\" font-family=\"Times,serif\" font-size=\"8.00\">2.47</text>\n</g>\n<!-- คิดว่า -->\n<g id=\"node6\" class=\"node\"><title>คิดว่า</title>\n<ellipse fill=\"none\" stroke=\"black\" cx=\"-172.406\" cy=\"-131.114\" rx=\"66.0889\" ry=\"18\"/>\n<text text-anchor=\"middle\" x=\"-172.406\" y=\"-127.414\" font-family=\"Times,serif\" font-size=\"14.00\">คิดว่า</text>\n</g>\n<!-- ไม่&#45;&#45;คิดว่า -->\n<g id=\"edge5\" class=\"edge\"><title>ไม่&#45;&#45;คิดว่า</title>\n<path fill=\"none\" stroke=\"pink\" d=\"M-23.1854,-19.166C-55.0953,-43.1053 -116.477,-89.1548 -149.704,-114.082\"/>\n<text text-anchor=\"middle\" x=\"-95.9448\" y=\"-69.2242\" font-family=\"Times,serif\" font-size=\"8.00\">2.49</text>\n</g>\n<!-- เหรอ -->\n<g id=\"node7\" class=\"node\"><title>เหรอ</title>\n<ellipse fill=\"none\" stroke=\"black\" cx=\"-219.855\" cy=\"-1.35505\" rx=\"48.1917\" ry=\"18\"/>\n<text text-anchor=\"middle\" x=\"-219.855\" y=\"2.34495\" font-family=\"Times,serif\" font-size=\"14.00\">เหรอ</text>\n</g>\n<!-- ไม่&#45;&#45;เหรอ -->\n<g id=\"edge6\" class=\"edge\"><title>ไม่&#45;&#45;เหรอ</title>\n<path fill=\"none\" stroke=\"pink\" d=\"M-41.5368,-3.37133C-77.8885,-2.9603 -132.332,-2.3447 -171.492,-1.9019\"/>\n<text text-anchor=\"middle\" x=\"-116.014\" y=\"-5.23662\" font-family=\"Times,serif\" font-size=\"8.00\">2.53</text>\n</g>\n<!-- ได้ -->\n<g id=\"node8\" class=\"node\"><title>ได้</title>\n<ellipse fill=\"none\" stroke=\"black\" cx=\"234.054\" cy=\"-20.5597\" rx=\"38.1938\" ry=\"18\"/>\n<text text-anchor=\"middle\" x=\"234.054\" y=\"-16.8597\" font-family=\"Times,serif\" font-size=\"14.00\">ได้</text>\n</g>\n<!-- ไม่&#45;&#45;ได้ -->\n<g id=\"edge7\" class=\"edge\"><title>ไม่&#45;&#45;ได้</title>\n<path fill=\"none\" stroke=\"pink\" d=\"M35.3244,-6.50136C79.5083,-9.62698 151.963,-14.7525 196.107,-17.8753\"/>\n<text text-anchor=\"middle\" x=\"106.216\" y=\"-14.7883\" font-family=\"Times,serif\" font-size=\"8.00\">2.56</text>\n</g>\n<!-- ไป -->\n<g id=\"node9\" class=\"node\"><title>ไป</title>\n<ellipse fill=\"none\" stroke=\"black\" cx=\"-181.317\" cy=\"147.71\" rx=\"29.4969\" ry=\"18\"/>\n<text text-anchor=\"middle\" x=\"-181.317\" y=\"151.41\" font-family=\"Times,serif\" font-size=\"14.00\">ไป</text>\n</g>\n<!-- ไม่&#45;&#45;ไป -->\n<g id=\"edge8\" class=\"edge\"><title>ไม่&#45;&#45;ไป</title>\n<path fill=\"none\" stroke=\"pink\" d=\"M-21.4927,12.1187C-56.3318,41.6753 -130.49,104.589 -164.109,133.111\"/>\n<text text-anchor=\"middle\" x=\"-102.301\" y=\"70.015\" font-family=\"Times,serif\" font-size=\"8.00\">2.58</text>\n</g>\n<!-- จริงๆ -->\n<g id=\"node10\" class=\"node\"><title>จริงๆ</title>\n<ellipse fill=\"none\" stroke=\"black\" cx=\"181.999\" cy=\"131.409\" rx=\"57.3905\" ry=\"18\"/>\n<text text-anchor=\"middle\" x=\"181.999\" y=\"135.109\" font-family=\"Times,serif\" font-size=\"14.00\">จริงๆ</text>\n</g>\n<!-- ไม่&#45;&#45;จริงๆ -->\n<g id=\"edge9\" class=\"edge\"><title>ไม่&#45;&#45;จริงๆ</title>\n<path fill=\"none\" stroke=\"pink\" d=\"M18.1133,11.4382C53.0233,36.9936 123.064,88.2658 159.229,114.74\"/>\n<text text-anchor=\"middle\" x=\"79.1712\" y=\"60.4892\" font-family=\"Times,serif\" font-size=\"8.00\">2.59</text>\n</g>\n<!-- ขนาดนั้น -->\n<g id=\"node11\" class=\"node\"><title>ขนาดนั้น</title>\n<ellipse fill=\"none\" stroke=\"black\" cx=\"59.3148\" cy=\"229.272\" rx=\"85.2851\" ry=\"18\"/>\n<text text-anchor=\"middle\" x=\"59.3148\" y=\"232.972\" font-family=\"Times,serif\" font-size=\"14.00\">ขนาดนั้น</text>\n</g>\n<!-- ไม่&#45;&#45;ขนาดนั้น -->\n<g id=\"edge10\" class=\"edge\"><title>ไม่&#45;&#45;ขนาดนั้น</title>\n<path fill=\"none\" stroke=\"pink\" d=\"M2.04761,14.0923C13.5659,57.3718 42.8265,167.318 54.4485,210.987\"/>\n<text text-anchor=\"middle\" x=\"18.7481\" y=\"109.94\" font-family=\"Times,serif\" font-size=\"8.00\">2.62</text>\n</g>\n</g>\n</svg>\n"
          },
          "metadata": {
            "tags": []
          },
          "execution_count": 24
        }
      ]
    },
    {
      "metadata": {
        "id": "GbSnwF04ir5K",
        "colab_type": "code",
        "colab": {
          "base_uri": "https://localhost:8080/",
          "height": 687
        },
        "outputId": "1779e416-83aa-46e4-8b26-94064200e7e1"
      },
      "cell_type": "code",
      "source": [
        "show_graph (dict_sort[2][0], w2v_model)"
      ],
      "execution_count": 25,
      "outputs": [
        {
          "output_type": "stream",
          "text": [
            "Show word list and graph...\n",
            "ครับ : ผม(1.97), ถ้า(2.10), ก็(2.20), คับ(2.34), ผมยัง(2.39), ผมว่า(2.43), ซื้อมา(2.47), ครับยัง(2.48), ได้(2.48), ครับว่า(2.49), \n",
            "\n"
          ],
          "name": "stdout"
        },
        {
          "output_type": "execute_result",
          "data": {
            "text/plain": [
              "<graphviz.files.Source at 0x7f11417d4ef0>"
            ],
            "image/svg+xml": "<?xml version=\"1.0\" encoding=\"UTF-8\" standalone=\"no\"?>\n<!DOCTYPE svg PUBLIC \"-//W3C//DTD SVG 1.1//EN\"\n \"http://www.w3.org/Graphics/SVG/1.1/DTD/svg11.dtd\">\n<!-- Generated by graphviz version 2.38.0 (20140413.2041)\n -->\n<!-- Title: G Pages: 1 -->\n<svg width=\"571pt\" height=\"461pt\"\n viewBox=\"0.00 0.00 570.50 461.28\" xmlns=\"http://www.w3.org/2000/svg\" xmlns:xlink=\"http://www.w3.org/1999/xlink\">\n<g id=\"graph0\" class=\"graph\" transform=\"scale(1 1) rotate(0) translate(272.616 223.609)\">\n<title>G</title>\n<polygon fill=\"white\" stroke=\"none\" points=\"-272.616,237.668 -272.616,-223.609 297.885,-223.609 297.885,237.668 -272.616,237.668\"/>\n<!-- ครับ -->\n<g id=\"node1\" class=\"node\"><title>ครับ</title>\n<ellipse fill=\"none\" stroke=\"black\" cx=\"-3.92635\" cy=\"-4.32008\" rx=\"48.1917\" ry=\"18\"/>\n<text text-anchor=\"middle\" x=\"-3.92635\" y=\"-0.620079\" font-family=\"Times,serif\" font-size=\"14.00\">ครับ</text>\n</g>\n<!-- ผม -->\n<g id=\"node2\" class=\"node\"><title>ผม</title>\n<ellipse fill=\"none\" stroke=\"black\" cx=\"106.708\" cy=\"-66.7214\" rx=\"29.4969\" ry=\"18\"/>\n<text text-anchor=\"middle\" x=\"106.708\" y=\"-63.0214\" font-family=\"Times,serif\" font-size=\"14.00\">ผม</text>\n</g>\n<!-- ครับ&#45;&#45;ผม -->\n<g id=\"edge1\" class=\"edge\"><title>ครับ&#45;&#45;ผม</title>\n<path fill=\"none\" stroke=\"red\" d=\"M22.8551,-19.4257C41.9123,-30.1746 67.1918,-44.433 84.9946,-54.4743\"/>\n<text text-anchor=\"middle\" x=\"44.4249\" y=\"-39.55\" font-family=\"Times,serif\" font-size=\"8.00\">1.97</text>\n</g>\n<!-- ถ้า -->\n<g id=\"node3\" class=\"node\"><title>ถ้า</title>\n<ellipse fill=\"none\" stroke=\"black\" cx=\"-46.1168\" cy=\"134.972\" rx=\"38.1938\" ry=\"18\"/>\n<text text-anchor=\"middle\" x=\"-46.1168\" y=\"138.672\" font-family=\"Times,serif\" font-size=\"14.00\">ถ้า</text>\n</g>\n<!-- ครับ&#45;&#45;ถ้า -->\n<g id=\"edge2\" class=\"edge\"><title>ครับ&#45;&#45;ถ้า</title>\n<path fill=\"none\" stroke=\"pink\" d=\"M-9.35564,13.6048C-17.4567,40.3506 -32.6194,90.41 -40.7083,117.116\"/>\n<text text-anchor=\"middle\" x=\"-34.532\" y=\"62.7603\" font-family=\"Times,serif\" font-size=\"8.00\">2.10</text>\n</g>\n<!-- ก็ -->\n<g id=\"node4\" class=\"node\"><title>ก็</title>\n<ellipse fill=\"none\" stroke=\"black\" cx=\"-49.3437\" cy=\"-177.947\" rx=\"29.4969\" ry=\"18\"/>\n<text text-anchor=\"middle\" x=\"-49.3437\" y=\"-174.247\" font-family=\"Times,serif\" font-size=\"14.00\">ก็</text>\n</g>\n<!-- ครับ&#45;&#45;ก็ -->\n<g id=\"edge3\" class=\"edge\"><title>ครับ&#45;&#45;ก็</title>\n<path fill=\"none\" stroke=\"pink\" d=\"M-8.61574,-22.2472C-17.3415,-55.6049 -35.9735,-126.834 -44.6798,-160.117\"/>\n<text text-anchor=\"middle\" x=\"-36.1478\" y=\"-93.7823\" font-family=\"Times,serif\" font-size=\"8.00\">2.20</text>\n</g>\n<!-- คับ -->\n<g id=\"node5\" class=\"node\"><title>คับ</title>\n<ellipse fill=\"none\" stroke=\"black\" cx=\"87.4614\" cy=\"-201.609\" rx=\"38.1938\" ry=\"18\"/>\n<text text-anchor=\"middle\" x=\"87.4614\" y=\"-197.909\" font-family=\"Times,serif\" font-size=\"14.00\">คับ</text>\n</g>\n<!-- ครับ&#45;&#45;คับ -->\n<g id=\"edge4\" class=\"edge\"><title>ครับ&#45;&#45;คับ</title>\n<path fill=\"none\" stroke=\"pink\" d=\"M4.34488,-22.1761C21.7441,-59.7377 61.9496,-146.534 79.2747,-183.935\"/>\n<text text-anchor=\"middle\" x=\"32.3098\" y=\"-105.656\" font-family=\"Times,serif\" font-size=\"8.00\">2.34</text>\n</g>\n<!-- ผมยัง -->\n<g id=\"node6\" class=\"node\"><title>ผมยัง</title>\n<ellipse fill=\"none\" stroke=\"black\" cx=\"-167.888\" cy=\"-134.604\" rx=\"57.3905\" ry=\"18\"/>\n<text text-anchor=\"middle\" x=\"-167.888\" y=\"-130.904\" font-family=\"Times,serif\" font-size=\"14.00\">ผมยัง</text>\n</g>\n<!-- ครับ&#45;&#45;ผมยัง -->\n<g id=\"edge5\" class=\"edge\"><title>ครับ&#45;&#45;ผมยัง</title>\n<path fill=\"none\" stroke=\"pink\" d=\"M-24.6922,-20.8206C-56.0585,-45.7444 -115.201,-92.7395 -146.773,-117.826\"/>\n<text text-anchor=\"middle\" x=\"-95.2324\" y=\"-71.9233\" font-family=\"Times,serif\" font-size=\"8.00\">2.39</text>\n</g>\n<!-- ผมว่า -->\n<g id=\"node7\" class=\"node\"><title>ผมว่า</title>\n<ellipse fill=\"none\" stroke=\"black\" cx=\"-211.421\" cy=\"-3.59404\" rx=\"57.3905\" ry=\"18\"/>\n<text text-anchor=\"middle\" x=\"-211.421\" y=\"0.105957\" font-family=\"Times,serif\" font-size=\"14.00\">ผมว่า</text>\n</g>\n<!-- ครับ&#45;&#45;ผมว่า -->\n<g id=\"edge6\" class=\"edge\"><title>ครับ&#45;&#45;ผมว่า</title>\n<path fill=\"none\" stroke=\"pink\" d=\"M-52.0514,-4.15169C-82.46,-4.04529 -121.92,-3.90721 -153.967,-3.79508\"/>\n<text text-anchor=\"middle\" x=\"-112.509\" y=\"-6.57338\" font-family=\"Times,serif\" font-size=\"8.00\">2.43</text>\n</g>\n<!-- ซื้อมา -->\n<g id=\"node8\" class=\"node\"><title>ซื้อมา</title>\n<ellipse fill=\"none\" stroke=\"black\" cx=\"227.591\" cy=\"-28.6022\" rx=\"66.0889\" ry=\"18\"/>\n<text text-anchor=\"middle\" x=\"227.591\" y=\"-24.9022\" font-family=\"Times,serif\" font-size=\"14.00\">ซื้อมา</text>\n</g>\n<!-- ครับ&#45;&#45;ซื้อมา -->\n<g id=\"edge7\" class=\"edge\"><title>ครับ&#45;&#45;ซื้อมา</title>\n<path fill=\"none\" stroke=\"pink\" d=\"M42.6462,-9.20472C78.0341,-12.9163 127.048,-18.057 165.727,-22.1137\"/>\n<text text-anchor=\"middle\" x=\"94.6865\" y=\"-18.2592\" font-family=\"Times,serif\" font-size=\"8.00\">2.47</text>\n</g>\n<!-- ครับยัง -->\n<g id=\"node9\" class=\"node\"><title>ครับยัง</title>\n<ellipse fill=\"none\" stroke=\"black\" cx=\"-174.593\" cy=\"142.039\" rx=\"75.2868\" ry=\"18\"/>\n<text text-anchor=\"middle\" x=\"-174.593\" y=\"145.739\" font-family=\"Times,serif\" font-size=\"14.00\">ครับยัง</text>\n</g>\n<!-- ครับ&#45;&#45;ครับยัง -->\n<g id=\"edge8\" class=\"edge\"><title>ครับ&#45;&#45;ครับยัง</title>\n<path fill=\"none\" stroke=\"pink\" d=\"M-23.1722,12.1847C-55.6884,40.0699 -121.192,96.2439 -154.361,124.689\"/>\n<text text-anchor=\"middle\" x=\"-98.2667\" y=\"65.8371\" font-family=\"Times,serif\" font-size=\"8.00\">2.48</text>\n</g>\n<!-- ได้ -->\n<g id=\"node10\" class=\"node\"><title>ได้</title>\n<ellipse fill=\"none\" stroke=\"black\" cx=\"175.798\" cy=\"124.718\" rx=\"38.1938\" ry=\"18\"/>\n<text text-anchor=\"middle\" x=\"175.798\" y=\"128.418\" font-family=\"Times,serif\" font-size=\"14.00\">ได้</text>\n</g>\n<!-- ครับ&#45;&#45;ได้ -->\n<g id=\"edge9\" class=\"edge\"><title>ครับ&#45;&#45;ได้</title>\n<path fill=\"none\" stroke=\"pink\" d=\"M18.4725,11.7618C53.477,36.8944 120.667,85.1352 154.794,109.638\"/>\n<text text-anchor=\"middle\" x=\"77.133\" y=\"58.0998\" font-family=\"Times,serif\" font-size=\"8.00\">2.48</text>\n</g>\n<!-- ครับว่า -->\n<g id=\"node11\" class=\"node\"><title>ครับว่า</title>\n<ellipse fill=\"none\" stroke=\"black\" cx=\"55.7301\" cy=\"215.668\" rx=\"75.2868\" ry=\"18\"/>\n<text text-anchor=\"middle\" x=\"55.7301\" y=\"219.368\" font-family=\"Times,serif\" font-size=\"14.00\">ครับว่า</text>\n</g>\n<!-- ครับ&#45;&#45;ครับว่า -->\n<g id=\"edge10\" class=\"edge\"><title>ครับ&#45;&#45;ครับว่า</title>\n<path fill=\"none\" stroke=\"pink\" d=\"M0.955591,13.6825C12.1423,54.9343 39.5293,155.926 50.7807,197.417\"/>\n<text text-anchor=\"middle\" x=\"16.3682\" y=\"102.95\" font-family=\"Times,serif\" font-size=\"8.00\">2.49</text>\n</g>\n</g>\n</svg>\n"
          },
          "metadata": {
            "tags": []
          },
          "execution_count": 25
        }
      ]
    },
    {
      "metadata": {
        "id": "8eWqM9Wfj6RB",
        "colab_type": "code",
        "colab": {
          "base_uri": "https://localhost:8080/",
          "height": 821
        },
        "outputId": "cd4adc9d-1d72-4142-8f4f-b62760b7dc7b"
      },
      "cell_type": "code",
      "source": [
        "show_graph (dict_sort[3][0], w2v_model)"
      ],
      "execution_count": 26,
      "outputs": [
        {
          "output_type": "stream",
          "text": [
            "Show word list and graph...\n",
            "ได้ : ครับ(2.48), ไม่(2.56), คิดว่า(2.57), ก็(2.72), ต้อง(3.01), ไป(3.09), ซื้อมั้ย(3.12), ถต่อ(3.16), ไต่(3.17), แต่(3.19), \n",
            "\n"
          ],
          "name": "stdout"
        },
        {
          "output_type": "execute_result",
          "data": {
            "text/plain": [
              "<graphviz.files.Source at 0x7f1140e5f9e8>"
            ],
            "image/svg+xml": "<?xml version=\"1.0\" encoding=\"UTF-8\" standalone=\"no\"?>\n<!DOCTYPE svg PUBLIC \"-//W3C//DTD SVG 1.1//EN\"\n \"http://www.w3.org/Graphics/SVG/1.1/DTD/svg11.dtd\">\n<!-- Generated by graphviz version 2.38.0 (20140413.2041)\n -->\n<!-- Title: G Pages: 1 -->\n<svg width=\"684pt\" height=\"562pt\"\n viewBox=\"0.00 0.00 683.74 561.91\" xmlns=\"http://www.w3.org/2000/svg\" xmlns:xlink=\"http://www.w3.org/1999/xlink\">\n<g id=\"graph0\" class=\"graph\" transform=\"scale(1 1) rotate(0) translate(303.71 264.109)\">\n<title>G</title>\n<polygon fill=\"white\" stroke=\"none\" points=\"-303.71,297.804 -303.71,-264.109 380.028,-264.109 380.028,297.804 -303.71,297.804\"/>\n<!-- ได้ -->\n<g id=\"node1\" class=\"node\"><title>ได้</title>\n<ellipse fill=\"none\" stroke=\"black\" cx=\"-1.59137\" cy=\"-12.5419\" rx=\"38.1938\" ry=\"18\"/>\n<text text-anchor=\"middle\" x=\"-1.59137\" y=\"-8.84191\" font-family=\"Times,serif\" font-size=\"14.00\">ได้</text>\n</g>\n<!-- ครับ -->\n<g id=\"node2\" class=\"node\"><title>ครับ</title>\n<ellipse fill=\"none\" stroke=\"black\" cx=\"148.659\" cy=\"-87.7172\" rx=\"48.1917\" ry=\"18\"/>\n<text text-anchor=\"middle\" x=\"148.659\" y=\"-84.0172\" font-family=\"Times,serif\" font-size=\"14.00\">ครับ</text>\n</g>\n<!-- ได้&#45;&#45;ครับ -->\n<g id=\"edge1\" class=\"edge\"><title>ได้&#45;&#45;ครับ</title>\n<path fill=\"none\" stroke=\"red\" d=\"M24.9246,-25.8087C51.5463,-39.1284 92.4399,-59.5889 119.848,-73.3019\"/>\n<text text-anchor=\"middle\" x=\"62.8862\" y=\"-52.1553\" font-family=\"Times,serif\" font-size=\"8.00\">2.48</text>\n</g>\n<!-- ไม่ -->\n<g id=\"node3\" class=\"node\"><title>ไม่</title>\n<ellipse fill=\"none\" stroke=\"black\" cx=\"-51.8558\" cy=\"147.588\" rx=\"38.1938\" ry=\"18\"/>\n<text text-anchor=\"middle\" x=\"-51.8558\" y=\"151.288\" font-family=\"Times,serif\" font-size=\"14.00\">ไม่</text>\n</g>\n<!-- ได้&#45;&#45;ไม่ -->\n<g id=\"edge2\" class=\"edge\"><title>ได้&#45;&#45;ไม่</title>\n<path fill=\"none\" stroke=\"pink\" d=\"M-7.25963,5.51572C-16.9133,36.2699 -36.4391,98.4742 -46.1311,129.35\"/>\n<text text-anchor=\"middle\" x=\"-36.1954\" y=\"64.8331\" font-family=\"Times,serif\" font-size=\"8.00\">2.56</text>\n</g>\n<!-- คิดว่า -->\n<g id=\"node4\" class=\"node\"><title>คิดว่า</title>\n<ellipse fill=\"none\" stroke=\"black\" cx=\"-61.6673\" cy=\"-199.755\" rx=\"66.0889\" ry=\"18\"/>\n<text text-anchor=\"middle\" x=\"-61.6673\" y=\"-196.055\" font-family=\"Times,serif\" font-size=\"14.00\">คิดว่า</text>\n</g>\n<!-- ได้&#45;&#45;คิดว่า -->\n<g id=\"edge3\" class=\"edge\"><title>ได้&#45;&#45;คิดว่า</title>\n<path fill=\"none\" stroke=\"pink\" d=\"M-7.35171,-30.4927C-18.8053,-66.1852 -44.3248,-145.711 -55.8362,-181.583\"/>\n<text text-anchor=\"middle\" x=\"-41.0939\" y=\"-108.638\" font-family=\"Times,serif\" font-size=\"8.00\">2.57</text>\n</g>\n<!-- ก็ -->\n<g id=\"node5\" class=\"node\"><title>ก็</title>\n<ellipse fill=\"none\" stroke=\"black\" cx=\"90.9727\" cy=\"-242.109\" rx=\"29.4969\" ry=\"18\"/>\n<text text-anchor=\"middle\" x=\"90.9727\" y=\"-238.409\" font-family=\"Times,serif\" font-size=\"14.00\">ก็</text>\n</g>\n<!-- ได้&#45;&#45;ก็ -->\n<g id=\"edge4\" class=\"edge\"><title>ได้&#45;&#45;ก็</title>\n<path fill=\"none\" stroke=\"pink\" d=\"M5.67198,-30.5557C23.0181,-73.5755 66.6882,-181.881 83.8703,-224.494\"/>\n<text text-anchor=\"middle\" x=\"35.2711\" y=\"-130.125\" font-family=\"Times,serif\" font-size=\"8.00\">2.72</text>\n</g>\n<!-- ต้อง -->\n<g id=\"node6\" class=\"node\"><title>ต้อง</title>\n<ellipse fill=\"none\" stroke=\"black\" cx=\"-212.701\" cy=\"-181.999\" rx=\"48.1917\" ry=\"18\"/>\n<text text-anchor=\"middle\" x=\"-212.701\" y=\"-178.299\" font-family=\"Times,serif\" font-size=\"14.00\">ต้อง</text>\n</g>\n<!-- ได้&#45;&#45;ต้อง -->\n<g id=\"edge5\" class=\"edge\"><title>ได้&#45;&#45;ต้อง</title>\n<path fill=\"none\" stroke=\"pink\" d=\"M-21.0736,-28.1803C-60.9846,-60.2168 -151.694,-133.029 -192.339,-165.655\"/>\n<text text-anchor=\"middle\" x=\"-116.206\" y=\"-99.5176\" font-family=\"Times,serif\" font-size=\"8.00\">3.01</text>\n</g>\n<!-- ไป -->\n<g id=\"node7\" class=\"node\"><title>ไป</title>\n<ellipse fill=\"none\" stroke=\"black\" cx=\"-270.462\" cy=\"-5.47524\" rx=\"29.4969\" ry=\"18\"/>\n<text text-anchor=\"middle\" x=\"-270.462\" y=\"-1.77524\" font-family=\"Times,serif\" font-size=\"14.00\">ไป</text>\n</g>\n<!-- ได้&#45;&#45;ไป -->\n<g id=\"edge6\" class=\"edge\"><title>ได้&#45;&#45;ไป</title>\n<path fill=\"none\" stroke=\"pink\" d=\"M-40.114,-11.5294C-94.4209,-10.1021 -192.299,-7.52959 -241.116,-6.24653\"/>\n<text text-anchor=\"middle\" x=\"-150.115\" y=\"-11.488\" font-family=\"Times,serif\" font-size=\"8.00\">3.09</text>\n</g>\n<!-- ซื้อมั้ย -->\n<g id=\"node8\" class=\"node\"><title>ซื้อมั้ย</title>\n<ellipse fill=\"none\" stroke=\"black\" cx=\"290.886\" cy=\"-38.8772\" rx=\"85.2851\" ry=\"18\"/>\n<text text-anchor=\"middle\" x=\"290.886\" y=\"-35.1772\" font-family=\"Times,serif\" font-size=\"14.00\">ซื้อมั้ย</text>\n</g>\n<!-- ได้&#45;&#45;ซื้อมั้ย -->\n<g id=\"edge7\" class=\"edge\"><title>ได้&#45;&#45;ซื้อมั้ย</title>\n<path fill=\"none\" stroke=\"pink\" d=\"M36.3451,-15.9578C80.7052,-19.9521 155.313,-26.67 212.32,-31.803\"/>\n<text text-anchor=\"middle\" x=\"114.833\" y=\"-26.4804\" font-family=\"Times,serif\" font-size=\"8.00\">3.12</text>\n</g>\n<!-- ถต่อ -->\n<g id=\"node9\" class=\"node\"><title>ถต่อ</title>\n<ellipse fill=\"none\" stroke=\"black\" cx=\"-215.128\" cy=\"184.99\" rx=\"48.1917\" ry=\"18\"/>\n<text text-anchor=\"middle\" x=\"-215.128\" y=\"188.69\" font-family=\"Times,serif\" font-size=\"14.00\">ถต่อ</text>\n</g>\n<!-- ได้&#45;&#45;ถต่อ -->\n<g id=\"edge8\" class=\"edge\"><title>ได้&#45;&#45;ถต่อ</title>\n<path fill=\"none\" stroke=\"pink\" d=\"M-19.066,3.62299C-58.9088,40.4796 -156.164,130.446 -196.807,168.042\"/>\n<text text-anchor=\"middle\" x=\"-117.436\" y=\"83.2326\" font-family=\"Times,serif\" font-size=\"8.00\">3.16</text>\n</g>\n<!-- ไต่ -->\n<g id=\"node10\" class=\"node\"><title>ไต่</title>\n<ellipse fill=\"none\" stroke=\"black\" cx=\"222.192\" cy=\"160.092\" rx=\"38.1938\" ry=\"18\"/>\n<text text-anchor=\"middle\" x=\"222.192\" y=\"163.792\" font-family=\"Times,serif\" font-size=\"14.00\">ไต่</text>\n</g>\n<!-- ได้&#45;&#45;ไต่ -->\n<g id=\"edge9\" class=\"edge\"><title>ได้&#45;&#45;ไต่</title>\n<path fill=\"none\" stroke=\"pink\" d=\"M18.6626,3.08269C61.2685,35.9503 159.721,111.9 202.145,144.627\"/>\n<text text-anchor=\"middle\" x=\"100.904\" y=\"71.255\" font-family=\"Times,serif\" font-size=\"8.00\">3.17</text>\n</g>\n<!-- แต่ -->\n<g id=\"node11\" class=\"node\"><title>แต่</title>\n<ellipse fill=\"none\" stroke=\"black\" cx=\"60.6954\" cy=\"275.804\" rx=\"38.1938\" ry=\"18\"/>\n<text text-anchor=\"middle\" x=\"60.6954\" y=\"279.504\" font-family=\"Times,serif\" font-size=\"14.00\">แต่</text>\n</g>\n<!-- ได้&#45;&#45;แต่ -->\n<g id=\"edge10\" class=\"edge\"><title>ได้&#45;&#45;แต่</title>\n<path fill=\"none\" stroke=\"pink\" d=\"M2.30495,5.49545C13.4908,57.2785 45.6166,205.999 56.8006,257.774\"/>\n<text text-anchor=\"middle\" x=\"20.0528\" y=\"129.035\" font-family=\"Times,serif\" font-size=\"8.00\">3.19</text>\n</g>\n</g>\n</svg>\n"
          },
          "metadata": {
            "tags": []
          },
          "execution_count": 26
        }
      ]
    },
    {
      "metadata": {
        "id": "Spe4AuSjj6WD",
        "colab_type": "code",
        "colab": {
          "base_uri": "https://localhost:8080/",
          "height": 752
        },
        "outputId": "3abbde26-4a6a-41bf-c9fa-179119d66cd6"
      },
      "cell_type": "code",
      "source": [
        "show_graph (dict_sort[4][0], w2v_model)"
      ],
      "execution_count": 27,
      "outputs": [
        {
          "output_type": "stream",
          "text": [
            "Show word list and graph...\n",
            "ไป : ก็(2.24), แต่นอน(2.47), ซื้อมา(2.53), เมื่อยนิด(2.53), ไม่(2.58), ไม่งั้น(2.67), ไปอี(2.83), เหลือ(2.87), จะยอม(2.87), กันชั่ว(2.89), \n",
            "\n"
          ],
          "name": "stdout"
        },
        {
          "output_type": "execute_result",
          "data": {
            "text/plain": [
              "<graphviz.files.Source at 0x7f11411c3550>"
            ],
            "image/svg+xml": "<?xml version=\"1.0\" encoding=\"UTF-8\" standalone=\"no\"?>\n<!DOCTYPE svg PUBLIC \"-//W3C//DTD SVG 1.1//EN\"\n \"http://www.w3.org/Graphics/SVG/1.1/DTD/svg11.dtd\">\n<!-- Generated by graphviz version 2.38.0 (20140413.2041)\n -->\n<!-- Title: G Pages: 1 -->\n<svg width=\"623pt\" height=\"510pt\"\n viewBox=\"0.00 0.00 622.75 510.44\" xmlns=\"http://www.w3.org/2000/svg\" xmlns:xlink=\"http://www.w3.org/1999/xlink\">\n<g id=\"graph0\" class=\"graph\" transform=\"scale(1 1) rotate(0) translate(311.115 240.975)\">\n<title>G</title>\n<polygon fill=\"white\" stroke=\"none\" points=\"-311.115,269.462 -311.115,-240.975 311.633,-240.975 311.633,269.462 -311.115,269.462\"/>\n<!-- ไป -->\n<g id=\"node1\" class=\"node\"><title>ไป</title>\n<ellipse fill=\"none\" stroke=\"black\" cx=\"-6.64567\" cy=\"-9.04975\" rx=\"29.4969\" ry=\"18\"/>\n<text text-anchor=\"middle\" x=\"-6.64567\" y=\"-5.34975\" font-family=\"Times,serif\" font-size=\"14.00\">ไป</text>\n</g>\n<!-- ก็ -->\n<g id=\"node2\" class=\"node\"><title>ก็</title>\n<ellipse fill=\"none\" stroke=\"black\" cx=\"123.146\" cy=\"-69.7654\" rx=\"29.4969\" ry=\"18\"/>\n<text text-anchor=\"middle\" x=\"123.146\" y=\"-66.0654\" font-family=\"Times,serif\" font-size=\"14.00\">ก็</text>\n</g>\n<!-- ไป&#45;&#45;ก็ -->\n<g id=\"edge1\" class=\"edge\"><title>ไป&#45;&#45;ก็</title>\n<path fill=\"none\" stroke=\"red\" d=\"M16.8587,-20.0449C40.3813,-31.0486 76.3561,-47.8773 99.8169,-58.8521\"/>\n<text text-anchor=\"middle\" x=\"48.8378\" y=\"-42.0485\" font-family=\"Times,serif\" font-size=\"8.00\">2.24</text>\n</g>\n<!-- แต่นอน -->\n<g id=\"node3\" class=\"node\"><title>แต่นอน</title>\n<ellipse fill=\"none\" stroke=\"black\" cx=\"-54.0867\" cy=\"159.283\" rx=\"66.0889\" ry=\"18\"/>\n<text text-anchor=\"middle\" x=\"-54.0867\" y=\"162.983\" font-family=\"Times,serif\" font-size=\"14.00\">แต่นอน</text>\n</g>\n<!-- ไป&#45;&#45;แต่นอน -->\n<g id=\"edge2\" class=\"edge\"><title>ไป&#45;&#45;แต่นอน</title>\n<path fill=\"none\" stroke=\"pink\" d=\"M-11.7227,8.96478C-20.8298,41.2792 -39.8419,108.739 -48.9745,141.143\"/>\n<text text-anchor=\"middle\" x=\"-39.8486\" y=\"72.4541\" font-family=\"Times,serif\" font-size=\"8.00\">2.47</text>\n</g>\n<!-- ซื้อมา -->\n<g id=\"node4\" class=\"node\"><title>ซื้อมา</title>\n<ellipse fill=\"none\" stroke=\"black\" cx=\"-61.1677\" cy=\"-218.975\" rx=\"66.0889\" ry=\"18\"/>\n<text text-anchor=\"middle\" x=\"-61.1677\" y=\"-215.275\" font-family=\"Times,serif\" font-size=\"14.00\">ซื้อมา</text>\n</g>\n<!-- ไป&#45;&#45;ซื้อมา -->\n<g id=\"edge3\" class=\"edge\"><title>ไป&#45;&#45;ซื้อมา</title>\n<path fill=\"none\" stroke=\"pink\" d=\"M-11.2942,-26.9479C-21.5692,-66.5095 -46.118,-161.029 -56.4535,-200.824\"/>\n<text text-anchor=\"middle\" x=\"-43.3738\" y=\"-116.486\" font-family=\"Times,serif\" font-size=\"8.00\">2.53</text>\n</g>\n<!-- เมื่อยนิด -->\n<g id=\"node5\" class=\"node\"><title>เมื่อยนิด</title>\n<ellipse fill=\"none\" stroke=\"black\" cx=\"89.5002\" cy=\"-216.545\" rx=\"94.4839\" ry=\"18\"/>\n<text text-anchor=\"middle\" x=\"89.5002\" y=\"-212.845\" font-family=\"Times,serif\" font-size=\"14.00\">เมื่อยนิด</text>\n</g>\n<!-- ไป&#45;&#45;เมื่อยนิด -->\n<g id=\"edge4\" class=\"edge\"><title>ไป&#45;&#45;เมื่อยนิด</title>\n<path fill=\"none\" stroke=\"pink\" d=\"M1.3863,-26.3838C19.394,-65.2469 62.8469,-159.024 81.1502,-198.525\"/>\n<text text-anchor=\"middle\" x=\"31.7682\" y=\"-115.054\" font-family=\"Times,serif\" font-size=\"8.00\">2.53</text>\n</g>\n<!-- ไม่ -->\n<g id=\"node6\" class=\"node\"><title>ไม่</title>\n<ellipse fill=\"none\" stroke=\"black\" cx=\"-179.57\" cy=\"-141.17\" rx=\"38.1938\" ry=\"18\"/>\n<text text-anchor=\"middle\" x=\"-179.57\" y=\"-137.47\" font-family=\"Times,serif\" font-size=\"14.00\">ไม่</text>\n</g>\n<!-- ไป&#45;&#45;ไม่ -->\n<g id=\"edge5\" class=\"edge\"><title>ไป&#45;&#45;ไม่</title>\n<path fill=\"none\" stroke=\"pink\" d=\"M-25.1516,-23.189C-57.8247,-48.1525 -125.473,-99.8385 -159.336,-125.711\"/>\n<text text-anchor=\"middle\" x=\"-101.744\" y=\"-77.0501\" font-family=\"Times,serif\" font-size=\"8.00\">2.58</text>\n</g>\n<!-- ไม่งั้น -->\n<g id=\"node7\" class=\"node\"><title>ไม่งั้น</title>\n<ellipse fill=\"none\" stroke=\"black\" cx=\"-231.722\" cy=\"-6.29964\" rx=\"75.2868\" ry=\"18\"/>\n<text text-anchor=\"middle\" x=\"-231.722\" y=\"-2.59964\" font-family=\"Times,serif\" font-size=\"14.00\">ไม่งั้น</text>\n</g>\n<!-- ไป&#45;&#45;ไม่งั้น -->\n<g id=\"edge6\" class=\"edge\"><title>ไป&#45;&#45;ไม่งั้น</title>\n<path fill=\"none\" stroke=\"pink\" d=\"M-36.0704,-8.69022C-66.456,-8.31895 -115.106,-7.72452 -156.29,-7.2213\"/>\n<text text-anchor=\"middle\" x=\"-105.68\" y=\"-10.5558\" font-family=\"Times,serif\" font-size=\"8.00\">2.67</text>\n</g>\n<!-- ไปอี -->\n<g id=\"node8\" class=\"node\"><title>ไปอี</title>\n<ellipse fill=\"none\" stroke=\"black\" cx=\"259.538\" cy=\"-44.4731\" rx=\"48.1917\" ry=\"18\"/>\n<text text-anchor=\"middle\" x=\"259.538\" y=\"-40.7731\" font-family=\"Times,serif\" font-size=\"14.00\">ไปอี</text>\n</g>\n<!-- ไป&#45;&#45;ไปอี -->\n<g id=\"edge7\" class=\"edge\"><title>ไป&#45;&#45;ไปอี</title>\n<path fill=\"none\" stroke=\"pink\" d=\"M22.0935,-12.8743C68.2036,-19.0106 159.097,-31.1066 214.077,-38.4233\"/>\n<text text-anchor=\"middle\" x=\"108.585\" y=\"-28.2488\" font-family=\"Times,serif\" font-size=\"8.00\">2.83</text>\n</g>\n<!-- เหลือ -->\n<g id=\"node9\" class=\"node\"><title>เหลือ</title>\n<ellipse fill=\"none\" stroke=\"black\" cx=\"-207.032\" cy=\"160.148\" rx=\"57.3905\" ry=\"18\"/>\n<text text-anchor=\"middle\" x=\"-207.032\" y=\"163.848\" font-family=\"Times,serif\" font-size=\"14.00\">เหลือ</text>\n</g>\n<!-- ไป&#45;&#45;เหลือ -->\n<g id=\"edge8\" class=\"edge\"><title>ไป&#45;&#45;เหลือ</title>\n<path fill=\"none\" stroke=\"pink\" d=\"M-24.0781,5.66942C-61.1189,36.9449 -147.484,109.868 -186.842,143.1\"/>\n<text text-anchor=\"middle\" x=\"-114.96\" y=\"71.7848\" font-family=\"Times,serif\" font-size=\"8.00\">2.87</text>\n</g>\n<!-- จะยอม -->\n<g id=\"node10\" class=\"node\"><title>จะยอม</title>\n<ellipse fill=\"none\" stroke=\"black\" cx=\"203.634\" cy=\"139.386\" rx=\"57.3905\" ry=\"18\"/>\n<text text-anchor=\"middle\" x=\"203.634\" y=\"143.086\" font-family=\"Times,serif\" font-size=\"14.00\">จะยอม</text>\n</g>\n<!-- ไป&#45;&#45;จะยอม -->\n<g id=\"edge9\" class=\"edge\"><title>ไป&#45;&#45;จะยอม</title>\n<path fill=\"none\" stroke=\"pink\" d=\"M12.76,4.64865C51.4975,31.9932 138.278,93.2515 180.15,122.808\"/>\n<text text-anchor=\"middle\" x=\"86.955\" y=\"61.1285\" font-family=\"Times,serif\" font-size=\"8.00\">2.87</text>\n</g>\n<!-- กันชั่ว -->\n<g id=\"node11\" class=\"node\"><title>กันชั่ว</title>\n<ellipse fill=\"none\" stroke=\"black\" cx=\"64.4052\" cy=\"247.462\" rx=\"75.2868\" ry=\"18\"/>\n<text text-anchor=\"middle\" x=\"64.4052\" y=\"251.162\" font-family=\"Times,serif\" font-size=\"14.00\">กันชั่ว</text>\n</g>\n<!-- ไป&#45;&#45;กันชั่ว -->\n<g id=\"edge10\" class=\"edge\"><title>ไป&#45;&#45;กันชั่ว</title>\n<path fill=\"none\" stroke=\"pink\" d=\"M-1.64951,8.98769C11.396,56.0855 46.3752,182.369 59.4146,229.445\"/>\n<text text-anchor=\"middle\" x=\"19.3825\" y=\"116.616\" font-family=\"Times,serif\" font-size=\"8.00\">2.89</text>\n</g>\n</g>\n</svg>\n"
          },
          "metadata": {
            "tags": []
          },
          "execution_count": 27
        }
      ]
    },
    {
      "metadata": {
        "id": "UIx31Xmyj6Z9",
        "colab_type": "code",
        "colab": {
          "base_uri": "https://localhost:8080/",
          "height": 808
        },
        "outputId": "09e08282-0c11-4851-c4e3-74cee2de1451"
      },
      "cell_type": "code",
      "source": [
        "show_graph (dict_sort[5][0], w2v_model)"
      ],
      "execution_count": 28,
      "outputs": [
        {
          "output_type": "stream",
          "text": [
            "Show word list and graph...\n",
            "จะ : ก็(2.48), หรือรถ(2.69), เหลือบ้าง(2.82), หน่อยยอด(2.83), จะมี(2.88), ไม่รู้(2.90), แต่(3.02), กำลัง(3.08), ครับดังนั้น(3.09), กล้า(3.10), \n",
            "\n"
          ],
          "name": "stdout"
        },
        {
          "output_type": "execute_result",
          "data": {
            "text/plain": [
              "<graphviz.files.Source at 0x7f1140981fd0>"
            ],
            "image/svg+xml": "<?xml version=\"1.0\" encoding=\"UTF-8\" standalone=\"no\"?>\n<!DOCTYPE svg PUBLIC \"-//W3C//DTD SVG 1.1//EN\"\n \"http://www.w3.org/Graphics/SVG/1.1/DTD/svg11.dtd\">\n<!-- Generated by graphviz version 2.38.0 (20140413.2041)\n -->\n<!-- Title: G Pages: 1 -->\n<svg width=\"652pt\" height=\"552pt\"\n viewBox=\"0.00 0.00 652.26 551.79\" xmlns=\"http://www.w3.org/2000/svg\" xmlns:xlink=\"http://www.w3.org/1999/xlink\">\n<g id=\"graph0\" class=\"graph\" transform=\"scale(1 1) rotate(0) translate(317.714 263.945)\">\n<title>G</title>\n<polygon fill=\"white\" stroke=\"none\" points=\"-317.714,287.848 -317.714,-263.945 334.548,-263.945 334.548,287.848 -317.714,287.848\"/>\n<!-- จะ -->\n<g id=\"node1\" class=\"node\"><title>จะ</title>\n<ellipse fill=\"none\" stroke=\"black\" cx=\"-5.06691\" cy=\"-6.33649\" rx=\"29.4969\" ry=\"18\"/>\n<text text-anchor=\"middle\" x=\"-5.06691\" y=\"-2.63649\" font-family=\"Times,serif\" font-size=\"14.00\">จะ</text>\n</g>\n<!-- ก็ -->\n<g id=\"node2\" class=\"node\"><title>ก็</title>\n<ellipse fill=\"none\" stroke=\"black\" cx=\"135.303\" cy=\"-88.0756\" rx=\"29.4969\" ry=\"18\"/>\n<text text-anchor=\"middle\" x=\"135.303\" y=\"-84.3756\" font-family=\"Times,serif\" font-size=\"14.00\">ก็</text>\n</g>\n<!-- จะ&#45;&#45;ก็ -->\n<g id=\"edge1\" class=\"edge\"><title>จะ&#45;&#45;ก็</title>\n<path fill=\"none\" stroke=\"red\" d=\"M16.2522,-18.7509C42.6354,-34.1142 87.3074,-60.1273 113.783,-75.5443\"/>\n<text text-anchor=\"middle\" x=\"55.5176\" y=\"-49.7476\" font-family=\"Times,serif\" font-size=\"8.00\">2.48</text>\n</g>\n<!-- หรือรถ -->\n<g id=\"node3\" class=\"node\"><title>หรือรถ</title>\n<ellipse fill=\"none\" stroke=\"black\" cx=\"-60.3113\" cy=\"179.448\" rx=\"66.0889\" ry=\"18\"/>\n<text text-anchor=\"middle\" x=\"-60.3113\" y=\"183.148\" font-family=\"Times,serif\" font-size=\"14.00\">หรือรถ</text>\n</g>\n<!-- จะ&#45;&#45;หรือรถ -->\n<g id=\"edge2\" class=\"edge\"><title>จะ&#45;&#45;หรือรถ</title>\n<path fill=\"none\" stroke=\"pink\" d=\"M-10.364,11.4773C-20.8964,46.8974 -44.3635,125.816 -54.9491,161.415\"/>\n<text text-anchor=\"middle\" x=\"-42.1565\" y=\"83.8461\" font-family=\"Times,serif\" font-size=\"8.00\">2.69</text>\n</g>\n<!-- เหลือบ้าง -->\n<g id=\"node4\" class=\"node\"><title>เหลือบ้าง</title>\n<ellipse fill=\"none\" stroke=\"black\" cx=\"-68.007\" cy=\"-239.441\" rx=\"94.4839\" ry=\"18\"/>\n<text text-anchor=\"middle\" x=\"-68.007\" y=\"-235.741\" font-family=\"Times,serif\" font-size=\"14.00\">เหลือบ้าง</text>\n</g>\n<!-- จะ&#45;&#45;เหลือบ้าง -->\n<g id=\"edge3\" class=\"edge\"><title>จะ&#45;&#45;เหลือบ้าง</title>\n<path fill=\"none\" stroke=\"pink\" d=\"M-9.90121,-24.2407C-21.5881,-67.5243 -51.2772,-177.481 -63.0694,-221.154\"/>\n<text text-anchor=\"middle\" x=\"-45.9853\" y=\"-125.297\" font-family=\"Times,serif\" font-size=\"8.00\">2.82</text>\n</g>\n<!-- หน่อยยอด -->\n<g id=\"node5\" class=\"node\"><title>หน่อยยอด</title>\n<ellipse fill=\"none\" stroke=\"black\" cx=\"101.722\" cy=\"-241.945\" rx=\"85.2851\" ry=\"18\"/>\n<text text-anchor=\"middle\" x=\"101.722\" y=\"-238.245\" font-family=\"Times,serif\" font-size=\"14.00\">หน่อยยอด</text>\n</g>\n<!-- จะ&#45;&#45;หน่อยยอด -->\n<g id=\"edge4\" class=\"edge\"><title>จะ&#45;&#45;หน่อยยอด</title>\n<path fill=\"none\" stroke=\"pink\" d=\"M2.95963,-24.0454C22.7015,-67.602 73.465,-179.601 93.4557,-223.707\"/>\n<text text-anchor=\"middle\" x=\"38.7077\" y=\"-126.476\" font-family=\"Times,serif\" font-size=\"8.00\">2.83</text>\n</g>\n<!-- จะมี -->\n<g id=\"node6\" class=\"node\"><title>จะมี</title>\n<ellipse fill=\"none\" stroke=\"black\" cx=\"-201.492\" cy=\"-155.872\" rx=\"48.1917\" ry=\"18\"/>\n<text text-anchor=\"middle\" x=\"-201.492\" y=\"-152.172\" font-family=\"Times,serif\" font-size=\"14.00\">จะมี</text>\n</g>\n<!-- จะ&#45;&#45;จะมี -->\n<g id=\"edge5\" class=\"edge\"><title>จะ&#45;&#45;จะมี</title>\n<path fill=\"none\" stroke=\"pink\" d=\"M-23.5461,-20.4044C-60.1237,-48.2504 -141.552,-110.24 -180.262,-139.71\"/>\n<text text-anchor=\"middle\" x=\"-111.404\" y=\"-82.6572\" font-family=\"Times,serif\" font-size=\"8.00\">2.88</text>\n</g>\n<!-- ไม่รู้ -->\n<g id=\"node7\" class=\"node\"><title>ไม่รู้</title>\n<ellipse fill=\"none\" stroke=\"black\" cx=\"-247.42\" cy=\"-4.52402\" rx=\"66.0889\" ry=\"18\"/>\n<text text-anchor=\"middle\" x=\"-247.42\" y=\"-0.824023\" font-family=\"Times,serif\" font-size=\"14.00\">ไม่รู้</text>\n</g>\n<!-- จะ&#45;&#45;ไม่รู้ -->\n<g id=\"edge6\" class=\"edge\"><title>จะ&#45;&#45;ไม่รู้</title>\n<path fill=\"none\" stroke=\"pink\" d=\"M-34.7842,-6.11425C-70.9969,-5.84343 -133.263,-5.37776 -181.086,-5.02011\"/>\n<text text-anchor=\"middle\" x=\"-117.435\" y=\"-8.16718\" font-family=\"Times,serif\" font-size=\"8.00\">2.90</text>\n</g>\n<!-- แต่ -->\n<g id=\"node8\" class=\"node\"><title>แต่</title>\n<ellipse fill=\"none\" stroke=\"black\" cx=\"276.404\" cy=\"-32.836\" rx=\"38.1938\" ry=\"18\"/>\n<text text-anchor=\"middle\" x=\"276.404\" y=\"-29.136\" font-family=\"Times,serif\" font-size=\"14.00\">แต่</text>\n</g>\n<!-- จะ&#45;&#45;แต่ -->\n<g id=\"edge7\" class=\"edge\"><title>จะ&#45;&#45;แต่</title>\n<path fill=\"none\" stroke=\"pink\" d=\"M23.9952,-9.0726C75.2629,-13.8993 181.711,-23.9211 238.61,-29.2779\"/>\n<text text-anchor=\"middle\" x=\"121.803\" y=\"-21.7752\" font-family=\"Times,serif\" font-size=\"8.00\">3.02</text>\n</g>\n<!-- กำลัง -->\n<g id=\"node9\" class=\"node\"><title>กำลัง</title>\n<ellipse fill=\"none\" stroke=\"black\" cx=\"-222.209\" cy=\"170.905\" rx=\"66.0889\" ry=\"18\"/>\n<text text-anchor=\"middle\" x=\"-222.209\" y=\"174.605\" font-family=\"Times,serif\" font-size=\"14.00\">กำลัง</text>\n</g>\n<!-- จะ&#45;&#45;กำลัง -->\n<g id=\"edge8\" class=\"edge\"><title>จะ&#45;&#45;กำลัง</title>\n<path fill=\"none\" stroke=\"pink\" d=\"M-22.8366,8.16796C-62.5418,40.5773 -158.317,118.754 -201.03,153.618\"/>\n<text text-anchor=\"middle\" x=\"-121.433\" y=\"78.2932\" font-family=\"Times,serif\" font-size=\"8.00\">3.08</text>\n</g>\n<!-- ครับดังนั้น -->\n<g id=\"node10\" class=\"node\"><title>ครับดังนั้น</title>\n<ellipse fill=\"none\" stroke=\"black\" cx=\"218.108\" cy=\"152.829\" rx=\"112.38\" ry=\"18\"/>\n<text text-anchor=\"middle\" x=\"218.108\" y=\"156.529\" font-family=\"Times,serif\" font-size=\"14.00\">ครับดังนั้น</text>\n</g>\n<!-- จะ&#45;&#45;ครับดังนั้น -->\n<g id=\"edge9\" class=\"edge\"><title>จะ&#45;&#45;ครับดังนั้น</title>\n<path fill=\"none\" stroke=\"pink\" d=\"M14.348,7.50995C54.8586,36.4016 148.344,103.074 193.205,135.069\"/>\n<text text-anchor=\"middle\" x=\"94.2765\" y=\"68.6893\" font-family=\"Times,serif\" font-size=\"8.00\">3.09</text>\n</g>\n<!-- กล้า -->\n<g id=\"node11\" class=\"node\"><title>กล้า</title>\n<ellipse fill=\"none\" stroke=\"black\" cx=\"72.9704\" cy=\"265.848\" rx=\"48.1917\" ry=\"18\"/>\n<text text-anchor=\"middle\" x=\"72.9704\" y=\"269.548\" font-family=\"Times,serif\" font-size=\"14.00\">กล้า</text>\n</g>\n<!-- จะ&#45;&#45;กล้า -->\n<g id=\"edge10\" class=\"edge\"><title>จะ&#45;&#45;กล้า</title>\n<path fill=\"none\" stroke=\"pink\" d=\"M0.0533335,11.5223C14.1932,60.8405 53.6689,198.527 67.8313,247.924\"/>\n<text text-anchor=\"middle\" x=\"24.4423\" y=\"127.123\" font-family=\"Times,serif\" font-size=\"8.00\">3.10</text>\n</g>\n</g>\n</svg>\n"
          },
          "metadata": {
            "tags": []
          },
          "execution_count": 28
        }
      ]
    },
    {
      "metadata": {
        "id": "zmpwQsjoj6dV",
        "colab_type": "code",
        "colab": {
          "base_uri": "https://localhost:8080/",
          "height": 685
        },
        "outputId": "82f8e7f4-0871-47ad-e7b9-5236eb7f5d6a"
      },
      "cell_type": "code",
      "source": [
        "show_graph (dict_sort[6][0], w2v_model)"
      ],
      "execution_count": 29,
      "outputs": [
        {
          "output_type": "stream",
          "text": [
            "Show word list and graph...\n",
            "ก็ : ไม่(2.15), ครับ(2.20), ไป(2.24), เลย(2.29), ซื้อมา(2.35), ค่อย(2.41), แต่(2.43), จะ(2.48), ผมยัง(2.50), จริงๆ(2.53), \n",
            "\n"
          ],
          "name": "stdout"
        },
        {
          "output_type": "execute_result",
          "data": {
            "text/plain": [
              "<graphviz.files.Source at 0x7f11227962b0>"
            ],
            "image/svg+xml": "<?xml version=\"1.0\" encoding=\"UTF-8\" standalone=\"no\"?>\n<!DOCTYPE svg PUBLIC \"-//W3C//DTD SVG 1.1//EN\"\n \"http://www.w3.org/Graphics/SVG/1.1/DTD/svg11.dtd\">\n<!-- Generated by graphviz version 2.38.0 (20140413.2041)\n -->\n<!-- Title: G Pages: 1 -->\n<svg width=\"522pt\" height=\"460pt\"\n viewBox=\"0.00 0.00 521.56 460.29\" xmlns=\"http://www.w3.org/2000/svg\" xmlns:xlink=\"http://www.w3.org/1999/xlink\">\n<g id=\"graph0\" class=\"graph\" transform=\"scale(1 1) rotate(0) translate(260.386 221.287)\">\n<title>G</title>\n<polygon fill=\"white\" stroke=\"none\" points=\"-260.386,238.998 -260.386,-221.287 261.174,-221.287 261.174,238.998 -260.386,238.998\"/>\n<!-- ก็ -->\n<g id=\"node1\" class=\"node\"><title>ก็</title>\n<ellipse fill=\"none\" stroke=\"black\" cx=\"-0.925416\" cy=\"-6.56697\" rx=\"29.4969\" ry=\"18\"/>\n<text text-anchor=\"middle\" x=\"-0.925416\" y=\"-2.86697\" font-family=\"Times,serif\" font-size=\"14.00\">ก็</text>\n</g>\n<!-- ไม่ -->\n<g id=\"node2\" class=\"node\"><title>ไม่</title>\n<ellipse fill=\"none\" stroke=\"black\" cx=\"132.106\" cy=\"-93.7161\" rx=\"38.1938\" ry=\"18\"/>\n<text text-anchor=\"middle\" x=\"132.106\" y=\"-90.0161\" font-family=\"Times,serif\" font-size=\"14.00\">ไม่</text>\n</g>\n<!-- ก็&#45;&#45;ไม่ -->\n<g id=\"edge1\" class=\"edge\"><title>ก็&#45;&#45;ไม่</title>\n<path fill=\"none\" stroke=\"red\" d=\"M19.2792,-19.803C43.5562,-35.707 84.173,-62.3151 109.48,-78.8939\"/>\n<text text-anchor=\"middle\" x=\"54.8797\" y=\"-51.9485\" font-family=\"Times,serif\" font-size=\"8.00\">2.15</text>\n</g>\n<!-- ครับ -->\n<g id=\"node3\" class=\"node\"><title>ครับ</title>\n<ellipse fill=\"none\" stroke=\"black\" cx=\"-48.1549\" cy=\"144.717\" rx=\"48.1917\" ry=\"18\"/>\n<text text-anchor=\"middle\" x=\"-48.1549\" y=\"148.417\" font-family=\"Times,serif\" font-size=\"14.00\">ครับ</text>\n</g>\n<!-- ก็&#45;&#45;ครับ -->\n<g id=\"edge2\" class=\"edge\"><title>ก็&#45;&#45;ครับ</title>\n<path fill=\"none\" stroke=\"pink\" d=\"M-6.52873,11.3813C-15.6185,40.4972 -33.4739,97.6908 -42.5589,126.792\"/>\n<text text-anchor=\"middle\" x=\"-34.0438\" y=\"66.4865\" font-family=\"Times,serif\" font-size=\"8.00\">2.20</text>\n</g>\n<!-- ไป -->\n<g id=\"node4\" class=\"node\"><title>ไป</title>\n<ellipse fill=\"none\" stroke=\"black\" cx=\"-56.0657\" cy=\"-183.659\" rx=\"29.4969\" ry=\"18\"/>\n<text text-anchor=\"middle\" x=\"-56.0657\" y=\"-179.959\" font-family=\"Times,serif\" font-size=\"14.00\">ไป</text>\n</g>\n<!-- ก็&#45;&#45;ไป -->\n<g id=\"edge3\" class=\"edge\"><title>ก็&#45;&#45;ไป</title>\n<path fill=\"none\" stroke=\"pink\" d=\"M-6.51601,-24.522C-17.1118,-58.5522 -39.9987,-132.057 -50.5423,-165.919\"/>\n<text text-anchor=\"middle\" x=\"-38.0292\" y=\"-97.8207\" font-family=\"Times,serif\" font-size=\"8.00\">2.24</text>\n</g>\n<!-- เลย -->\n<g id=\"node5\" class=\"node\"><title>เลย</title>\n<ellipse fill=\"none\" stroke=\"black\" cx=\"71.418\" cy=\"-199.287\" rx=\"38.1938\" ry=\"18\"/>\n<text text-anchor=\"middle\" x=\"71.418\" y=\"-195.587\" font-family=\"Times,serif\" font-size=\"14.00\">เลย</text>\n</g>\n<!-- ก็&#45;&#45;เลย -->\n<g id=\"edge4\" class=\"edge\"><title>ก็&#45;&#45;เลย</title>\n<path fill=\"none\" stroke=\"pink\" d=\"M5.75081,-24.3522C19.5325,-61.0662 50.99,-144.868 64.7579,-181.545\"/>\n<text text-anchor=\"middle\" x=\"25.7544\" y=\"-105.549\" font-family=\"Times,serif\" font-size=\"8.00\">2.29</text>\n</g>\n<!-- ซื้อมา -->\n<g id=\"node6\" class=\"node\"><title>ซื้อมา</title>\n<ellipse fill=\"none\" stroke=\"black\" cx=\"-164.376\" cy=\"-125.799\" rx=\"66.0889\" ry=\"18\"/>\n<text text-anchor=\"middle\" x=\"-164.376\" y=\"-122.099\" font-family=\"Times,serif\" font-size=\"14.00\">ซื้อมา</text>\n</g>\n<!-- ก็&#45;&#45;ซื้อมา -->\n<g id=\"edge5\" class=\"edge\"><title>ก็&#45;&#45;ซื้อมา</title>\n<path fill=\"none\" stroke=\"pink\" d=\"M-19.9951,-20.4778C-50.1429,-42.4698 -108.72,-85.1998 -141.23,-108.915\"/>\n<text text-anchor=\"middle\" x=\"-90.1124\" y=\"-67.2964\" font-family=\"Times,serif\" font-size=\"8.00\">2.35</text>\n</g>\n<!-- ค่อย -->\n<g id=\"node7\" class=\"node\"><title>ค่อย</title>\n<ellipse fill=\"none\" stroke=\"black\" cx=\"-208.29\" cy=\"-3.27364\" rx=\"48.1917\" ry=\"18\"/>\n<text text-anchor=\"middle\" x=\"-208.29\" y=\"0.42636\" font-family=\"Times,serif\" font-size=\"14.00\">ค่อย</text>\n</g>\n<!-- ก็&#45;&#45;ค่อย -->\n<g id=\"edge6\" class=\"edge\"><title>ก็&#45;&#45;ค่อย</title>\n<path fill=\"none\" stroke=\"pink\" d=\"M-30.1959,-6.1021C-63.9115,-5.56663 -119.815,-4.67878 -160.001,-4.04055\"/>\n<text text-anchor=\"middle\" x=\"-104.599\" y=\"-7.67132\" font-family=\"Times,serif\" font-size=\"8.00\">2.41</text>\n</g>\n<!-- แต่ -->\n<g id=\"node8\" class=\"node\"><title>แต่</title>\n<ellipse fill=\"none\" stroke=\"black\" cx=\"218.827\" cy=\"-11.1142\" rx=\"38.1938\" ry=\"18\"/>\n<text text-anchor=\"middle\" x=\"218.827\" y=\"-7.41418\" font-family=\"Times,serif\" font-size=\"14.00\">แต่</text>\n</g>\n<!-- ก็&#45;&#45;แต่ -->\n<g id=\"edge7\" class=\"edge\"><title>ก็&#45;&#45;แต่</title>\n<path fill=\"none\" stroke=\"pink\" d=\"M28.7114,-7.18022C67.9582,-7.99233 137.236,-9.42587 180.445,-10.32\"/>\n<text text-anchor=\"middle\" x=\"95.0784\" y=\"-11.3501\" font-family=\"Times,serif\" font-size=\"8.00\">2.43</text>\n</g>\n<!-- จะ -->\n<g id=\"node9\" class=\"node\"><title>จะ</title>\n<ellipse fill=\"none\" stroke=\"black\" cx=\"-175.818\" cy=\"136.197\" rx=\"29.4969\" ry=\"18\"/>\n<text text-anchor=\"middle\" x=\"-175.818\" y=\"139.897\" font-family=\"Times,serif\" font-size=\"14.00\">จะ</text>\n</g>\n<!-- ก็&#45;&#45;จะ -->\n<g id=\"edge8\" class=\"edge\"><title>ก็&#45;&#45;จะ</title>\n<path fill=\"none\" stroke=\"pink\" d=\"M-18.6575,7.90767C-52.1783,35.2705 -124.482,94.2918 -158.039,121.684\"/>\n<text text-anchor=\"middle\" x=\"-97.8483\" y=\"62.1959\" font-family=\"Times,serif\" font-size=\"8.00\">2.48</text>\n</g>\n<!-- ผมยัง -->\n<g id=\"node10\" class=\"node\"><title>ผมยัง</title>\n<ellipse fill=\"none\" stroke=\"black\" cx=\"172.983\" cy=\"125.504\" rx=\"57.3905\" ry=\"18\"/>\n<text text-anchor=\"middle\" x=\"172.983\" y=\"129.204\" font-family=\"Times,serif\" font-size=\"14.00\">ผมยัง</text>\n</g>\n<!-- ก็&#45;&#45;ผมยัง -->\n<g id=\"edge9\" class=\"edge\"><title>ก็&#45;&#45;ผมยัง</title>\n<path fill=\"none\" stroke=\"pink\" d=\"M17.6858,7.56696C50.0192,32.1219 116.411,82.5413 150.974,108.79\"/>\n<text text-anchor=\"middle\" x=\"74.83\" y=\"55.5784\" font-family=\"Times,serif\" font-size=\"8.00\">2.50</text>\n</g>\n<!-- จริงๆ -->\n<g id=\"node11\" class=\"node\"><title>จริงๆ</title>\n<ellipse fill=\"none\" stroke=\"black\" cx=\"58.2953\" cy=\"216.998\" rx=\"57.3905\" ry=\"18\"/>\n<text text-anchor=\"middle\" x=\"58.2953\" y=\"220.698\" font-family=\"Times,serif\" font-size=\"14.00\">จริงๆ</text>\n</g>\n<!-- ก็&#45;&#45;จริงๆ -->\n<g id=\"edge10\" class=\"edge\"><title>ก็&#45;&#45;จริงๆ</title>\n<path fill=\"none\" stroke=\"pink\" d=\"M3.82076,11.3504C14.9093,53.2111 42.4157,157.051 53.5265,198.996\"/>\n<text text-anchor=\"middle\" x=\"19.1737\" y=\"102.573\" font-family=\"Times,serif\" font-size=\"8.00\">2.53</text>\n</g>\n</g>\n</svg>\n"
          },
          "metadata": {
            "tags": []
          },
          "execution_count": 29
        }
      ]
    },
    {
      "metadata": {
        "id": "7S5UGUlrj6gd",
        "colab_type": "code",
        "colab": {
          "base_uri": "https://localhost:8080/",
          "height": 701
        },
        "outputId": "5b00980b-8e72-4fbe-8fd2-7fbdd035ef85"
      },
      "cell_type": "code",
      "source": [
        "show_graph (dict_sort[7][0], w2v_model)"
      ],
      "execution_count": 30,
      "outputs": [
        {
          "output_type": "stream",
          "text": [
            "Show word list and graph...\n",
            "การ : ผู้(2.19), ทั่ๆ(2.24), การบริ(2.34), เพื่อ(2.35), และ(2.37), ผู้ชนะ(2.51), แผน(2.54), โภค(2.61), สระบุรียังรอนัก(2.62), พการ(2.62), \n",
            "\n"
          ],
          "name": "stdout"
        },
        {
          "output_type": "execute_result",
          "data": {
            "text/plain": [
              "<graphviz.files.Source at 0x7f111ecb7630>"
            ],
            "image/svg+xml": "<?xml version=\"1.0\" encoding=\"UTF-8\" standalone=\"no\"?>\n<!DOCTYPE svg PUBLIC \"-//W3C//DTD SVG 1.1//EN\"\n \"http://www.w3.org/Graphics/SVG/1.1/DTD/svg11.dtd\">\n<!-- Generated by graphviz version 2.38.0 (20140413.2041)\n -->\n<!-- Title: G Pages: 1 -->\n<svg width=\"627pt\" height=\"472pt\"\n viewBox=\"0.00 0.00 626.59 472.29\" xmlns=\"http://www.w3.org/2000/svg\" xmlns:xlink=\"http://www.w3.org/1999/xlink\">\n<g id=\"graph0\" class=\"graph\" transform=\"scale(1 1) rotate(0) translate(290.573 225.688)\">\n<title>G</title>\n<polygon fill=\"white\" stroke=\"none\" points=\"-290.573,246.606 -290.573,-225.688 336.022,-225.688 336.022,246.606 -290.573,246.606\"/>\n<!-- การ -->\n<g id=\"node1\" class=\"node\"><title>การ</title>\n<ellipse fill=\"none\" stroke=\"black\" cx=\"-1.41289\" cy=\"-8.41177\" rx=\"38.1938\" ry=\"18\"/>\n<text text-anchor=\"middle\" x=\"-1.41289\" y=\"-4.71177\" font-family=\"Times,serif\" font-size=\"14.00\">การ</text>\n</g>\n<!-- ผู้ -->\n<g id=\"node2\" class=\"node\"><title>ผู้</title>\n<ellipse fill=\"none\" stroke=\"black\" cx=\"132.24\" cy=\"-92.0639\" rx=\"38.1938\" ry=\"18\"/>\n<text text-anchor=\"middle\" x=\"132.24\" y=\"-88.3639\" font-family=\"Times,serif\" font-size=\"14.00\">ผู้</text>\n</g>\n<!-- การ&#45;&#45;ผู้ -->\n<g id=\"edge1\" class=\"edge\"><title>การ&#45;&#45;ผู้</title>\n<path fill=\"none\" stroke=\"red\" d=\"M21.8676,-22.9829C46.3987,-38.3366 84.7962,-62.3693 109.226,-77.6598\"/>\n<text text-anchor=\"middle\" x=\"56.0469\" y=\"-52.9213\" font-family=\"Times,serif\" font-size=\"8.00\">2.19</text>\n</g>\n<!-- ทั่ๆ -->\n<g id=\"node3\" class=\"node\"><title>ทั่ๆ</title>\n<ellipse fill=\"none\" stroke=\"black\" cx=\"-47.9839\" cy=\"140.82\" rx=\"48.1917\" ry=\"18\"/>\n<text text-anchor=\"middle\" x=\"-47.9839\" y=\"144.52\" font-family=\"Times,serif\" font-size=\"14.00\">ทั่ๆ</text>\n</g>\n<!-- การ&#45;&#45;ทั่ๆ -->\n<g id=\"edge2\" class=\"edge\"><title>การ&#45;&#45;ทั่ๆ</title>\n<path fill=\"none\" stroke=\"pink\" d=\"M-7.03044,9.58901C-15.9816,38.2719 -33.3828,94.0319 -42.3465,122.755\"/>\n<text text-anchor=\"middle\" x=\"-34.1884\" y=\"63.572\" font-family=\"Times,serif\" font-size=\"8.00\">2.24</text>\n</g>\n<!-- การบริ -->\n<g id=\"node4\" class=\"node\"><title>การบริ</title>\n<ellipse fill=\"none\" stroke=\"black\" cx=\"-60.7008\" cy=\"-198.209\" rx=\"66.0889\" ry=\"18\"/>\n<text text-anchor=\"middle\" x=\"-60.7008\" y=\"-194.509\" font-family=\"Times,serif\" font-size=\"14.00\">การบริ</text>\n</g>\n<!-- การ&#45;&#45;การบริ -->\n<g id=\"edge3\" class=\"edge\"><title>การ&#45;&#45;การบริ</title>\n<path fill=\"none\" stroke=\"pink\" d=\"M-6.99055,-26.2675C-18.2903,-62.4414 -43.7713,-144.013 -55.0948,-180.263\"/>\n<text text-anchor=\"middle\" x=\"-40.5427\" y=\"-105.865\" font-family=\"Times,serif\" font-size=\"8.00\">2.34</text>\n</g>\n<!-- เพื่อ -->\n<g id=\"node5\" class=\"node\"><title>เพื่อ</title>\n<ellipse fill=\"none\" stroke=\"black\" cx=\"74.424\" cy=\"-203.688\" rx=\"57.3905\" ry=\"18\"/>\n<text text-anchor=\"middle\" x=\"74.424\" y=\"-199.988\" font-family=\"Times,serif\" font-size=\"14.00\">เพื่อ</text>\n</g>\n<!-- การ&#45;&#45;เพื่อ -->\n<g id=\"edge4\" class=\"edge\"><title>การ&#45;&#45;เพื่อ</title>\n<path fill=\"none\" stroke=\"pink\" d=\"M5.58573,-26.4329C20.033,-63.6338 53.0095,-148.547 67.4423,-185.711\"/>\n<text text-anchor=\"middle\" x=\"27.014\" y=\"-108.672\" font-family=\"Times,serif\" font-size=\"8.00\">2.35</text>\n</g>\n<!-- และ -->\n<g id=\"node6\" class=\"node\"><title>และ</title>\n<ellipse fill=\"none\" stroke=\"black\" cx=\"-162.959\" cy=\"-122.974\" rx=\"38.1938\" ry=\"18\"/>\n<text text-anchor=\"middle\" x=\"-162.959\" y=\"-119.274\" font-family=\"Times,serif\" font-size=\"14.00\">และ</text>\n</g>\n<!-- การ&#45;&#45;และ -->\n<g id=\"edge5\" class=\"edge\"><title>การ&#45;&#45;และ</title>\n<path fill=\"none\" stroke=\"pink\" d=\"M-22.865,-23.6248C-53.8488,-45.5973 -110.786,-85.9752 -141.676,-107.881\"/>\n<text text-anchor=\"middle\" x=\"-91.7704\" y=\"-68.3528\" font-family=\"Times,serif\" font-size=\"8.00\">2.37</text>\n</g>\n<!-- ผู้ชนะ -->\n<g id=\"node7\" class=\"node\"><title>ผู้ชนะ</title>\n<ellipse fill=\"none\" stroke=\"black\" cx=\"-220.279\" cy=\"-3.90906\" rx=\"66.0889\" ry=\"18\"/>\n<text text-anchor=\"middle\" x=\"-220.279\" y=\"-0.209056\" font-family=\"Times,serif\" font-size=\"14.00\">ผู้ชนะ</text>\n</g>\n<!-- การ&#45;&#45;ผู้ชนะ -->\n<g id=\"edge6\" class=\"edge\"><title>การ&#45;&#45;ผู้ชนะ</title>\n<path fill=\"none\" stroke=\"pink\" d=\"M-39.7869,-7.62231C-71.2944,-6.97411 -116.648,-6.04106 -154.008,-5.27244\"/>\n<text text-anchor=\"middle\" x=\"-106.398\" y=\"-9.04737\" font-family=\"Times,serif\" font-size=\"8.00\">2.51</text>\n</g>\n<!-- แผน -->\n<g id=\"node8\" class=\"node\"><title>แผน</title>\n<ellipse fill=\"none\" stroke=\"black\" cx=\"230.069\" cy=\"-15.9076\" rx=\"38.1938\" ry=\"18\"/>\n<text text-anchor=\"middle\" x=\"230.069\" y=\"-12.2076\" font-family=\"Times,serif\" font-size=\"14.00\">แผน</text>\n</g>\n<!-- การ&#45;&#45;แผน -->\n<g id=\"edge7\" class=\"edge\"><title>การ&#45;&#45;แผน</title>\n<path fill=\"none\" stroke=\"pink\" d=\"M37.0715,-9.65796C79.882,-11.0442 148.645,-13.2709 191.493,-14.6584\"/>\n<text text-anchor=\"middle\" x=\"104.782\" y=\"-14.7582\" font-family=\"Times,serif\" font-size=\"8.00\">2.54</text>\n</g>\n<!-- โภค -->\n<g id=\"node9\" class=\"node\"><title>โภค</title>\n<ellipse fill=\"none\" stroke=\"black\" cx=\"-183.25\" cy=\"147.487\" rx=\"38.1938\" ry=\"18\"/>\n<text text-anchor=\"middle\" x=\"-183.25\" y=\"151.187\" font-family=\"Times,serif\" font-size=\"14.00\">โภค</text>\n</g>\n<!-- การ&#45;&#45;โภค -->\n<g id=\"edge8\" class=\"edge\"><title>การ&#45;&#45;โภค</title>\n<path fill=\"none\" stroke=\"pink\" d=\"M-19.849,7.39453C-54.7007,37.2748 -129.875,101.726 -164.765,131.639\"/>\n<text text-anchor=\"middle\" x=\"-101.807\" y=\"66.9165\" font-family=\"Times,serif\" font-size=\"8.00\">2.61</text>\n</g>\n<!-- สระบุรียังรอนัก -->\n<g id=\"node10\" class=\"node\"><title>สระบุรียังรอนัก</title>\n<ellipse fill=\"none\" stroke=\"black\" cx=\"182.535\" cy=\"132.252\" rx=\"149.473\" ry=\"18\"/>\n<text text-anchor=\"middle\" x=\"182.535\" y=\"135.952\" font-family=\"Times,serif\" font-size=\"14.00\">สระบุรียังรอนัก</text>\n</g>\n<!-- การ&#45;&#45;สระบุรียังรอนัก -->\n<g id=\"edge9\" class=\"edge\"><title>การ&#45;&#45;สระบุรียังรอนัก</title>\n<path fill=\"none\" stroke=\"pink\" d=\"M18.9756,7.17917C53.3987,33.5024 122.834,86.5989 159.168,114.383\"/>\n<text text-anchor=\"middle\" x=\"79.5717\" y=\"58.1813\" font-family=\"Times,serif\" font-size=\"8.00\">2.62</text>\n</g>\n<!-- พการ -->\n<g id=\"node11\" class=\"node\"><title>พการ</title>\n<ellipse fill=\"none\" stroke=\"black\" cx=\"57.318\" cy=\"224.606\" rx=\"48.1917\" ry=\"18\"/>\n<text text-anchor=\"middle\" x=\"57.318\" y=\"228.306\" font-family=\"Times,serif\" font-size=\"14.00\">พการ</text>\n</g>\n<!-- การ&#45;&#45;พการ -->\n<g id=\"edge10\" class=\"edge\"><title>การ&#45;&#45;พการ</title>\n<path fill=\"none\" stroke=\"pink\" d=\"M3.09811,9.48581C14.0303,52.8599 41.8436,163.21 52.7916,206.647\"/>\n<text text-anchor=\"middle\" x=\"18.4449\" y=\"105.467\" font-family=\"Times,serif\" font-size=\"8.00\">2.62</text>\n</g>\n</g>\n</svg>\n"
          },
          "metadata": {
            "tags": []
          },
          "execution_count": 30
        }
      ]
    },
    {
      "metadata": {
        "id": "ZPokCR_lj6jU",
        "colab_type": "code",
        "colab": {
          "base_uri": "https://localhost:8080/",
          "height": 763
        },
        "outputId": "a8d75a7c-b748-40f9-d08b-2a6b56bbf322"
      },
      "cell_type": "code",
      "source": [
        "show_graph (dict_sort[8][0], w2v_model)"
      ],
      "execution_count": 31,
      "outputs": [
        {
          "output_type": "stream",
          "text": [
            "Show word list and graph...\n",
            "แต่ : ก็(2.43), ไม่(2.47), ที่(2.59), ขนาดรา(2.59), จุดด้อย(2.64), เลย(2.65), เดียวดูดี(2.81), เรารอดู(2.84), สวย(2.88), ค่อย(2.91), \n",
            "\n"
          ],
          "name": "stdout"
        },
        {
          "output_type": "execute_result",
          "data": {
            "text/plain": [
              "<graphviz.files.Source at 0x7f1140b40400>"
            ],
            "image/svg+xml": "<?xml version=\"1.0\" encoding=\"UTF-8\" standalone=\"no\"?>\n<!DOCTYPE svg PUBLIC \"-//W3C//DTD SVG 1.1//EN\"\n \"http://www.w3.org/Graphics/SVG/1.1/DTD/svg11.dtd\">\n<!-- Generated by graphviz version 2.38.0 (20140413.2041)\n -->\n<!-- Title: G Pages: 1 -->\n<svg width=\"635pt\" height=\"518pt\"\n viewBox=\"0.00 0.00 634.68 518.31\" xmlns=\"http://www.w3.org/2000/svg\" xmlns:xlink=\"http://www.w3.org/1999/xlink\">\n<g id=\"graph0\" class=\"graph\" transform=\"scale(1 1) rotate(0) translate(283.186 245.604)\">\n<title>G</title>\n<polygon fill=\"white\" stroke=\"none\" points=\"-283.186,272.702 -283.186,-245.604 351.491,-245.604 351.491,272.702 -283.186,272.702\"/>\n<!-- แต่ -->\n<g id=\"node1\" class=\"node\"><title>แต่</title>\n<ellipse fill=\"none\" stroke=\"black\" cx=\"-3.09833\" cy=\"-8.79801\" rx=\"38.1938\" ry=\"18\"/>\n<text text-anchor=\"middle\" x=\"-3.09833\" y=\"-5.09801\" font-family=\"Times,serif\" font-size=\"14.00\">แต่</text>\n</g>\n<!-- ก็ -->\n<g id=\"node2\" class=\"node\"><title>ก็</title>\n<ellipse fill=\"none\" stroke=\"black\" cx=\"145.904\" cy=\"-101.841\" rx=\"29.4969\" ry=\"18\"/>\n<text text-anchor=\"middle\" x=\"145.904\" y=\"-98.1415\" font-family=\"Times,serif\" font-size=\"14.00\">ก็</text>\n</g>\n<!-- แต่&#45;&#45;ก็ -->\n<g id=\"edge1\" class=\"edge\"><title>แต่&#45;&#45;ก็</title>\n<path fill=\"none\" stroke=\"red\" d=\"M20.1833,-23.3361C48.9943,-41.3269 97.6129,-71.6864 125.186,-88.9042\"/>\n<text text-anchor=\"middle\" x=\"63.1846\" y=\"-58.7201\" font-family=\"Times,serif\" font-size=\"8.00\">2.43</text>\n</g>\n<!-- ไม่ -->\n<g id=\"node3\" class=\"node\"><title>ไม่</title>\n<ellipse fill=\"none\" stroke=\"black\" cx=\"-52.2844\" cy=\"157.04\" rx=\"38.1938\" ry=\"18\"/>\n<text text-anchor=\"middle\" x=\"-52.2844\" y=\"160.74\" font-family=\"Times,serif\" font-size=\"14.00\">ไม่</text>\n</g>\n<!-- แต่&#45;&#45;ไม่ -->\n<g id=\"edge2\" class=\"edge\"><title>แต่&#45;&#45;ไม่</title>\n<path fill=\"none\" stroke=\"pink\" d=\"M-8.45573,9.26523C-17.9171,41.1656 -37.4769,107.114 -46.9336,138.999\"/>\n<text text-anchor=\"middle\" x=\"-37.1947\" y=\"71.532\" font-family=\"Times,serif\" font-size=\"8.00\">2.47</text>\n</g>\n<!-- ที่ -->\n<g id=\"node4\" class=\"node\"><title>ที่</title>\n<ellipse fill=\"none\" stroke=\"black\" cx=\"-67.7664\" cy=\"-218.793\" rx=\"38.1938\" ry=\"18\"/>\n<text text-anchor=\"middle\" x=\"-67.7664\" y=\"-215.093\" font-family=\"Times,serif\" font-size=\"14.00\">ที่</text>\n</g>\n<!-- แต่&#45;&#45;ที่ -->\n<g id=\"edge3\" class=\"edge\"><title>แต่&#45;&#45;ที่</title>\n<path fill=\"none\" stroke=\"pink\" d=\"M-8.6119,-26.702C-20.8295,-66.3759 -50.0622,-161.302 -62.2668,-200.934\"/>\n<text text-anchor=\"middle\" x=\"-44.9394\" y=\"-116.418\" font-family=\"Times,serif\" font-size=\"8.00\">2.59</text>\n</g>\n<!-- ขนาดรา -->\n<g id=\"node5\" class=\"node\"><title>ขนาดรา</title>\n<ellipse fill=\"none\" stroke=\"black\" cx=\"80.6756\" cy=\"-223.604\" rx=\"66.0889\" ry=\"18\"/>\n<text text-anchor=\"middle\" x=\"80.6756\" y=\"-219.904\" font-family=\"Times,serif\" font-size=\"14.00\">ขนาดรา</text>\n</g>\n<!-- แต่&#45;&#45;ขนาดรา -->\n<g id=\"edge4\" class=\"edge\"><title>แต่&#45;&#45;ขนาดรา</title>\n<path fill=\"none\" stroke=\"pink\" d=\"M3.9001,-26.7427C19.6693,-67.1766 57.8322,-165.03 73.6382,-205.559\"/>\n<text text-anchor=\"middle\" x=\"29.2691\" y=\"-118.751\" font-family=\"Times,serif\" font-size=\"8.00\">2.59</text>\n</g>\n<!-- จุดด้อย -->\n<g id=\"node6\" class=\"node\"><title>จุดด้อย</title>\n<ellipse fill=\"none\" stroke=\"black\" cx=\"-188.301\" cy=\"-141.092\" rx=\"75.2868\" ry=\"18\"/>\n<text text-anchor=\"middle\" x=\"-188.301\" y=\"-137.392\" font-family=\"Times,serif\" font-size=\"14.00\">จุดด้อย</text>\n</g>\n<!-- แต่&#45;&#45;จุดด้อย -->\n<g id=\"edge5\" class=\"edge\"><title>แต่&#45;&#45;จุดด้อย</title>\n<path fill=\"none\" stroke=\"pink\" d=\"M-24.3434,-23.9738C-59.1182,-48.8143 -127.958,-97.9884 -164.391,-124.013\"/>\n<text text-anchor=\"middle\" x=\"-103.867\" y=\"-76.5935\" font-family=\"Times,serif\" font-size=\"8.00\">2.64</text>\n</g>\n<!-- เลย -->\n<g id=\"node7\" class=\"node\"><title>เลย</title>\n<ellipse fill=\"none\" stroke=\"black\" cx=\"-225.908\" cy=\"-1.85407\" rx=\"38.1938\" ry=\"18\"/>\n<text text-anchor=\"middle\" x=\"-225.908\" y=\"1.84593\" font-family=\"Times,serif\" font-size=\"14.00\">เลย</text>\n</g>\n<!-- แต่&#45;&#45;เลย -->\n<g id=\"edge6\" class=\"edge\"><title>แต่&#45;&#45;เลย</title>\n<path fill=\"none\" stroke=\"pink\" d=\"M-41.4006,-7.6043C-82.2113,-6.33242 -146.455,-4.33024 -187.36,-3.05544\"/>\n<text text-anchor=\"middle\" x=\"-123.88\" y=\"-7.92987\" font-family=\"Times,serif\" font-size=\"8.00\">2.65</text>\n</g>\n<!-- เดียวดูดี -->\n<g id=\"node8\" class=\"node\"><title>เดียวดูดี</title>\n<ellipse fill=\"none\" stroke=\"black\" cx=\"253.249\" cy=\"-16.9192\" rx=\"94.4839\" ry=\"18\"/>\n<text text-anchor=\"middle\" x=\"253.249\" y=\"-13.2192\" font-family=\"Times,serif\" font-size=\"14.00\">เดียวดูดี</text>\n</g>\n<!-- แต่&#45;&#45;เดียวดูดี -->\n<g id=\"edge7\" class=\"edge\"><title>แต่&#45;&#45;เดียวดูดี</title>\n<path fill=\"none\" stroke=\"pink\" d=\"M35.2795,-10.0138C68.2422,-11.0581 117.128,-12.6068 160.254,-13.9731\"/>\n<text text-anchor=\"middle\" x=\"88.267\" y=\"-14.5935\" font-family=\"Times,serif\" font-size=\"8.00\">2.81</text>\n</g>\n<!-- เรารอดู -->\n<g id=\"node9\" class=\"node\"><title>เรารอดู</title>\n<ellipse fill=\"none\" stroke=\"black\" cx=\"-203.793\" cy=\"159.908\" rx=\"75.2868\" ry=\"18\"/>\n<text text-anchor=\"middle\" x=\"-203.793\" y=\"163.608\" font-family=\"Times,serif\" font-size=\"14.00\">เรารอดู</text>\n</g>\n<!-- แต่&#45;&#45;เรารอดู -->\n<g id=\"edge8\" class=\"edge\"><title>แต่&#45;&#45;เรารอดู</title>\n<path fill=\"none\" stroke=\"pink\" d=\"M-21.9792,7.07341C-59.6444,38.7352 -143.856,109.524 -183.022,142.448\"/>\n<text text-anchor=\"middle\" x=\"-112.001\" y=\"72.1606\" font-family=\"Times,serif\" font-size=\"8.00\">2.84</text>\n</g>\n<!-- สวย -->\n<g id=\"node10\" class=\"node\"><title>สวย</title>\n<ellipse fill=\"none\" stroke=\"black\" cx=\"199.073\" cy=\"145.252\" rx=\"38.1938\" ry=\"18\"/>\n<text text-anchor=\"middle\" x=\"199.073\" y=\"148.952\" font-family=\"Times,serif\" font-size=\"14.00\">สวย</text>\n</g>\n<!-- แต่&#45;&#45;สวย -->\n<g id=\"edge9\" class=\"edge\"><title>แต่&#45;&#45;สวย</title>\n<path fill=\"none\" stroke=\"pink\" d=\"M17.0258,6.53606C55.6781,35.9882 139.907,100.168 178.73,129.751\"/>\n<text text-anchor=\"middle\" x=\"88.378\" y=\"65.5435\" font-family=\"Times,serif\" font-size=\"8.00\">2.88</text>\n</g>\n<!-- ค่อย -->\n<g id=\"node11\" class=\"node\"><title>ค่อย</title>\n<ellipse fill=\"none\" stroke=\"black\" cx=\"62.2481\" cy=\"250.702\" rx=\"48.1917\" ry=\"18\"/>\n<text text-anchor=\"middle\" x=\"62.2481\" y=\"254.402\" font-family=\"Times,serif\" font-size=\"14.00\">ค่อย</text>\n</g>\n<!-- แต่&#45;&#45;ค่อย -->\n<g id=\"edge10\" class=\"edge\"><title>แต่&#45;&#45;ค่อย</title>\n<path fill=\"none\" stroke=\"pink\" d=\"M1.49671,9.44956C13.4949,57.096 45.6657,184.851 57.6582,232.475\"/>\n<text text-anchor=\"middle\" x=\"20.0774\" y=\"118.362\" font-family=\"Times,serif\" font-size=\"8.00\">2.91</text>\n</g>\n</g>\n</svg>\n"
          },
          "metadata": {
            "tags": []
          },
          "execution_count": 31
        }
      ]
    },
    {
      "metadata": {
        "id": "K98BvyURj6l0",
        "colab_type": "code",
        "colab": {
          "base_uri": "https://localhost:8080/",
          "height": 720
        },
        "outputId": "b4dd0c85-6e8f-49ad-e878-a36851ab268e"
      },
      "cell_type": "code",
      "source": [
        "show_graph (dict_sort[9][0], w2v_model)"
      ],
      "execution_count": 32,
      "outputs": [
        {
          "output_type": "stream",
          "text": [
            "Show word list and graph...\n",
            "ใน : ในมี(2.45), ในมีนา(2.48), ในร(2.53), ใต้(2.55), ขณะนี้(2.55), ฝ่ายบริ(2.62), ที่(2.65), หลังงานนี้บอก(2.67), สามัค(2.68), ในมัน(2.70), \n",
            "\n"
          ],
          "name": "stdout"
        },
        {
          "output_type": "execute_result",
          "data": {
            "text/plain": [
              "<graphviz.files.Source at 0x7f1120009940>"
            ],
            "image/svg+xml": "<?xml version=\"1.0\" encoding=\"UTF-8\" standalone=\"no\"?>\n<!DOCTYPE svg PUBLIC \"-//W3C//DTD SVG 1.1//EN\"\n \"http://www.w3.org/Graphics/SVG/1.1/DTD/svg11.dtd\">\n<!-- Generated by graphviz version 2.38.0 (20140413.2041)\n -->\n<!-- Title: G Pages: 1 -->\n<svg width=\"603pt\" height=\"486pt\"\n viewBox=\"0.00 0.00 602.90 485.83\" xmlns=\"http://www.w3.org/2000/svg\" xmlns:xlink=\"http://www.w3.org/1999/xlink\">\n<g id=\"graph0\" class=\"graph\" transform=\"scale(1 1) rotate(0) translate(325.502 237.475)\">\n<title>G</title>\n<polygon fill=\"white\" stroke=\"none\" points=\"-325.502,248.351 -325.502,-237.475 277.402,-237.475 277.402,248.351 -325.502,248.351\"/>\n<!-- ใน -->\n<g id=\"node1\" class=\"node\"><title>ใน</title>\n<ellipse fill=\"none\" stroke=\"black\" cx=\"-0.659661\" cy=\"-3.84688\" rx=\"29.4969\" ry=\"18\"/>\n<text text-anchor=\"middle\" x=\"-0.659661\" y=\"-0.146875\" font-family=\"Times,serif\" font-size=\"14.00\">ใน</text>\n</g>\n<!-- ในมี -->\n<g id=\"node2\" class=\"node\"><title>ในมี</title>\n<ellipse fill=\"none\" stroke=\"black\" cx=\"157.639\" cy=\"-113.083\" rx=\"48.1917\" ry=\"18\"/>\n<text text-anchor=\"middle\" x=\"157.639\" y=\"-109.383\" font-family=\"Times,serif\" font-size=\"14.00\">ในมี</text>\n</g>\n<!-- ใน&#45;&#45;ในมี -->\n<g id=\"edge1\" class=\"edge\"><title>ใน&#45;&#45;ในมี</title>\n<path fill=\"none\" stroke=\"red\" d=\"M19.0688,-17.4608C48.4084,-37.7071 103.419,-75.668 134.577,-97.169\"/>\n<text text-anchor=\"middle\" x=\"67.3229\" y=\"-59.9149\" font-family=\"Times,serif\" font-size=\"8.00\">2.45</text>\n</g>\n<!-- ในมีนา -->\n<g id=\"node3\" class=\"node\"><title>ในมีนา</title>\n<ellipse fill=\"none\" stroke=\"black\" cx=\"-60.4191\" cy=\"179.705\" rx=\"66.0889\" ry=\"18\"/>\n<text text-anchor=\"middle\" x=\"-60.4191\" y=\"183.405\" font-family=\"Times,serif\" font-size=\"14.00\">ในมีนา</text>\n</g>\n<!-- ใน&#45;&#45;ในมีนา -->\n<g id=\"edge2\" class=\"edge\"><title>ใน&#45;&#45;ในมีนา</title>\n<path fill=\"none\" stroke=\"pink\" d=\"M-6.49845,14.0871C-17.9231,49.178 -43.113,126.549 -54.5566,161.699\"/>\n<text text-anchor=\"middle\" x=\"-40.0275\" y=\"85.2928\" font-family=\"Times,serif\" font-size=\"8.00\">2.48</text>\n</g>\n<!-- ในร -->\n<g id=\"node4\" class=\"node\"><title>ในร</title>\n<ellipse fill=\"none\" stroke=\"black\" cx=\"-65.2662\" cy=\"-208.908\" rx=\"38.1938\" ry=\"18\"/>\n<text text-anchor=\"middle\" x=\"-65.2662\" y=\"-205.208\" font-family=\"Times,serif\" font-size=\"14.00\">ในร</text>\n</g>\n<!-- ใน&#45;&#45;ในร -->\n<g id=\"edge3\" class=\"edge\"><title>ใน&#45;&#45;ในร</title>\n<path fill=\"none\" stroke=\"pink\" d=\"M-6.28005,-21.686C-18.4986,-60.4678 -47.3643,-152.088 -59.6128,-190.964\"/>\n<text text-anchor=\"middle\" x=\"-42.4464\" y=\"-108.925\" font-family=\"Times,serif\" font-size=\"8.00\">2.53</text>\n</g>\n<!-- ใต้ -->\n<g id=\"node5\" class=\"node\"><title>ใต้</title>\n<ellipse fill=\"none\" stroke=\"black\" cx=\"74.2356\" cy=\"-215.475\" rx=\"38.1938\" ry=\"18\"/>\n<text text-anchor=\"middle\" x=\"74.2356\" y=\"-211.775\" font-family=\"Times,serif\" font-size=\"14.00\">ใต้</text>\n</g>\n<!-- ใน&#45;&#45;ใต้ -->\n<g id=\"edge4\" class=\"edge\"><title>ใน&#45;&#45;ใต้</title>\n<path fill=\"none\" stroke=\"pink\" d=\"M5.59705,-21.5262C19.6949,-61.3621 53.8132,-157.769 67.944,-197.698\"/>\n<text text-anchor=\"middle\" x=\"27.2705\" y=\"-112.212\" font-family=\"Times,serif\" font-size=\"8.00\">2.55</text>\n</g>\n<!-- ขณะนี้ -->\n<g id=\"node6\" class=\"node\"><title>ขณะนี้</title>\n<ellipse fill=\"none\" stroke=\"black\" cx=\"-175.045\" cy=\"-131.201\" rx=\"66.0889\" ry=\"18\"/>\n<text text-anchor=\"middle\" x=\"-175.045\" y=\"-127.501\" font-family=\"Times,serif\" font-size=\"14.00\">ขณะนี้</text>\n</g>\n<!-- ใน&#45;&#45;ขณะนี้ -->\n<g id=\"edge5\" class=\"edge\"><title>ใน&#45;&#45;ขณะนี้</title>\n<path fill=\"none\" stroke=\"pink\" d=\"M-19.6539,-17.7184C-51.8742,-41.2491 -117.127,-88.9035 -151.94,-114.328\"/>\n<text text-anchor=\"middle\" x=\"-95.2971\" y=\"-68.6232\" font-family=\"Times,serif\" font-size=\"8.00\">2.55</text>\n</g>\n<!-- ฝ่ายบริ -->\n<g id=\"node7\" class=\"node\"><title>ฝ่ายบริ</title>\n<ellipse fill=\"none\" stroke=\"black\" cx=\"-226.882\" cy=\"-3.57311\" rx=\"75.2868\" ry=\"18\"/>\n<text text-anchor=\"middle\" x=\"-226.882\" y=\"0.126887\" font-family=\"Times,serif\" font-size=\"14.00\">ฝ่ายบริ</text>\n</g>\n<!-- ใน&#45;&#45;ฝ่ายบริ -->\n<g id=\"edge6\" class=\"edge\"><title>ใน&#45;&#45;ฝ่ายบริ</title>\n<path fill=\"none\" stroke=\"pink\" d=\"M-30.2343,-3.81109C-60.7746,-3.77413 -109.673,-3.71495 -151.067,-3.66486\"/>\n<text text-anchor=\"middle\" x=\"-100.15\" y=\"-6.33797\" font-family=\"Times,serif\" font-size=\"8.00\">2.62</text>\n</g>\n<!-- ที่ -->\n<g id=\"node8\" class=\"node\"><title>ที่</title>\n<ellipse fill=\"none\" stroke=\"black\" cx=\"235.055\" cy=\"-4.84778\" rx=\"38.1938\" ry=\"18\"/>\n<text text-anchor=\"middle\" x=\"235.055\" y=\"-1.14778\" font-family=\"Times,serif\" font-size=\"14.00\">ที่</text>\n</g>\n<!-- ใน&#45;&#45;ที่ -->\n<g id=\"edge7\" class=\"edge\"><title>ใน&#45;&#45;ที่</title>\n<path fill=\"none\" stroke=\"pink\" d=\"M28.7172,-3.97162C71.1713,-4.15189 149.722,-4.48544 196.7,-4.68492\"/>\n<text text-anchor=\"middle\" x=\"103.209\" y=\"-6.92827\" font-family=\"Times,serif\" font-size=\"8.00\">2.65</text>\n</g>\n<!-- หลังงานนี้บอก -->\n<g id=\"node9\" class=\"node\"><title>หลังงานนี้บอก</title>\n<ellipse fill=\"none\" stroke=\"black\" cx=\"-190.214\" cy=\"139.942\" rx=\"131.077\" ry=\"18\"/>\n<text text-anchor=\"middle\" x=\"-190.214\" y=\"143.642\" font-family=\"Times,serif\" font-size=\"14.00\">หลังงานนี้บอก</text>\n</g>\n<!-- ใน&#45;&#45;หลังงานนี้บอก -->\n<g id=\"edge8\" class=\"edge\"><title>ใน&#45;&#45;หลังงานนี้บอก</title>\n<path fill=\"none\" stroke=\"pink\" d=\"M-19.1801,10.202C-53.8348,36.4898 -128.42,93.067 -166.617,122.042\"/>\n<text text-anchor=\"middle\" x=\"-102.399\" y=\"63.5221\" font-family=\"Times,serif\" font-size=\"8.00\">2.67</text>\n</g>\n<!-- สามัค -->\n<g id=\"node10\" class=\"node\"><title>สามัค</title>\n<ellipse fill=\"none\" stroke=\"black\" cx=\"184.048\" cy=\"134.937\" rx=\"57.3905\" ry=\"18\"/>\n<text text-anchor=\"middle\" x=\"184.048\" y=\"138.637\" font-family=\"Times,serif\" font-size=\"14.00\">สามัค</text>\n</g>\n<!-- ใน&#45;&#45;สามัค -->\n<g id=\"edge9\" class=\"edge\"><title>ใน&#45;&#45;สามัค</title>\n<path fill=\"none\" stroke=\"pink\" d=\"M18.0675,10.2242C52.3689,35.9972 125.123,90.6622 161.849,118.258\"/>\n<text text-anchor=\"middle\" x=\"80.4585\" y=\"61.641\" font-family=\"Times,serif\" font-size=\"8.00\">2.68</text>\n</g>\n<!-- ในมัน -->\n<g id=\"node11\" class=\"node\"><title>ในมัน</title>\n<ellipse fill=\"none\" stroke=\"black\" cx=\"67.5085\" cy=\"226.351\" rx=\"57.3905\" ry=\"18\"/>\n<text text-anchor=\"middle\" x=\"67.5085\" y=\"230.051\" font-family=\"Times,serif\" font-size=\"14.00\">ในมัน</text>\n</g>\n<!-- ใน&#45;&#45;ในมัน -->\n<g id=\"edge10\" class=\"edge\"><title>ใน&#45;&#45;ในมัน</title>\n<path fill=\"none\" stroke=\"pink\" d=\"M4.68938,14.2164C17.4324,57.2484 49.4664,165.425 62.1843,208.372\"/>\n<text text-anchor=\"middle\" x=\"23.9368\" y=\"108.694\" font-family=\"Times,serif\" font-size=\"8.00\">2.70</text>\n</g>\n</g>\n</svg>\n"
          },
          "metadata": {
            "tags": []
          },
          "execution_count": 32
        }
      ]
    },
    {
      "metadata": {
        "id": "i4Ou-cvgvF3L",
        "colab_type": "text"
      },
      "cell_type": "markdown",
      "source": [
        "### Generate specify word\n"
      ]
    },
    {
      "metadata": {
        "id": "MZlid7eUkDhK",
        "colab_type": "code",
        "colab": {}
      },
      "cell_type": "code",
      "source": [
        "def find_word(word):\n",
        "  new_dict = dict(dict_sort)\n",
        "\n",
        "  while True:\n",
        "    if word in new_dict:\n",
        "      print('***Has this word in list! :D')\n",
        "      break\n",
        "    else:\n",
        "      print('Dont have this word in list. Try again..')\n",
        "      word = input('Enter word to search : ')"
      ],
      "execution_count": 0,
      "outputs": []
    },
    {
      "metadata": {
        "id": "HrAH3pghu7nI",
        "colab_type": "code",
        "colab": {
          "base_uri": "https://localhost:8080/",
          "height": 34
        },
        "outputId": "22b37588-8799-4661-e142-e4dec371def8"
      },
      "cell_type": "code",
      "source": [
        "find_word('ใน')"
      ],
      "execution_count": 45,
      "outputs": [
        {
          "output_type": "stream",
          "text": [
            "***Has this word in list! :D\n"
          ],
          "name": "stdout"
        }
      ]
    },
    {
      "metadata": {
        "id": "J1qH__TNxqYW",
        "colab_type": "code",
        "colab": {
          "base_uri": "https://localhost:8080/",
          "height": 640
        },
        "outputId": "f227c8de-b7bf-4d2c-e5c5-2f455faf2dd9"
      },
      "cell_type": "code",
      "source": [
        "show_graph ('รถ', w2v_model)"
      ],
      "execution_count": 48,
      "outputs": [
        {
          "output_type": "stream",
          "text": [
            "Show word list and graph...\n",
            "รถ : เวอร์ชั่นอ(1.99), กะรถ(2.04), โค้งยังงัย(2.17), ในร่น(2.18), แต่งรอบ(2.20), ต้ารัช(2.24), ฟอร์ดนี่(2.26), เอาอยู่ล้าน(2.27), เผยญี่(2.27), โว้(2.29), \n",
            "\n"
          ],
          "name": "stdout"
        },
        {
          "output_type": "execute_result",
          "data": {
            "text/plain": [
              "<graphviz.files.Source at 0x7f11220bdeb8>"
            ],
            "image/svg+xml": "<?xml version=\"1.0\" encoding=\"UTF-8\" standalone=\"no\"?>\n<!DOCTYPE svg PUBLIC \"-//W3C//DTD SVG 1.1//EN\"\n \"http://www.w3.org/Graphics/SVG/1.1/DTD/svg11.dtd\">\n<!-- Generated by graphviz version 2.38.0 (20140413.2041)\n -->\n<!-- Title: G Pages: 1 -->\n<svg width=\"573pt\" height=\"426pt\"\n viewBox=\"0.00 0.00 573.00 425.78\" xmlns=\"http://www.w3.org/2000/svg\" xmlns:xlink=\"http://www.w3.org/1999/xlink\">\n<g id=\"graph0\" class=\"graph\" transform=\"scale(1 1) rotate(0) translate(277.832 207.267)\">\n<title>G</title>\n<polygon fill=\"white\" stroke=\"none\" points=\"-277.832,218.513 -277.832,-207.267 295.167,-207.267 295.167,218.513 -277.832,218.513\"/>\n<!-- รถ -->\n<g id=\"node1\" class=\"node\"><title>รถ</title>\n<ellipse fill=\"none\" stroke=\"black\" cx=\"-1.29096\" cy=\"-2.62772\" rx=\"29.4969\" ry=\"18\"/>\n<text text-anchor=\"middle\" x=\"-1.29096\" y=\"1.07228\" font-family=\"Times,serif\" font-size=\"14.00\">รถ</text>\n</g>\n<!-- เวอร์ชั่นอ -->\n<g id=\"node2\" class=\"node\"><title>เวอร์ชั่นอ</title>\n<ellipse fill=\"none\" stroke=\"black\" cx=\"117.334\" cy=\"-81.2544\" rx=\"103.182\" ry=\"18\"/>\n<text text-anchor=\"middle\" x=\"117.334\" y=\"-77.5544\" font-family=\"Times,serif\" font-size=\"14.00\">เวอร์ชั่นอ</text>\n</g>\n<!-- รถ&#45;&#45;เวอร์ชั่นอ -->\n<g id=\"edge1\" class=\"edge\"><title>รถ&#45;&#45;เวอร์ชั่นอ</title>\n<path fill=\"none\" stroke=\"red\" d=\"M18.8321,-15.9657C38.6626,-29.1097 69.072,-49.2657 90.8549,-63.7039\"/>\n<text text-anchor=\"middle\" x=\"45.3435\" y=\"-42.4348\" font-family=\"Times,serif\" font-size=\"8.00\">1.99</text>\n</g>\n<!-- กะรถ -->\n<g id=\"node3\" class=\"node\"><title>กะรถ</title>\n<ellipse fill=\"none\" stroke=\"black\" cx=\"-46.8307\" cy=\"140.452\" rx=\"48.1917\" ry=\"18\"/>\n<text text-anchor=\"middle\" x=\"-46.8307\" y=\"144.152\" font-family=\"Times,serif\" font-size=\"14.00\">กะรถ</text>\n</g>\n<!-- รถ&#45;&#45;กะรถ -->\n<g id=\"edge2\" class=\"edge\"><title>รถ&#45;&#45;กะรถ</title>\n<path fill=\"none\" stroke=\"pink\" d=\"M-6.96652,15.2041C-15.6931,42.6219 -32.3141,94.8426 -41.0836,122.395\"/>\n<text text-anchor=\"middle\" x=\"-33.5251\" y=\"66.1997\" font-family=\"Times,serif\" font-size=\"8.00\">2.04</text>\n</g>\n<!-- โค้งยังงัย -->\n<g id=\"node4\" class=\"node\"><title>โค้งยังงัย</title>\n<ellipse fill=\"none\" stroke=\"black\" cx=\"-53.6005\" cy=\"-179.492\" rx=\"103.182\" ry=\"18\"/>\n<text text-anchor=\"middle\" x=\"-53.6005\" y=\"-175.792\" font-family=\"Times,serif\" font-size=\"14.00\">โค้งยังงัย</text>\n</g>\n<!-- รถ&#45;&#45;โค้งยังงัย -->\n<g id=\"edge3\" class=\"edge\"><title>รถ&#45;&#45;โค้งยังงัย</title>\n<path fill=\"none\" stroke=\"pink\" d=\"M-6.59455,-20.5597C-16.6205,-54.4584 -38.2462,-127.577 -48.2829,-161.513\"/>\n<text text-anchor=\"middle\" x=\"-36.9387\" y=\"-93.6362\" font-family=\"Times,serif\" font-size=\"8.00\">2.17</text>\n</g>\n<!-- ในร่น -->\n<g id=\"node5\" class=\"node\"><title>ในร่น</title>\n<ellipse fill=\"none\" stroke=\"black\" cx=\"71.8146\" cy=\"-185.267\" rx=\"57.3905\" ry=\"18\"/>\n<text text-anchor=\"middle\" x=\"71.8146\" y=\"-181.567\" font-family=\"Times,serif\" font-size=\"14.00\">ในร่น</text>\n</g>\n<!-- รถ&#45;&#45;ในร่น -->\n<g id=\"edge4\" class=\"edge\"><title>รถ&#45;&#45;ในร่น</title>\n<path fill=\"none\" stroke=\"pink\" d=\"M5.71871,-20.14C19.6207,-54.8713 50.5516,-132.146 64.6107,-167.27\"/>\n<text text-anchor=\"middle\" x=\"25.6647\" y=\"-96.3048\" font-family=\"Times,serif\" font-size=\"8.00\">2.18</text>\n</g>\n<!-- แต่งรอบ -->\n<g id=\"node6\" class=\"node\"><title>แต่งรอบ</title>\n<ellipse fill=\"none\" stroke=\"black\" cx=\"-151.976\" cy=\"-114.925\" rx=\"75.2868\" ry=\"18\"/>\n<text text-anchor=\"middle\" x=\"-151.976\" y=\"-111.225\" font-family=\"Times,serif\" font-size=\"14.00\">แต่งรอบ</text>\n</g>\n<!-- รถ&#45;&#45;แต่งรอบ -->\n<g id=\"edge5\" class=\"edge\"><title>รถ&#45;&#45;แต่งรอบ</title>\n<path fill=\"none\" stroke=\"pink\" d=\"M-20.0707,-16.6232C-47.6047,-37.1428 -98.8899,-75.3628 -128.753,-97.6185\"/>\n<text text-anchor=\"middle\" x=\"-83.912\" y=\"-59.7208\" font-family=\"Times,serif\" font-size=\"8.00\">2.20</text>\n</g>\n<!-- ต้ารัช -->\n<g id=\"node7\" class=\"node\"><title>ต้ารัช</title>\n<ellipse fill=\"none\" stroke=\"black\" cx=\"-193.301\" cy=\"-2.01223\" rx=\"66.0889\" ry=\"18\"/>\n<text text-anchor=\"middle\" x=\"-193.301\" y=\"1.68777\" font-family=\"Times,serif\" font-size=\"14.00\">ต้ารัช</text>\n</g>\n<!-- รถ&#45;&#45;ต้ารัช -->\n<g id=\"edge6\" class=\"edge\"><title>รถ&#45;&#45;ต้ารัช</title>\n<path fill=\"none\" stroke=\"pink\" d=\"M-30.8717,-2.5329C-56.3291,-2.45129 -94.0086,-2.33051 -126.669,-2.22582\"/>\n<text text-anchor=\"middle\" x=\"-88.2705\" y=\"-4.97936\" font-family=\"Times,serif\" font-size=\"8.00\">2.24</text>\n</g>\n<!-- ฟอร์ดนี่ -->\n<g id=\"node8\" class=\"node\"><title>ฟอร์ดนี่</title>\n<ellipse fill=\"none\" stroke=\"black\" cx=\"206.024\" cy=\"-11.025\" rx=\"85.2851\" ry=\"18\"/>\n<text text-anchor=\"middle\" x=\"206.024\" y=\"-7.32501\" font-family=\"Times,serif\" font-size=\"14.00\">ฟอร์ดนี่</text>\n</g>\n<!-- รถ&#45;&#45;ฟอร์ดนี่ -->\n<g id=\"edge7\" class=\"edge\"><title>รถ&#45;&#45;ฟอร์ดนี่</title>\n<path fill=\"none\" stroke=\"pink\" d=\"M27.9726,-3.81303C52.5277,-4.80764 88.8547,-6.27906 122.304,-7.6339\"/>\n<text text-anchor=\"middle\" x=\"65.638\" y=\"-8.32347\" font-family=\"Times,serif\" font-size=\"8.00\">2.26</text>\n</g>\n<!-- เอาอยู่ล้าน -->\n<g id=\"node9\" class=\"node\"><title>เอาอยู่ล้าน</title>\n<ellipse fill=\"none\" stroke=\"black\" cx=\"-161.392\" cy=\"124.504\" rx=\"112.38\" ry=\"18\"/>\n<text text-anchor=\"middle\" x=\"-161.392\" y=\"128.204\" font-family=\"Times,serif\" font-size=\"14.00\">เอาอยู่ล้าน</text>\n</g>\n<!-- รถ&#45;&#45;เอาอยู่ล้าน -->\n<g id=\"edge8\" class=\"edge\"><title>รถ&#45;&#45;เอาอยู่ล้าน</title>\n<path fill=\"none\" stroke=\"pink\" d=\"M-19.3453,11.7088C-48.7855,35.0864 -107.051,81.3536 -139.051,106.764\"/>\n<text text-anchor=\"middle\" x=\"-88.6983\" y=\"56.6365\" font-family=\"Times,serif\" font-size=\"8.00\">2.27</text>\n</g>\n<!-- เผยญี่ -->\n<g id=\"node10\" class=\"node\"><title>เผยญี่</title>\n<ellipse fill=\"none\" stroke=\"black\" cx=\"157.773\" cy=\"115.134\" rx=\"66.0889\" ry=\"18\"/>\n<text text-anchor=\"middle\" x=\"157.773\" y=\"118.834\" font-family=\"Times,serif\" font-size=\"14.00\">เผยญี่</text>\n</g>\n<!-- รถ&#45;&#45;เผยญี่ -->\n<g id=\"edge9\" class=\"edge\"><title>รถ&#45;&#45;เผยญี่</title>\n<path fill=\"none\" stroke=\"pink\" d=\"M17.5804,11.3436C46.8771,33.0331 103.211,74.7392 134.819,98.1404\"/>\n<text text-anchor=\"middle\" x=\"66.6998\" y=\"52.142\" font-family=\"Times,serif\" font-size=\"8.00\">2.27</text>\n</g>\n<!-- โว้ -->\n<g id=\"node11\" class=\"node\"><title>โว้</title>\n<ellipse fill=\"none\" stroke=\"black\" cx=\"55.445\" cy=\"196.513\" rx=\"38.1938\" ry=\"18\"/>\n<text text-anchor=\"middle\" x=\"55.445\" y=\"200.213\" font-family=\"Times,serif\" font-size=\"14.00\">โว้</text>\n</g>\n<!-- รถ&#45;&#45;โว้ -->\n<g id=\"edge10\" class=\"edge\"><title>รถ&#45;&#45;โว้</title>\n<path fill=\"none\" stroke=\"pink\" d=\"M3.84404,15.396C14.6186,53.2144 39.4806,140.479 50.2807,178.387\"/>\n<text text-anchor=\"middle\" x=\"17.5624\" y=\"94.2915\" font-family=\"Times,serif\" font-size=\"8.00\">2.29</text>\n</g>\n</g>\n</svg>\n"
          },
          "metadata": {
            "tags": []
          },
          "execution_count": 48
        }
      ]
    },
    {
      "metadata": {
        "id": "vWOSezpex2JU",
        "colab_type": "code",
        "colab": {}
      },
      "cell_type": "code",
      "source": [
        ""
      ],
      "execution_count": 0,
      "outputs": []
    }
  ]
}