{
  "nbformat": 4,
  "nbformat_minor": 0,
  "metadata": {
    "colab": {
      "name": "app_word2vec_v2.ipynb",
      "version": "0.3.2",
      "provenance": [],
      "collapsed_sections": [],
      "include_colab_link": true
    },
    "kernelspec": {
      "name": "python3",
      "display_name": "Python 3"
    }
  },
  "cells": [
    {
      "cell_type": "markdown",
      "metadata": {
        "id": "view-in-github",
        "colab_type": "text"
      },
      "source": [
        "[View in Colaboratory](https://colab.research.google.com/github/eveem/practice/blob/master/app_word2vec_v2.ipynb)"
      ]
    },
    {
      "metadata": {
        "id": "607TRz2Bj5Ks",
        "colab_type": "text"
      },
      "cell_type": "markdown",
      "source": [
        "### Install and import packages "
      ]
    },
    {
      "metadata": {
        "id": "_ZixXd2ZijiB",
        "colab_type": "code",
        "colab": {
          "base_uri": "https://localhost:8080/",
          "height": 904
        },
        "outputId": "47abd5cd-a263-4679-a315-92214b78da2e"
      },
      "cell_type": "code",
      "source": [
        "!pip install xlrd\n",
        "!pip install pandas\n",
        "!pip install -U -q PyDrive\n",
        "!pip install sklearn_crfsuite\n",
        "!pip install gensim\n",
        "!pip install networkx\n",
        "!pip install pydot\n",
        "!pip install cairocffi\n",
        "!pip install graphviz\n",
        "!pip install gprof2dot\n",
        "!pip install pydot-ng\n",
        "\n",
        "import graphviz \n",
        "import gensim\n",
        "import pickle\n",
        "import pydot\n",
        "import xlrd\n",
        "import re\n",
        "import matplotlib.pyplot as plt\n",
        "import matplotlib.image as mping\n",
        "import networkx as nx\n",
        "import pandas as pd\n",
        "import zipfile, os\n",
        "from pydrive.auth import GoogleAuth\n",
        "from pydrive.drive import GoogleDrive\n",
        "from google.colab import auth\n",
        "from oauth2client.client import GoogleCredentials\n",
        "from google.colab import files\n",
        "from IPython.display import Image, display\n",
        "\n",
        "!apt-get update -y\n",
        "!apt-get install python-pydot -y --allow-unauthenticated"
      ],
      "execution_count": 1,
      "outputs": [
        {
          "output_type": "stream",
          "text": [
            "Requirement already satisfied: xlrd in /usr/local/lib/python3.6/dist-packages (1.1.0)\n",
            "Requirement already satisfied: pandas in /usr/local/lib/python3.6/dist-packages (0.22.0)\n",
            "Requirement already satisfied: numpy>=1.9.0 in /usr/local/lib/python3.6/dist-packages (from pandas) (1.14.5)\n",
            "Requirement already satisfied: pytz>=2011k in /usr/local/lib/python3.6/dist-packages (from pandas) (2018.4)\n",
            "Requirement already satisfied: python-dateutil>=2 in /usr/local/lib/python3.6/dist-packages (from pandas) (2.5.3)\n",
            "Requirement already satisfied: six>=1.5 in /usr/local/lib/python3.6/dist-packages (from python-dateutil>=2->pandas) (1.11.0)\n",
            "Requirement already satisfied: sklearn_crfsuite in /usr/local/lib/python3.6/dist-packages (0.3.6)\n",
            "Requirement already satisfied: python-crfsuite>=0.8.3 in /usr/local/lib/python3.6/dist-packages (from sklearn_crfsuite) (0.9.5)\n",
            "Requirement already satisfied: tabulate in /usr/local/lib/python3.6/dist-packages (from sklearn_crfsuite) (0.8.2)\n",
            "Requirement already satisfied: six in /usr/local/lib/python3.6/dist-packages (from sklearn_crfsuite) (1.11.0)\n",
            "Requirement already satisfied: tqdm>=2.0 in /usr/local/lib/python3.6/dist-packages (from sklearn_crfsuite) (4.23.4)\n",
            "Requirement already satisfied: gensim in /usr/local/lib/python3.6/dist-packages (3.4.0)\n",
            "Requirement already satisfied: numpy>=1.11.3 in /usr/local/lib/python3.6/dist-packages (from gensim) (1.14.5)\n",
            "Requirement already satisfied: smart-open>=1.2.1 in /usr/local/lib/python3.6/dist-packages (from gensim) (1.5.7)\n",
            "Requirement already satisfied: scipy>=0.18.1 in /usr/local/lib/python3.6/dist-packages (from gensim) (0.19.1)\n",
            "Requirement already satisfied: six>=1.5.0 in /usr/local/lib/python3.6/dist-packages (from gensim) (1.11.0)\n",
            "Requirement already satisfied: boto>=2.32 in /usr/local/lib/python3.6/dist-packages (from smart-open>=1.2.1->gensim) (2.48.0)\n",
            "Requirement already satisfied: requests in /usr/local/lib/python3.6/dist-packages (from smart-open>=1.2.1->gensim) (2.18.4)\n",
            "Requirement already satisfied: boto3 in /usr/local/lib/python3.6/dist-packages (from smart-open>=1.2.1->gensim) (1.7.45)\n",
            "Requirement already satisfied: bz2file in /usr/local/lib/python3.6/dist-packages (from smart-open>=1.2.1->gensim) (0.98)\n",
            "Requirement already satisfied: urllib3<1.23,>=1.21.1 in /usr/local/lib/python3.6/dist-packages (from requests->smart-open>=1.2.1->gensim) (1.22)\n",
            "Requirement already satisfied: certifi>=2017.4.17 in /usr/local/lib/python3.6/dist-packages (from requests->smart-open>=1.2.1->gensim) (2018.4.16)\n",
            "Requirement already satisfied: idna<2.7,>=2.5 in /usr/local/lib/python3.6/dist-packages (from requests->smart-open>=1.2.1->gensim) (2.6)\n",
            "Requirement already satisfied: chardet<3.1.0,>=3.0.2 in /usr/local/lib/python3.6/dist-packages (from requests->smart-open>=1.2.1->gensim) (3.0.4)\n",
            "Requirement already satisfied: botocore<1.11.0,>=1.10.45 in /usr/local/lib/python3.6/dist-packages (from boto3->smart-open>=1.2.1->gensim) (1.10.45)\n",
            "Requirement already satisfied: s3transfer<0.2.0,>=0.1.10 in /usr/local/lib/python3.6/dist-packages (from boto3->smart-open>=1.2.1->gensim) (0.1.13)\n",
            "Requirement already satisfied: jmespath<1.0.0,>=0.7.1 in /usr/local/lib/python3.6/dist-packages (from boto3->smart-open>=1.2.1->gensim) (0.9.3)\n",
            "Requirement already satisfied: python-dateutil<3.0.0,>=2.1; python_version >= \"2.7\" in /usr/local/lib/python3.6/dist-packages (from botocore<1.11.0,>=1.10.45->boto3->smart-open>=1.2.1->gensim) (2.5.3)\n",
            "Requirement already satisfied: docutils>=0.10 in /usr/local/lib/python3.6/dist-packages (from botocore<1.11.0,>=1.10.45->boto3->smart-open>=1.2.1->gensim) (0.14)\n",
            "Requirement already satisfied: networkx in /usr/local/lib/python3.6/dist-packages (2.1)\n",
            "Requirement already satisfied: decorator>=4.1.0 in /usr/local/lib/python3.6/dist-packages (from networkx) (4.3.0)\n",
            "Requirement already satisfied: pydot in /usr/local/lib/python3.6/dist-packages (1.2.4)\n",
            "Requirement already satisfied: pyparsing>=2.1.4 in /usr/local/lib/python3.6/dist-packages (from pydot) (2.2.0)\n",
            "Requirement already satisfied: cairocffi in /usr/local/lib/python3.6/dist-packages (0.8.1)\n",
            "Requirement already satisfied: cffi>=1.1.0 in /usr/local/lib/python3.6/dist-packages (from cairocffi) (1.11.5)\n",
            "Requirement already satisfied: pycparser in /usr/local/lib/python3.6/dist-packages (from cffi>=1.1.0->cairocffi) (2.18)\n",
            "Requirement already satisfied: graphviz in /usr/local/lib/python3.6/dist-packages (0.8.3)\n",
            "Requirement already satisfied: gprof2dot in /usr/local/lib/python3.6/dist-packages (2017.9.19)\n",
            "Requirement already satisfied: pydot-ng in /usr/local/lib/python3.6/dist-packages (1.0.0)\n",
            "Requirement already satisfied: pyparsing>=2.0.1 in /usr/local/lib/python3.6/dist-packages (from pydot-ng) (2.2.0)\n",
            "Hit:1 http://archive.ubuntu.com/ubuntu artful InRelease\n",
            "Get:2 http://security.ubuntu.com/ubuntu artful-security InRelease [83.2 kB]\n",
            "Get:3 http://archive.ubuntu.com/ubuntu artful-updates InRelease [88.7 kB]\n",
            "Get:4 http://archive.ubuntu.com/ubuntu artful-backports InRelease [74.6 kB]\n",
            "Fetched 247 kB in 0s (264 kB/s)\n"
          ],
          "name": "stdout"
        },
        {
          "output_type": "stream",
          "text": [
            "Reading package lists... Done\n",
            "Reading package lists... Done\n",
            "Building dependency tree       \n",
            "Reading state information... Done\n",
            "python-pydot is already the newest version (1.0.28-2).\n",
            "0 upgraded, 0 newly installed, 0 to remove and 6 not upgraded.\n"
          ],
          "name": "stdout"
        }
      ]
    },
    {
      "metadata": {
        "id": "gbr2U07gkdN0",
        "colab_type": "text"
      },
      "cell_type": "markdown",
      "source": [
        "### Define function"
      ]
    },
    {
      "metadata": {
        "id": "Lgz4xL2Whc5F",
        "colab_type": "code",
        "colab": {}
      },
      "cell_type": "code",
      "source": [
        "w2v_model = ''\n",
        "dict_sort = []\n",
        "top10word = tuple()"
      ],
      "execution_count": 0,
      "outputs": []
    },
    {
      "metadata": {
        "id": "_ohnvbqxkByc",
        "colab_type": "code",
        "colab": {}
      },
      "cell_type": "code",
      "source": [
        "def upload_xlsx ():\n",
        "  uploaded = files.upload()\n",
        "  for i in uploaded:\n",
        "    file_name = i\n",
        "    return file_name\n",
        "\n",
        "def create_csv ():\n",
        "  file_name = upload_xlsx()\n",
        "  xls = pd.ExcelFile(file_name, on_demand = True)\n",
        "  sheets = xls.sheet_names\n",
        "  print('Sheet name list : ', end='')\n",
        "  print(sheets)\n",
        "  while True:\n",
        "    sheet_name = input('Enter sheet name : ')\n",
        "    if sheet_name in sheets:\n",
        "      break\n",
        "    else:\n",
        "      print('Error!! Do not have this sheet name..')\n",
        "\n",
        "  df = pd.read_excel(file_name, sheetname=sheet_name, index_col=None)\n",
        "  df.to_csv('csvfile.csv', encoding='utf-8', index=False)\n",
        "  print('Create CSV file complete...')\n",
        "  \n",
        "def create_text_list ():\n",
        "  df = pd.read_csv('csvfile.csv')\n",
        "  print('Field name list : ', end='')\n",
        "  fields = df.columns.values\n",
        "  print(fields)\n",
        "  while True:\n",
        "    field_name = input('Enter field name : ')\n",
        "    if field_name in fields:\n",
        "      break\n",
        "    else:\n",
        "      print('Error!! Do not have this field name..')\n",
        "\n",
        "  text_list = [i for i in df[field_name] if i]\n",
        "  print('Create list of text complete...')\n",
        "  return text_list\n",
        "\n",
        "def sent2labels(sent):\n",
        "  return [label for cur, tag in sent]\n",
        "\n",
        "def sent2features(sent):\n",
        "  data = []\n",
        "  for cur, tag in sent:\n",
        "    data.append({'current': cur, 'tag': tag})\n",
        "  return data\n",
        "\n",
        "def generate_feature (text_list):\n",
        "  tag_type = ['c', 'n', 'v', 'w', 't', 's', 'd']\n",
        "  rex_thai = re.compile(r\"[^\\u0E00-\\u0E7F' ]|^'|'$|''\")\n",
        "  c_tag = set('กขฃคฆงจชซญฎฏฐฑฒณดตถทธนบปพฟภมยรลวศษสฬอ')\n",
        "  n_tag = set('ฅฉผฝฌหฮ')\n",
        "  v_tag = {'ะ', 'ิ', 'ี', 'ึ', 'ื', 'ุ', 'ู', 'า', 'ำ', 'ๅ', '็', 'ั'}\n",
        "  w_tag = {'เ', 'แ', 'โ', 'ใ', 'ไ'}\n",
        "  t_tag = {'่',  '้', '๊', '๋'}\n",
        "  s_tag = {'ฺ', '์', 'ๆ', 'ฯ'}\n",
        "  d_tag = set('0123456789')\n",
        "  \n",
        "  new_text = []\n",
        "  for line in text_list:\n",
        "    char_to_remove = re.findall(rex_thai, line)\n",
        "    list_with_char_removed = [char for char in line if not char in char_to_remove]\n",
        "    line = ''.join(list_with_char_removed)\n",
        "    temp = line\n",
        "    if ' ' in line:\n",
        "      temp = temp.replace(' ', '')\n",
        "    new_text.append(temp)  \n",
        "    \n",
        "  raw_data = []\n",
        "  for line in new_text:\n",
        "    len_line = len(line)\n",
        "    d = []\n",
        "    for i in range(0, len_line):\n",
        "      t = ''\n",
        "      for tag in tag_type:\n",
        "        if line[i] in vars()[tag + '_tag']:\n",
        "          t = tag\n",
        "      d.append((line[i], t))\n",
        "    raw_data.append(d)\n",
        "  print('Create list of char and feature complete...')\n",
        "  return raw_data\n",
        "\n",
        "def download_model ():\n",
        "  # change by url\n",
        "  zip_id = '1WwyyzOS7rsDGTSnxCkEBXaLqGBmGUHA4'\n",
        "  \n",
        "  auth.authenticate_user()\n",
        "  gauth = GoogleAuth()\n",
        "  gauth.credentials = GoogleCredentials.get_application_default()\n",
        "  drive = GoogleDrive(gauth)\n",
        "\n",
        "  # Downloading zip file\n",
        "  myzip = drive.CreateFile({'id': zip_id})\n",
        "  myzip.GetContentFile('model.zip')\n",
        "\n",
        "  # Uncompressing zip file\n",
        "  zip_ref = zipfile.ZipFile('model.zip', 'r')\n",
        "  zip_ref.extractall('MODEL/')\n",
        "  \n",
        "  with open('./MODEL/model.pickle', 'rb') as handle:\n",
        "    crf_model = pickle.load(handle)\n",
        "\n",
        "  print('Download model complete...')\n",
        "  return crf_model\n",
        "\n",
        "def tokenize (model, x_data):\n",
        "  x_data = [sent2features(s) for s in x_data]\n",
        "  y_data = model.predict(x_data)\n",
        "  splited_list = []\n",
        "  len_text = len(x_data)\n",
        "  \n",
        "  for i in range(0, len_text):\n",
        "    len_line = len(x_data[i])\n",
        "    split_by_pipe = ''\n",
        "    if len_line > 1:\n",
        "      for j in range(0, len_line):\n",
        "        if y_data[i][j] == 'B' and j != 0:\n",
        "          split_by_pipe += '|'\n",
        "        split_by_pipe += x_data[i][j]['current']\n",
        "      splited_list.append(split_by_pipe)\n",
        "  return splited_list\n",
        "\n",
        "def generate_word2vec (pipe_list):\n",
        "  documents = []\n",
        "  dict_count = dict()\n",
        "  \n",
        "  for i in pipe_list:\n",
        "    temp = i.split('|')\n",
        "    documents.append(temp)\n",
        "    for word in temp:\n",
        "      if word in dict_count:\n",
        "        dict_count[word] += 1\n",
        "      else:\n",
        "        dict_count[word] = 1\n",
        "  \n",
        "  print('Generate list of text split by pipe complete...')\n",
        "  \n",
        "  model = gensim.models.Word2Vec (documents, size=150, window=10, min_count=2, workers=10)\n",
        "  model.train(documents, total_examples=len(documents), epochs=10)\n",
        "  \n",
        "  print('Generate word2vec complete...')\n",
        "  import operator\n",
        "  dc_sort = sorted(dict_count.items(),key = operator.itemgetter(1), reverse = True)\n",
        "  top_word = dc_sort[0:10]\n",
        "  \n",
        "  result = (model, dc_sort, top_word)\n",
        "  return result\n",
        "  \n",
        "def show_graph (center_word, model):\n",
        "  print('Show word list and graph...')\n",
        "  print(center_word + ' : ', end='')\n",
        "  near = model.wv.most_similar(positive=center_word, topn = 10)\n",
        "  for i in near:\n",
        "    print(i[0] + '(' + '%.2f'%(1/i[1]) + ')' + ', ', end='')\n",
        "  print('\\n')\n",
        "  color = 'red'\n",
        "  graph = pydot.Dot(graph_type='graph', layout='neato')\n",
        "  for word in near:\n",
        "      edge = pydot.Edge(center_word, word[0], color=color, len=1/word[1], label=\"%.2f\" % (1/word[1]), fontsize=\"8.0\")\n",
        "      graph.add_edge(edge)\n",
        "      color = 'pink'\n",
        "  return graphviz.Source(graph) \n",
        "  \n",
        "def run_program ():\n",
        "  global w2v_model\n",
        "  global dict_sort\n",
        "  global top10word\n",
        "  create_csv()\n",
        "  text_list = create_text_list()\n",
        "  char_with_feature = generate_feature(text_list)\n",
        "  crf_model = download_model()\n",
        "  pipe_split_list = tokenize(crf_model, char_with_feature)\n",
        "  output = generate_word2vec(pipe_split_list)\n",
        "  w2v_model = output[0]\n",
        "  dict_sort = output[1]\n",
        "  top10word = output[2]\n",
        "  "
      ],
      "execution_count": 0,
      "outputs": []
    },
    {
      "metadata": {
        "id": "lZzNGPzxaZ9V",
        "colab_type": "text"
      },
      "cell_type": "markdown",
      "source": [
        "### Run"
      ]
    },
    {
      "metadata": {
        "id": "C10gm08xakeD",
        "colab_type": "text"
      },
      "cell_type": "markdown",
      "source": [
        "* upload file .xlsx \n",
        "* enter **sheet name** \n",
        "* enter **field name**\n",
        "* and.. wait\n",
        "\n"
      ]
    },
    {
      "metadata": {
        "id": "V58lsiei9y0r",
        "colab_type": "code",
        "colab": {
          "resources": {
            "http://localhost:8080/nbextensions/google.colab/files.js": {
              "data": "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",
              "ok": true,
              "headers": [
                [
                  "content-type",
                  "application/javascript"
                ]
              ],
              "status": 200,
              "status_text": ""
            }
          },
          "base_uri": "https://localhost:8080/",
          "height": 307
        },
        "outputId": "8dc0f394-231d-4b5a-fa96-2d82e7086c8d"
      },
      "cell_type": "code",
      "source": [
        "run_program()"
      ],
      "execution_count": 4,
      "outputs": [
        {
          "output_type": "display_data",
          "data": {
            "text/html": [
              "\n",
              "     <input type=\"file\" id=\"files-a5a0caaa-17d4-4c3a-a9e2-aa6594676d08\" name=\"files[]\" multiple disabled />\n",
              "     <output id=\"result-a5a0caaa-17d4-4c3a-a9e2-aa6594676d08\">\n",
              "      Upload widget is only available when the cell has been executed in the\n",
              "      current browser session. Please rerun this cell to enable.\n",
              "      </output>\n",
              "      <script src=\"/nbextensions/google.colab/files.js\"></script> "
            ],
            "text/plain": [
              "<IPython.core.display.HTML object>"
            ]
          },
          "metadata": {
            "tags": []
          }
        },
        {
          "output_type": "stream",
          "text": [
            "Saving Word to Vec.xlsx to Word to Vec (14).xlsx\n",
            "Sheet name list : ['Raw data']\n",
            "Enter sheet name : Raw data\n"
          ],
          "name": "stdout"
        },
        {
          "output_type": "stream",
          "text": [
            "/usr/local/lib/python3.6/dist-packages/pandas/util/_decorators.py:118: FutureWarning: The `sheetname` keyword is deprecated, use `sheet_name` instead\n",
            "  return func(*args, **kwargs)\n"
          ],
          "name": "stderr"
        },
        {
          "output_type": "stream",
          "text": [
            "Create CSV file complete...\n",
            "Field name list : ['id' 'date' 'time' 'post_date' 'text' 'engagement' 'post_by' 'channel'\n",
            " 'type' 'page_name' 'parent_link' 'link' 'sentiment' 'brand' 'model'\n",
            " 'Main Criteria' 'Main feature' 'feature']\n",
            "Enter field name : text\n",
            "Create list of text complete...\n",
            "Create list of char and feature complete...\n",
            "Download model complete...\n",
            "Generate list of text split by pipe complete...\n",
            "Generate word2vec complete...\n"
          ],
          "name": "stdout"
        }
      ]
    },
    {
      "metadata": {
        "id": "2WVyqmBJikz-",
        "colab_type": "text"
      },
      "cell_type": "markdown",
      "source": [
        "### Top 10 words graph"
      ]
    },
    {
      "metadata": {
        "id": "Knwdg46ySvcD",
        "colab_type": "code",
        "colab": {
          "base_uri": "https://localhost:8080/",
          "height": 888
        },
        "outputId": "3057b637-db10-4449-c877-67321f8145fa"
      },
      "cell_type": "code",
      "source": [
        "show_graph (dict_sort[0][0], w2v_model)"
      ],
      "execution_count": 5,
      "outputs": [
        {
          "output_type": "stream",
          "text": [
            "Show word list and graph...\n",
            "ที่ : ใน(2.62), ซึ่ง(2.82), วีดี(3.09), ขันวันนี้นับ(3.14), แต่(3.28), สู้อย่าง(3.30), จะระดับ(3.37), ใหญ่ระดับ(3.41), ล่า(3.46), และล่า(3.46), \n",
            "\n"
          ],
          "name": "stdout"
        },
        {
          "output_type": "execute_result",
          "data": {
            "text/plain": [
              "<graphviz.files.Source at 0x7f1140d14c18>"
            ],
            "image/svg+xml": "<?xml version=\"1.0\" encoding=\"UTF-8\" standalone=\"no\"?>\n<!DOCTYPE svg PUBLIC \"-//W3C//DTD SVG 1.1//EN\"\n \"http://www.w3.org/Graphics/SVG/1.1/DTD/svg11.dtd\">\n<!-- Generated by graphviz version 2.38.0 (20140413.2041)\n -->\n<!-- Title: G Pages: 1 -->\n<svg width=\"765pt\" height=\"612pt\"\n viewBox=\"0.00 0.00 764.88 612.08\" xmlns=\"http://www.w3.org/2000/svg\" xmlns:xlink=\"http://www.w3.org/1999/xlink\">\n<g id=\"graph0\" class=\"graph\" transform=\"scale(1 1) rotate(0) translate(376.045 287.548)\">\n<title>G</title>\n<polygon fill=\"white\" stroke=\"none\" points=\"-376.045,324.533 -376.045,-287.548 388.831,-287.548 388.831,324.533 -376.045,324.533\"/>\n<!-- ที่ -->\n<g id=\"node1\" class=\"node\"><title>ที่</title>\n<ellipse fill=\"none\" stroke=\"black\" cx=\"-6.60689\" cy=\"-8.85143\" rx=\"38.1938\" ry=\"18\"/>\n<text text-anchor=\"middle\" x=\"-6.60689\" y=\"-5.15143\" font-family=\"Times,serif\" font-size=\"14.00\">ที่</text>\n</g>\n<!-- ใน -->\n<g id=\"node2\" class=\"node\"><title>ใน</title>\n<ellipse fill=\"none\" stroke=\"black\" cx=\"140.645\" cy=\"-81.6464\" rx=\"29.4969\" ry=\"18\"/>\n<text text-anchor=\"middle\" x=\"140.645\" y=\"-77.9464\" font-family=\"Times,serif\" font-size=\"14.00\">ใน</text>\n</g>\n<!-- ที่&#45;&#45;ใน -->\n<g id=\"edge1\" class=\"edge\"><title>ที่&#45;&#45;ใน</title>\n<path fill=\"none\" stroke=\"red\" d=\"M20.0592,-22.034C47.9065,-35.8005 91.136,-57.1714 117.566,-70.2372\"/>\n<text text-anchor=\"middle\" x=\"59.3125\" y=\"-48.7356\" font-family=\"Times,serif\" font-size=\"8.00\">2.62</text>\n</g>\n<!-- ซึ่ง -->\n<g id=\"node3\" class=\"node\"><title>ซึ่ง</title>\n<ellipse fill=\"none\" stroke=\"black\" cx=\"-57.1816\" cy=\"173.303\" rx=\"48.1917\" ry=\"18\"/>\n<text text-anchor=\"middle\" x=\"-57.1816\" y=\"177.003\" font-family=\"Times,serif\" font-size=\"14.00\">ซึ่ง</text>\n</g>\n<!-- ที่&#45;&#45;ซึ่ง -->\n<g id=\"edge2\" class=\"edge\"><title>ที่&#45;&#45;ซึ่ง</title>\n<path fill=\"none\" stroke=\"pink\" d=\"M-11.6411,9.28013C-21.3352,44.1954 -42.4897,120.387 -52.1678,155.244\"/>\n<text text-anchor=\"middle\" x=\"-41.4044\" y=\"79.6622\" font-family=\"Times,serif\" font-size=\"8.00\">2.82</text>\n</g>\n<!-- วีดี -->\n<g id=\"node4\" class=\"node\"><title>วีดี</title>\n<ellipse fill=\"none\" stroke=\"black\" cx=\"-70.282\" cy=\"-260.749\" rx=\"48.1917\" ry=\"18\"/>\n<text text-anchor=\"middle\" x=\"-70.282\" y=\"-257.049\" font-family=\"Times,serif\" font-size=\"14.00\">วีดี</text>\n</g>\n<!-- ที่&#45;&#45;วีดี -->\n<g id=\"edge3\" class=\"edge\"><title>ที่&#45;&#45;วีดี</title>\n<path fill=\"none\" stroke=\"pink\" d=\"M-11.1862,-26.9673C-22.9348,-73.4443 -54.0413,-196.501 -65.7441,-242.797\"/>\n<text text-anchor=\"middle\" x=\"-47.9652\" y=\"-137.482\" font-family=\"Times,serif\" font-size=\"8.00\">3.09</text>\n</g>\n<!-- ขันวันนี้นับ -->\n<g id=\"node5\" class=\"node\"><title>ขันวันนี้นับ</title>\n<ellipse fill=\"none\" stroke=\"black\" cx=\"119.669\" cy=\"-265.548\" rx=\"122.379\" ry=\"18\"/>\n<text text-anchor=\"middle\" x=\"119.669\" y=\"-261.848\" font-family=\"Times,serif\" font-size=\"14.00\">ขันวันนี้นับ</text>\n</g>\n<!-- ที่&#45;&#45;ขันวันนี้นับ -->\n<g id=\"edge4\" class=\"edge\"><title>ที่&#45;&#45;ขันวันนี้นับ</title>\n<path fill=\"none\" stroke=\"pink\" d=\"M2.07253,-26.4952C25.0854,-73.2764 87.4881,-200.131 110.76,-247.438\"/>\n<text text-anchor=\"middle\" x=\"46.9163\" y=\"-139.567\" font-family=\"Times,serif\" font-size=\"8.00\">3.14</text>\n</g>\n<!-- แต่ -->\n<g id=\"node6\" class=\"node\"><title>แต่</title>\n<ellipse fill=\"none\" stroke=\"black\" cx=\"-231.055\" cy=\"-182.613\" rx=\"38.1938\" ry=\"18\"/>\n<text text-anchor=\"middle\" x=\"-231.055\" y=\"-178.913\" font-family=\"Times,serif\" font-size=\"14.00\">แต่</text>\n</g>\n<!-- ที่&#45;&#45;แต่ -->\n<g id=\"edge5\" class=\"edge\"><title>ที่&#45;&#45;แต่</title>\n<path fill=\"none\" stroke=\"pink\" d=\"M-26.5252,-24.2716C-69.0107,-57.1628 -168.127,-133.896 -210.859,-166.978\"/>\n<text text-anchor=\"middle\" x=\"-128.192\" y=\"-98.2246\" font-family=\"Times,serif\" font-size=\"8.00\">3.28</text>\n</g>\n<!-- สู้อย่าง -->\n<g id=\"node7\" class=\"node\"><title>สู้อย่าง</title>\n<ellipse fill=\"none\" stroke=\"black\" cx=\"-286.902\" cy=\"-3.39527\" rx=\"85.2851\" ry=\"18\"/>\n<text text-anchor=\"middle\" x=\"-286.902\" y=\"0.304731\" font-family=\"Times,serif\" font-size=\"14.00\">สู้อย่าง</text>\n</g>\n<!-- ที่&#45;&#45;สู้อย่าง -->\n<g id=\"edge6\" class=\"edge\"><title>ที่&#45;&#45;สู้อย่าง</title>\n<path fill=\"none\" stroke=\"pink\" d=\"M-44.9931,-8.10422C-85.2502,-7.32058 -149.812,-6.06384 -202.116,-5.0457\"/>\n<text text-anchor=\"middle\" x=\"-133.055\" y=\"-9.17496\" font-family=\"Times,serif\" font-size=\"8.00\">3.30</text>\n</g>\n<!-- จะระดับ -->\n<g id=\"node8\" class=\"node\"><title>จะระดับ</title>\n<ellipse fill=\"none\" stroke=\"black\" cx=\"309.438\" cy=\"-46.9862\" rx=\"75.2868\" ry=\"18\"/>\n<text text-anchor=\"middle\" x=\"309.438\" y=\"-43.2862\" font-family=\"Times,serif\" font-size=\"14.00\">จะระดับ</text>\n</g>\n<!-- ที่&#45;&#45;จะระดับ -->\n<g id=\"edge7\" class=\"edge\"><title>ที่&#45;&#45;จะระดับ</title>\n<path fill=\"none\" stroke=\"pink\" d=\"M30.5768,-13.3381C82.4655,-19.5991 177.472,-31.0628 242.019,-38.8512\"/>\n<text text-anchor=\"middle\" x=\"126.798\" y=\"-28.6947\" font-family=\"Times,serif\" font-size=\"8.00\">3.37</text>\n</g>\n<!-- ใหญ่ระดับ -->\n<g id=\"node9\" class=\"node\"><title>ใหญ่ระดับ</title>\n<ellipse fill=\"none\" stroke=\"black\" cx=\"-237.237\" cy=\"199.865\" rx=\"94.4839\" ry=\"18\"/>\n<text text-anchor=\"middle\" x=\"-237.237\" y=\"203.565\" font-family=\"Times,serif\" font-size=\"14.00\">ใหญ่ระดับ</text>\n</g>\n<!-- ที่&#45;&#45;ใหญ่ระดับ -->\n<g id=\"edge8\" class=\"edge\"><title>ที่&#45;&#45;ใหญ่ระดับ</title>\n<path fill=\"none\" stroke=\"pink\" d=\"M-24.3211,7.1796C-66.618,45.4575 -173.265,141.971 -217.519,182.02\"/>\n<text text-anchor=\"middle\" x=\"-130.42\" y=\"91.9996\" font-family=\"Times,serif\" font-size=\"8.00\">3.41</text>\n</g>\n<!-- ล่า -->\n<g id=\"node10\" class=\"node\"><title>ล่า</title>\n<ellipse fill=\"none\" stroke=\"black\" cx=\"248.052\" cy=\"174.09\" rx=\"38.1938\" ry=\"18\"/>\n<text text-anchor=\"middle\" x=\"248.052\" y=\"177.79\" font-family=\"Times,serif\" font-size=\"14.00\">ล่า</text>\n</g>\n<!-- ที่&#45;&#45;ล่า -->\n<g id=\"edge9\" class=\"edge\"><title>ที่&#45;&#45;ล่า</title>\n<path fill=\"none\" stroke=\"pink\" d=\"M14.6671,6.43136C62.7223,40.9531 179.191,124.621 227.017,158.979\"/>\n<text text-anchor=\"middle\" x=\"111.342\" y=\"80.1052\" font-family=\"Times,serif\" font-size=\"8.00\">3.46</text>\n</g>\n<!-- และล่า -->\n<g id=\"node11\" class=\"node\"><title>และล่า</title>\n<ellipse fill=\"none\" stroke=\"black\" cx=\"71.4622\" cy=\"302.533\" rx=\"66.0889\" ry=\"18\"/>\n<text text-anchor=\"middle\" x=\"71.4622\" y=\"306.233\" font-family=\"Times,serif\" font-size=\"14.00\">และล่า</text>\n</g>\n<!-- ที่&#45;&#45;และล่า -->\n<g id=\"edge10\" class=\"edge\"><title>ที่&#45;&#45;และล่า</title>\n<path fill=\"none\" stroke=\"pink\" d=\"M-2.07213,9.23581C11.726,64.2705 53.1001,229.294 66.9149,284.396\"/>\n<text text-anchor=\"middle\" x=\"22.9214\" y=\"144.216\" font-family=\"Times,serif\" font-size=\"8.00\">3.46</text>\n</g>\n</g>\n</svg>\n"
          },
          "metadata": {
            "tags": []
          },
          "execution_count": 5
        }
      ]
    },
    {
      "metadata": {
        "id": "tafQ1KayhuAO",
        "colab_type": "code",
        "colab": {
          "base_uri": "https://localhost:8080/",
          "height": 763
        },
        "outputId": "df0fb2d2-9040-453f-ea88-7e7bc0d34855"
      },
      "cell_type": "code",
      "source": [
        "show_graph (dict_sort[1][0], w2v_model)"
      ],
      "execution_count": 6,
      "outputs": [
        {
          "output_type": "stream",
          "text": [
            "Show word list and graph...\n",
            "ไม่ : ไม่รู้(2.14), ก็(2.45), คิดว่า(2.55), แต่(2.57), ได้(2.61), ครับ(2.64), ถึก(2.79), ขนาดนั้น(2.83), ไม่มาก(2.89), แล้วอยาก(2.92), \n",
            "\n"
          ],
          "name": "stdout"
        },
        {
          "output_type": "execute_result",
          "data": {
            "text/plain": [
              "<graphviz.files.Source at 0x7f113fef32e8>"
            ],
            "image/svg+xml": "<?xml version=\"1.0\" encoding=\"UTF-8\" standalone=\"no\"?>\n<!DOCTYPE svg PUBLIC \"-//W3C//DTD SVG 1.1//EN\"\n \"http://www.w3.org/Graphics/SVG/1.1/DTD/svg11.dtd\">\n<!-- Generated by graphviz version 2.38.0 (20140413.2041)\n -->\n<!-- Title: G Pages: 1 -->\n<svg width=\"592pt\" height=\"518pt\"\n viewBox=\"0.00 0.00 592.27 518.35\" xmlns=\"http://www.w3.org/2000/svg\" xmlns:xlink=\"http://www.w3.org/1999/xlink\">\n<g id=\"graph0\" class=\"graph\" transform=\"scale(1 1) rotate(0) translate(298.911 242.404)\">\n<title>G</title>\n<polygon fill=\"white\" stroke=\"none\" points=\"-298.911,275.951 -298.911,-242.404 293.358,-242.404 293.358,275.951 -298.911,275.951\"/>\n<!-- ไม่ -->\n<g id=\"node1\" class=\"node\"><title>ไม่</title>\n<ellipse fill=\"none\" stroke=\"black\" cx=\"-9.58633\" cy=\"-9.78637\" rx=\"38.1938\" ry=\"18\"/>\n<text text-anchor=\"middle\" x=\"-9.58633\" y=\"-6.08637\" font-family=\"Times,serif\" font-size=\"14.00\">ไม่</text>\n</g>\n<!-- ไม่รู้ -->\n<g id=\"node2\" class=\"node\"><title>ไม่รู้</title>\n<ellipse fill=\"none\" stroke=\"black\" cx=\"122.722\" cy=\"6.10638\" rx=\"66.0889\" ry=\"18\"/>\n<text text-anchor=\"middle\" x=\"122.722\" y=\"9.80638\" font-family=\"Times,serif\" font-size=\"14.00\">ไม่รู้</text>\n</g>\n<!-- ไม่&#45;&#45;ไม่รู้ -->\n<g id=\"edge1\" class=\"edge\"><title>ไม่&#45;&#45;ไม่รู้</title>\n<path fill=\"none\" stroke=\"red\" d=\"M27.6211,-5.31706C38.3218,-4.03172 50.281,-2.59519 62.0105,-1.18626\"/>\n<text text-anchor=\"middle\" x=\"44.8158\" y=\"3.14834\" font-family=\"Times,serif\" font-size=\"8.00\">2.14</text>\n</g>\n<!-- ก็ -->\n<g id=\"node3\" class=\"node\"><title>ก็</title>\n<ellipse fill=\"none\" stroke=\"black\" cx=\"-59.3151\" cy=\"163.144\" rx=\"29.4969\" ry=\"18\"/>\n<text text-anchor=\"middle\" x=\"-59.3151\" y=\"166.844\" font-family=\"Times,serif\" font-size=\"14.00\">ก็</text>\n</g>\n<!-- ไม่&#45;&#45;ก็ -->\n<g id=\"edge2\" class=\"edge\"><title>ไม่&#45;&#45;ก็</title>\n<path fill=\"none\" stroke=\"pink\" d=\"M-14.7209,8.06885C-24.2749,41.2926 -44.6757,112.235 -54.2085,145.386\"/>\n<text text-anchor=\"middle\" x=\"-43.9647\" y=\"74.1272\" font-family=\"Times,serif\" font-size=\"8.00\">2.45</text>\n</g>\n<!-- คิดว่า -->\n<g id=\"node4\" class=\"node\"><title>คิดว่า</title>\n<ellipse fill=\"none\" stroke=\"black\" cx=\"-51.4934\" cy=\"-220.404\" rx=\"66.0889\" ry=\"18\"/>\n<text text-anchor=\"middle\" x=\"-51.4934\" y=\"-216.704\" font-family=\"Times,serif\" font-size=\"14.00\">คิดว่า</text>\n</g>\n<!-- ไม่&#45;&#45;คิดว่า -->\n<g id=\"edge3\" class=\"edge\"><title>ไม่&#45;&#45;คิดว่า</title>\n<path fill=\"none\" stroke=\"pink\" d=\"M-13.1593,-27.7435C-21.0569,-67.4356 -39.9258,-162.267 -47.8699,-202.193\"/>\n<text text-anchor=\"middle\" x=\"-40.0146\" y=\"-117.568\" font-family=\"Times,serif\" font-size=\"8.00\">2.55</text>\n</g>\n<!-- แต่ -->\n<g id=\"node5\" class=\"node\"><title>แต่</title>\n<ellipse fill=\"none\" stroke=\"black\" cx=\"91.8328\" cy=\"-207.473\" rx=\"38.1938\" ry=\"18\"/>\n<text text-anchor=\"middle\" x=\"91.8328\" y=\"-203.773\" font-family=\"Times,serif\" font-size=\"14.00\">แต่</text>\n</g>\n<!-- ไม่&#45;&#45;แต่ -->\n<g id=\"edge4\" class=\"edge\"><title>ไม่&#45;&#45;แต่</title>\n<path fill=\"none\" stroke=\"pink\" d=\"M-0.586061,-27.3297C18.66,-64.8441 63.6246,-152.489 82.8527,-189.969\"/>\n<text text-anchor=\"middle\" x=\"31.6333\" y=\"-111.249\" font-family=\"Times,serif\" font-size=\"8.00\">2.57</text>\n</g>\n<!-- ได้ -->\n<g id=\"node6\" class=\"node\"><title>ได้</title>\n<ellipse fill=\"none\" stroke=\"black\" cx=\"-177.879\" cy=\"-150.864\" rx=\"38.1938\" ry=\"18\"/>\n<text text-anchor=\"middle\" x=\"-177.879\" y=\"-147.164\" font-family=\"Times,serif\" font-size=\"14.00\">ได้</text>\n</g>\n<!-- ไม่&#45;&#45;ได้ -->\n<g id=\"edge5\" class=\"edge\"><title>ไม่&#45;&#45;ได้</title>\n<path fill=\"none\" stroke=\"pink\" d=\"M-28.5645,-25.6955C-60.9724,-52.8626 -126.61,-107.885 -158.97,-135.013\"/>\n<text text-anchor=\"middle\" x=\"-103.267\" y=\"-82.9541\" font-family=\"Times,serif\" font-size=\"8.00\">2.61</text>\n</g>\n<!-- ครับ -->\n<g id=\"node7\" class=\"node\"><title>ครับ</title>\n<ellipse fill=\"none\" stroke=\"black\" cx=\"-228.279\" cy=\"-13.0071\" rx=\"48.1917\" ry=\"18\"/>\n<text text-anchor=\"middle\" x=\"-228.279\" y=\"-9.30709\" font-family=\"Times,serif\" font-size=\"14.00\">ครับ</text>\n</g>\n<!-- ไม่&#45;&#45;ครับ -->\n<g id=\"edge6\" class=\"edge\"><title>ไม่&#45;&#45;ครับ</title>\n<path fill=\"none\" stroke=\"pink\" d=\"M-47.9299,-10.3511C-84.6798,-10.8923 -140.281,-11.7111 -180.025,-12.2965\"/>\n<text text-anchor=\"middle\" x=\"-123.478\" y=\"-13.9238\" font-family=\"Times,serif\" font-size=\"8.00\">2.64</text>\n</g>\n<!-- ถึก -->\n<g id=\"node8\" class=\"node\"><title>ถึก</title>\n<ellipse fill=\"none\" stroke=\"black\" cx=\"235.789\" cy=\"-106.448\" rx=\"38.1938\" ry=\"18\"/>\n<text text-anchor=\"middle\" x=\"235.789\" y=\"-102.748\" font-family=\"Times,serif\" font-size=\"14.00\">ถึก</text>\n</g>\n<!-- ไม่&#45;&#45;ถึก -->\n<g id=\"edge7\" class=\"edge\"><title>ไม่&#45;&#45;ถึก</title>\n<path fill=\"none\" stroke=\"pink\" d=\"M20.0116,-21.4461C67.1738,-40.025 158.858,-76.1425 206.086,-94.7474\"/>\n<text text-anchor=\"middle\" x=\"103.549\" y=\"-60.6967\" font-family=\"Times,serif\" font-size=\"8.00\">2.79</text>\n</g>\n<!-- ขนาดนั้น -->\n<g id=\"node9\" class=\"node\"><title>ขนาดนั้น</title>\n<ellipse fill=\"none\" stroke=\"black\" cx=\"-209.768\" cy=\"151.01\" rx=\"85.2851\" ry=\"18\"/>\n<text text-anchor=\"middle\" x=\"-209.768\" y=\"154.71\" font-family=\"Times,serif\" font-size=\"14.00\">ขนาดนั้น</text>\n</g>\n<!-- ไม่&#45;&#45;ขนาดนั้น -->\n<g id=\"edge8\" class=\"edge\"><title>ไม่&#45;&#45;ขนาดนั้น</title>\n<path fill=\"none\" stroke=\"pink\" d=\"M-29.1451,5.92427C-66.7266,36.1117 -148.774,102.017 -188.016,133.538\"/>\n<text text-anchor=\"middle\" x=\"-118.081\" y=\"67.1312\" font-family=\"Times,serif\" font-size=\"8.00\">2.83</text>\n</g>\n<!-- ไม่มาก -->\n<g id=\"node10\" class=\"node\"><title>ไม่มาก</title>\n<ellipse fill=\"none\" stroke=\"black\" cx=\"223.064\" cy=\"133.771\" rx=\"66.0889\" ry=\"18\"/>\n<text text-anchor=\"middle\" x=\"223.064\" y=\"137.471\" font-family=\"Times,serif\" font-size=\"14.00\">ไม่มาก</text>\n</g>\n<!-- ไม่&#45;&#45;ไม่มาก -->\n<g id=\"edge9\" class=\"edge\"><title>ไม่&#45;&#45;ไม่มาก</title>\n<path fill=\"none\" stroke=\"pink\" d=\"M14.0017,4.7687C57.5529,31.6421 150.317,88.8826 196.208,117.2\"/>\n<text text-anchor=\"middle\" x=\"95.605\" y=\"58.3842\" font-family=\"Times,serif\" font-size=\"8.00\">2.89</text>\n</g>\n<!-- แล้วอยาก -->\n<g id=\"node11\" class=\"node\"><title>แล้วอยาก</title>\n<ellipse fill=\"none\" stroke=\"black\" cx=\"62.9131\" cy=\"253.951\" rx=\"85.2851\" ry=\"18\"/>\n<text text-anchor=\"middle\" x=\"62.9131\" y=\"257.651\" font-family=\"Times,serif\" font-size=\"14.00\">แล้วอยาก</text>\n</g>\n<!-- ไม่&#45;&#45;แล้วอยาก -->\n<g id=\"edge10\" class=\"edge\"><title>ไม่&#45;&#45;แล้วอยาก</title>\n<path fill=\"none\" stroke=\"pink\" d=\"M-4.60315,8.34135C8.64135,56.522 44.6107,187.371 57.895,235.696\"/>\n<text text-anchor=\"middle\" x=\"17.1459\" y=\"119.419\" font-family=\"Times,serif\" font-size=\"8.00\">2.92</text>\n</g>\n</g>\n</svg>\n"
          },
          "metadata": {
            "tags": []
          },
          "execution_count": 6
        }
      ]
    },
    {
      "metadata": {
        "id": "GbSnwF04ir5K",
        "colab_type": "code",
        "colab": {
          "base_uri": "https://localhost:8080/",
          "height": 679
        },
        "outputId": "33e1bb03-9f71-420e-d6fc-8fad7f20ae6b"
      },
      "cell_type": "code",
      "source": [
        "show_graph (dict_sort[2][0], w2v_model)"
      ],
      "execution_count": 7,
      "outputs": [
        {
          "output_type": "stream",
          "text": [
            "Show word list and graph...\n",
            "ครับ : ผม(1.96), ก็(2.04), ถ้า(2.10), ผมยัง(2.23), คับ(2.33), ครับยัง(2.39), ครับว่า(2.39), ผมว่า(2.40), ซื้อมา(2.43), ของบ้าง(2.48), \n",
            "\n"
          ],
          "name": "stdout"
        },
        {
          "output_type": "execute_result",
          "data": {
            "text/plain": [
              "<graphviz.files.Source at 0x7f114112e898>"
            ],
            "image/svg+xml": "<?xml version=\"1.0\" encoding=\"UTF-8\" standalone=\"no\"?>\n<!DOCTYPE svg PUBLIC \"-//W3C//DTD SVG 1.1//EN\"\n \"http://www.w3.org/Graphics/SVG/1.1/DTD/svg11.dtd\">\n<!-- Generated by graphviz version 2.38.0 (20140413.2041)\n -->\n<!-- Title: G Pages: 1 -->\n<svg width=\"588pt\" height=\"455pt\"\n viewBox=\"0.00 0.00 587.54 455.47\" xmlns=\"http://www.w3.org/2000/svg\" xmlns:xlink=\"http://www.w3.org/1999/xlink\">\n<g id=\"graph0\" class=\"graph\" transform=\"scale(1 1) rotate(0) translate(288.136 217.567)\">\n<title>G</title>\n<polygon fill=\"white\" stroke=\"none\" points=\"-288.136,237.903 -288.136,-217.567 299.401,-217.567 299.401,237.903 -288.136,237.903\"/>\n<!-- ครับ -->\n<g id=\"node1\" class=\"node\"><title>ครับ</title>\n<ellipse fill=\"none\" stroke=\"black\" cx=\"-2.26522\" cy=\"-6.58152\" rx=\"48.1917\" ry=\"18\"/>\n<text text-anchor=\"middle\" x=\"-2.26522\" y=\"-2.88152\" font-family=\"Times,serif\" font-size=\"14.00\">ครับ</text>\n</g>\n<!-- ผม -->\n<g id=\"node2\" class=\"node\"><title>ผม</title>\n<ellipse fill=\"none\" stroke=\"black\" cx=\"111.77\" cy=\"-72.4281\" rx=\"29.4969\" ry=\"18\"/>\n<text text-anchor=\"middle\" x=\"111.77\" y=\"-68.7281\" font-family=\"Times,serif\" font-size=\"14.00\">ผม</text>\n</g>\n<!-- ครับ&#45;&#45;ผม -->\n<g id=\"edge1\" class=\"edge\"><title>ครับ&#45;&#45;ผม</title>\n<path fill=\"none\" stroke=\"red\" d=\"M23.8967,-21.6881C44.0179,-33.3066 71.4756,-49.1614 90.3132,-60.0387\"/>\n<text text-anchor=\"middle\" x=\"47.6049\" y=\"-43.4634\" font-family=\"Times,serif\" font-size=\"8.00\">1.96</text>\n</g>\n<!-- ก็ -->\n<g id=\"node3\" class=\"node\"><title>ก็</title>\n<ellipse fill=\"none\" stroke=\"black\" cx=\"-41.1337\" cy=\"126.549\" rx=\"29.4969\" ry=\"18\"/>\n<text text-anchor=\"middle\" x=\"-41.1337\" y=\"130.249\" font-family=\"Times,serif\" font-size=\"14.00\">ก็</text>\n</g>\n<!-- ครับ&#45;&#45;ก็ -->\n<g id=\"edge2\" class=\"edge\"><title>ครับ&#45;&#45;ก็</title>\n<path fill=\"none\" stroke=\"pink\" d=\"M-7.50719,11.3731C-14.9255,36.782 -28.41,82.9686 -35.8506,108.454\"/>\n<text text-anchor=\"middle\" x=\"-31.1789\" y=\"57.3135\" font-family=\"Times,serif\" font-size=\"8.00\">2.04</text>\n</g>\n<!-- ถ้า -->\n<g id=\"node4\" class=\"node\"><title>ถ้า</title>\n<ellipse fill=\"none\" stroke=\"black\" cx=\"-48.9316\" cy=\"-167.486\" rx=\"38.1938\" ry=\"18\"/>\n<text text-anchor=\"middle\" x=\"-48.9316\" y=\"-163.786\" font-family=\"Times,serif\" font-size=\"14.00\">ถ้า</text>\n</g>\n<!-- ครับ&#45;&#45;ถ้า -->\n<g id=\"edge3\" class=\"edge\"><title>ครับ&#45;&#45;ถ้า</title>\n<path fill=\"none\" stroke=\"pink\" d=\"M-7.52774,-24.7265C-16.4904,-55.6294 -34.6185,-118.135 -43.6167,-149.16\"/>\n<text text-anchor=\"middle\" x=\"-35.0722\" y=\"-89.5433\" font-family=\"Times,serif\" font-size=\"8.00\">2.10</text>\n</g>\n<!-- ผมยัง -->\n<g id=\"node5\" class=\"node\"><title>ผมยัง</title>\n<ellipse fill=\"none\" stroke=\"black\" cx=\"78.1066\" cy=\"-195.567\" rx=\"57.3905\" ry=\"18\"/>\n<text text-anchor=\"middle\" x=\"78.1066\" y=\"-191.867\" font-family=\"Times,serif\" font-size=\"14.00\">ผมยัง</text>\n</g>\n<!-- ครับ&#45;&#45;ผมยัง -->\n<g id=\"edge4\" class=\"edge\"><title>ครับ&#45;&#45;ผมยัง</title>\n<path fill=\"none\" stroke=\"pink\" d=\"M5.29596,-24.3608C20.6142,-60.3798 55.1566,-141.602 70.5069,-177.697\"/>\n<text text-anchor=\"middle\" x=\"28.4015\" y=\"-103.629\" font-family=\"Times,serif\" font-size=\"8.00\">2.23</text>\n</g>\n<!-- คับ -->\n<g id=\"node6\" class=\"node\"><title>คับ</title>\n<ellipse fill=\"none\" stroke=\"black\" cx=\"-164.638\" cy=\"-132.823\" rx=\"38.1938\" ry=\"18\"/>\n<text text-anchor=\"middle\" x=\"-164.638\" y=\"-129.123\" font-family=\"Times,serif\" font-size=\"14.00\">คับ</text>\n</g>\n<!-- ครับ&#45;&#45;คับ -->\n<g id=\"edge5\" class=\"edge\"><title>ครับ&#45;&#45;คับ</title>\n<path fill=\"none\" stroke=\"pink\" d=\"M-23.1602,-22.827C-54.5948,-47.2668 -113.656,-93.1857 -144.587,-117.234\"/>\n<text text-anchor=\"middle\" x=\"-93.3737\" y=\"-72.6306\" font-family=\"Times,serif\" font-size=\"8.00\">2.33</text>\n</g>\n<!-- ครับยัง -->\n<g id=\"node7\" class=\"node\"><title>ครับยัง</title>\n<ellipse fill=\"none\" stroke=\"black\" cx=\"-208.743\" cy=\"-3.1844\" rx=\"75.2868\" ry=\"18\"/>\n<text text-anchor=\"middle\" x=\"-208.743\" y=\"0.515603\" font-family=\"Times,serif\" font-size=\"14.00\">ครับยัง</text>\n</g>\n<!-- ครับ&#45;&#45;ครับยัง -->\n<g id=\"edge6\" class=\"edge\"><title>ครับ&#45;&#45;ครับยัง</title>\n<path fill=\"none\" stroke=\"pink\" d=\"M-50.4145,-5.78933C-75.0817,-5.38349 -105.683,-4.88002 -133.388,-4.42419\"/>\n<text text-anchor=\"middle\" x=\"-101.401\" y=\"-7.70676\" font-family=\"Times,serif\" font-size=\"8.00\">2.39</text>\n</g>\n<!-- ครับว่า -->\n<g id=\"node8\" class=\"node\"><title>ครับว่า</title>\n<ellipse fill=\"none\" stroke=\"black\" cx=\"220.008\" cy=\"-23.4278\" rx=\"75.2868\" ry=\"18\"/>\n<text text-anchor=\"middle\" x=\"220.008\" y=\"-19.7278\" font-family=\"Times,serif\" font-size=\"14.00\">ครับว่า</text>\n</g>\n<!-- ครับ&#45;&#45;ครับว่า -->\n<g id=\"edge7\" class=\"edge\"><title>ครับ&#45;&#45;ครับว่า</title>\n<path fill=\"none\" stroke=\"pink\" d=\"M45.1453,-10.1748C74.98,-12.436 114.069,-15.3986 147.721,-17.9491\"/>\n<text text-anchor=\"middle\" x=\"86.9332\" y=\"-16.662\" font-family=\"Times,serif\" font-size=\"8.00\">2.39</text>\n</g>\n<!-- ผมว่า -->\n<g id=\"node9\" class=\"node\"><title>ผมว่า</title>\n<ellipse fill=\"none\" stroke=\"black\" cx=\"-166.805\" cy=\"136.59\" rx=\"57.3905\" ry=\"18\"/>\n<text text-anchor=\"middle\" x=\"-166.805\" y=\"140.29\" font-family=\"Times,serif\" font-size=\"14.00\">ผมว่า</text>\n</g>\n<!-- ครับ&#45;&#45;ผมว่า -->\n<g id=\"edge8\" class=\"edge\"><title>ครับ&#45;&#45;ผมว่า</title>\n<path fill=\"none\" stroke=\"pink\" d=\"M-21.462,10.1223C-52.9975,37.5625 -115.433,91.8902 -147.22,119.549\"/>\n<text text-anchor=\"middle\" x=\"-93.8411\" y=\"62.2357\" font-family=\"Times,serif\" font-size=\"8.00\">2.40</text>\n</g>\n<!-- ซื้อมา -->\n<g id=\"node10\" class=\"node\"><title>ซื้อมา</title>\n<ellipse fill=\"none\" stroke=\"black\" cx=\"170.599\" cy=\"122.455\" rx=\"66.0889\" ry=\"18\"/>\n<text text-anchor=\"middle\" x=\"170.599\" y=\"126.155\" font-family=\"Times,serif\" font-size=\"14.00\">ซื้อมา</text>\n</g>\n<!-- ครับ&#45;&#45;ซื้อมา -->\n<g id=\"edge9\" class=\"edge\"><title>ครับ&#45;&#45;ซื้อมา</title>\n<path fill=\"none\" stroke=\"pink\" d=\"M19.6282,9.76103C52.516,34.3105 114.368,80.4803 147.786,105.426\"/>\n<text text-anchor=\"middle\" x=\"74.2072\" y=\"54.9935\" font-family=\"Times,serif\" font-size=\"8.00\">2.43</text>\n</g>\n<!-- ของบ้าง -->\n<g id=\"node11\" class=\"node\"><title>ของบ้าง</title>\n<ellipse fill=\"none\" stroke=\"black\" cx=\"52.0329\" cy=\"215.903\" rx=\"75.2868\" ry=\"18\"/>\n<text text-anchor=\"middle\" x=\"52.0329\" y=\"219.603\" font-family=\"Times,serif\" font-size=\"14.00\">ของบ้าง</text>\n</g>\n<!-- ครับ&#45;&#45;ของบ้าง -->\n<g id=\"edge10\" class=\"edge\"><title>ครับ&#45;&#45;ของบ้าง</title>\n<path fill=\"none\" stroke=\"pink\" d=\"M2.17822,11.6253C12.3854,53.449 37.4113,155.991 47.6042,197.757\"/>\n<text text-anchor=\"middle\" x=\"15.3912\" y=\"102.091\" font-family=\"Times,serif\" font-size=\"8.00\">2.48</text>\n</g>\n</g>\n</svg>\n"
          },
          "metadata": {
            "tags": []
          },
          "execution_count": 7
        }
      ]
    },
    {
      "metadata": {
        "id": "8eWqM9Wfj6RB",
        "colab_type": "code",
        "colab": {
          "base_uri": "https://localhost:8080/",
          "height": 807
        },
        "outputId": "3ab60137-d710-4770-c4a0-b044033cc8c4"
      },
      "cell_type": "code",
      "source": [
        "show_graph (dict_sort[3][0], w2v_model)"
      ],
      "execution_count": 8,
      "outputs": [
        {
          "output_type": "stream",
          "text": [
            "Show word list and graph...\n",
            "ได้ : ก็(2.25), ผมยัง(2.58), ไม่(2.61), ครับ(2.81), ไต่(2.85), ซื้อมั้ย(2.99), ก็ดูดีดู(3.01), ไป(3.05), จะ(3.06), ต้อง(3.07), \n",
            "\n"
          ],
          "name": "stdout"
        },
        {
          "output_type": "execute_result",
          "data": {
            "text/plain": [
              "<graphviz.files.Source at 0x7f1140dfcef0>"
            ],
            "image/svg+xml": "<?xml version=\"1.0\" encoding=\"UTF-8\" standalone=\"no\"?>\n<!DOCTYPE svg PUBLIC \"-//W3C//DTD SVG 1.1//EN\"\n \"http://www.w3.org/Graphics/SVG/1.1/DTD/svg11.dtd\">\n<!-- Generated by graphviz version 2.38.0 (20140413.2041)\n -->\n<!-- Title: G Pages: 1 -->\n<svg width=\"717pt\" height=\"551pt\"\n viewBox=\"0.00 0.00 717.43 550.71\" xmlns=\"http://www.w3.org/2000/svg\" xmlns:xlink=\"http://www.w3.org/1999/xlink\">\n<g id=\"graph0\" class=\"graph\" transform=\"scale(1 1) rotate(0) translate(352.886 263.613)\">\n<title>G</title>\n<polygon fill=\"white\" stroke=\"none\" points=\"-352.886,287.098 -352.886,-263.613 364.544,-263.613 364.544,287.098 -352.886,287.098\"/>\n<!-- ได้ -->\n<g id=\"node1\" class=\"node\"><title>ได้</title>\n<ellipse fill=\"none\" stroke=\"black\" cx=\"-7.27481\" cy=\"-7.29799\" rx=\"38.1938\" ry=\"18\"/>\n<text text-anchor=\"middle\" x=\"-7.27481\" y=\"-3.59799\" font-family=\"Times,serif\" font-size=\"14.00\">ได้</text>\n</g>\n<!-- ก็ -->\n<g id=\"node2\" class=\"node\"><title>ก็</title>\n<ellipse fill=\"none\" stroke=\"black\" cx=\"120.331\" cy=\"-61.4449\" rx=\"29.4969\" ry=\"18\"/>\n<text text-anchor=\"middle\" x=\"120.331\" y=\"-57.7449\" font-family=\"Times,serif\" font-size=\"14.00\">ก็</text>\n</g>\n<!-- ได้&#45;&#45;ก็ -->\n<g id=\"edge1\" class=\"edge\"><title>ได้&#45;&#45;ก็</title>\n<path fill=\"none\" stroke=\"red\" d=\"M21.3624,-19.4496C43.8477,-28.9908 74.807,-42.1277 96.0796,-51.1542\"/>\n<text text-anchor=\"middle\" x=\"49.221\" y=\"-37.9019\" font-family=\"Times,serif\" font-size=\"8.00\">2.25</text>\n</g>\n<!-- ผมยัง -->\n<g id=\"node3\" class=\"node\"><title>ผมยัง</title>\n<ellipse fill=\"none\" stroke=\"black\" cx=\"-55.8614\" cy=\"164.973\" rx=\"57.3905\" ry=\"18\"/>\n<text text-anchor=\"middle\" x=\"-55.8614\" y=\"168.673\" font-family=\"Times,serif\" font-size=\"14.00\">ผมยัง</text>\n</g>\n<!-- ได้&#45;&#45;ผมยัง -->\n<g id=\"edge2\" class=\"edge\"><title>ได้&#45;&#45;ผมยัง</title>\n<path fill=\"none\" stroke=\"pink\" d=\"M-12.3826,10.8124C-21.7141,43.8985 -41.4144,113.749 -50.7492,146.847\"/>\n<text text-anchor=\"middle\" x=\"-41.0659\" y=\"76.2296\" font-family=\"Times,serif\" font-size=\"8.00\">2.58</text>\n</g>\n<!-- ไม่ -->\n<g id=\"node4\" class=\"node\"><title>ไม่</title>\n<ellipse fill=\"none\" stroke=\"black\" cx=\"-54.8981\" cy=\"-213.217\" rx=\"38.1938\" ry=\"18\"/>\n<text text-anchor=\"middle\" x=\"-54.8981\" y=\"-209.517\" font-family=\"Times,serif\" font-size=\"14.00\">ไม่</text>\n</g>\n<!-- ได้&#45;&#45;ไม่ -->\n<g id=\"edge3\" class=\"edge\"><title>ได้&#45;&#45;ไม่</title>\n<path fill=\"none\" stroke=\"pink\" d=\"M-11.4178,-25.2117C-20.4244,-64.1557 -41.7021,-156.159 -50.7308,-195.198\"/>\n<text text-anchor=\"middle\" x=\"-40.5743\" y=\"-112.805\" font-family=\"Times,serif\" font-size=\"8.00\">2.61</text>\n</g>\n<!-- ครับ -->\n<g id=\"node5\" class=\"node\"><title>ครับ</title>\n<ellipse fill=\"none\" stroke=\"black\" cx=\"108.23\" cy=\"-241.613\" rx=\"48.1917\" ry=\"18\"/>\n<text text-anchor=\"middle\" x=\"108.23\" y=\"-237.913\" font-family=\"Times,serif\" font-size=\"14.00\">ครับ</text>\n</g>\n<!-- ได้&#45;&#45;ครับ -->\n<g id=\"edge4\" class=\"edge\"><title>ได้&#45;&#45;ครับ</title>\n<path fill=\"none\" stroke=\"pink\" d=\"M1.40685,-24.9097C22.8125,-68.3336 77.9368,-180.159 99.4479,-223.797\"/>\n<text text-anchor=\"middle\" x=\"40.9274\" y=\"-126.953\" font-family=\"Times,serif\" font-size=\"8.00\">2.81</text>\n</g>\n<!-- ไต่ -->\n<g id=\"node6\" class=\"node\"><title>ไต่</title>\n<ellipse fill=\"none\" stroke=\"black\" cx=\"-196.941\" cy=\"-164.184\" rx=\"38.1938\" ry=\"18\"/>\n<text text-anchor=\"middle\" x=\"-196.941\" y=\"-160.484\" font-family=\"Times,serif\" font-size=\"14.00\">ไต่</text>\n</g>\n<!-- ได้&#45;&#45;ไต่ -->\n<g id=\"edge5\" class=\"edge\"><title>ได้&#45;&#45;ไต่</title>\n<path fill=\"none\" stroke=\"pink\" d=\"M-26.5047,-23.2044C-62.9512,-53.3518 -141.675,-118.47 -177.942,-148.469\"/>\n<text text-anchor=\"middle\" x=\"-111.723\" y=\"-88.4365\" font-family=\"Times,serif\" font-size=\"8.00\">2.85</text>\n</g>\n<!-- ซื้อมั้ย -->\n<g id=\"node7\" class=\"node\"><title>ซื้อมั้ย</title>\n<ellipse fill=\"none\" stroke=\"black\" cx=\"-263.744\" cy=\"-8.99004\" rx=\"85.2851\" ry=\"18\"/>\n<text text-anchor=\"middle\" x=\"-263.744\" y=\"-5.29004\" font-family=\"Times,serif\" font-size=\"14.00\">ซื้อมั้ย</text>\n</g>\n<!-- ได้&#45;&#45;ซื้อมั้ย -->\n<g id=\"edge6\" class=\"edge\"><title>ได้&#45;&#45;ซื้อมั้ย</title>\n<path fill=\"none\" stroke=\"pink\" d=\"M-45.6708,-7.55131C-80.6753,-7.78225 -133.628,-8.13161 -178.587,-8.42822\"/>\n<text text-anchor=\"middle\" x=\"-121.629\" y=\"-10.5898\" font-family=\"Times,serif\" font-size=\"8.00\">2.99</text>\n</g>\n<!-- ก็ดูดีดู -->\n<g id=\"node8\" class=\"node\"><title>ก็ดูดีดู</title>\n<ellipse fill=\"none\" stroke=\"black\" cx=\"275.401\" cy=\"-54.0696\" rx=\"85.2851\" ry=\"18\"/>\n<text text-anchor=\"middle\" x=\"275.401\" y=\"-50.3696\" font-family=\"Times,serif\" font-size=\"14.00\">ก็ดูดีดู</text>\n</g>\n<!-- ได้&#45;&#45;ก็ดูดีดู -->\n<g id=\"edge7\" class=\"edge\"><title>ได้&#45;&#45;ก็ดูดีดู</title>\n<path fill=\"none\" stroke=\"pink\" d=\"M29.1015,-13.3168C74.2084,-20.7802 151.991,-33.6501 208.092,-42.9327\"/>\n<text text-anchor=\"middle\" x=\"109.097\" y=\"-30.7247\" font-family=\"Times,serif\" font-size=\"8.00\">3.01</text>\n</g>\n<!-- ไป -->\n<g id=\"node9\" class=\"node\"><title>ไป</title>\n<ellipse fill=\"none\" stroke=\"black\" cx=\"-215.078\" cy=\"172.13\" rx=\"29.4969\" ry=\"18\"/>\n<text text-anchor=\"middle\" x=\"-215.078\" y=\"175.83\" font-family=\"Times,serif\" font-size=\"14.00\">ไป</text>\n</g>\n<!-- ได้&#45;&#45;ไป -->\n<g id=\"edge8\" class=\"edge\"><title>ได้&#45;&#45;ไป</title>\n<path fill=\"none\" stroke=\"pink\" d=\"M-25.7159,8.62508C-65.5474,43.0178 -159.143,123.833 -197.853,157.257\"/>\n<text text-anchor=\"middle\" x=\"-121.284\" y=\"80.3412\" font-family=\"Times,serif\" font-size=\"8.00\">3.05</text>\n</g>\n<!-- จะ -->\n<g id=\"node10\" class=\"node\"><title>จะ</title>\n<ellipse fill=\"none\" stroke=\"black\" cx=\"221.332\" cy=\"148.615\" rx=\"29.4969\" ry=\"18\"/>\n<text text-anchor=\"middle\" x=\"221.332\" y=\"152.315\" font-family=\"Times,serif\" font-size=\"14.00\">จะ</text>\n</g>\n<!-- ได้&#45;&#45;จะ -->\n<g id=\"edge9\" class=\"edge\"><title>ได้&#45;&#45;จะ</title>\n<path fill=\"none\" stroke=\"pink\" d=\"M14.645,7.65156C59.0117,37.9101 158.842,105.996 201.449,135.054\"/>\n<text text-anchor=\"middle\" x=\"98.5472\" y=\"68.7529\" font-family=\"Times,serif\" font-size=\"8.00\">3.06</text>\n</g>\n<!-- ต้อง -->\n<g id=\"node11\" class=\"node\"><title>ต้อง</title>\n<ellipse fill=\"none\" stroke=\"black\" cx=\"68.5015\" cy=\"265.098\" rx=\"48.1917\" ry=\"18\"/>\n<text text-anchor=\"middle\" x=\"68.5015\" y=\"268.798\" font-family=\"Times,serif\" font-size=\"14.00\">ต้อง</text>\n</g>\n<!-- ได้&#45;&#45;ต้อง -->\n<g id=\"edge10\" class=\"edge\"><title>ได้&#45;&#45;ต้อง</title>\n<path fill=\"none\" stroke=\"pink\" d=\"M-2.30291,10.5747C11.4273,59.9313 49.7592,197.725 63.5113,247.16\"/>\n<text text-anchor=\"middle\" x=\"21.1042\" y=\"126.267\" font-family=\"Times,serif\" font-size=\"8.00\">3.07</text>\n</g>\n</g>\n</svg>\n"
          },
          "metadata": {
            "tags": []
          },
          "execution_count": 8
        }
      ]
    },
    {
      "metadata": {
        "id": "Spe4AuSjj6WD",
        "colab_type": "code",
        "colab": {
          "base_uri": "https://localhost:8080/",
          "height": 753
        },
        "outputId": "24bb7093-cd25-4d9b-92a6-494fe76d6030"
      },
      "cell_type": "code",
      "source": [
        "show_graph (dict_sort[4][0], w2v_model)"
      ],
      "execution_count": 9,
      "outputs": [
        {
          "output_type": "stream",
          "text": [
            "Show word list and graph...\n",
            "ไป : ก็(2.33), แต่นอน(2.39), เมื่อยนิด(2.42), ซื้อมา(2.51), ไปช่าง(2.72), จอด(2.76), โมงลงรถ(2.80), กันชั่ว(2.82), เลยนะง่ายๆ(2.83), กระบะดันราง(2.86), \n",
            "\n"
          ],
          "name": "stdout"
        },
        {
          "output_type": "execute_result",
          "data": {
            "text/plain": [
              "<graphviz.files.Source at 0x7f1140a77550>"
            ],
            "image/svg+xml": "<?xml version=\"1.0\" encoding=\"UTF-8\" standalone=\"no\"?>\n<!DOCTYPE svg PUBLIC \"-//W3C//DTD SVG 1.1//EN\"\n \"http://www.w3.org/Graphics/SVG/1.1/DTD/svg11.dtd\">\n<!-- Generated by graphviz version 2.38.0 (20140413.2041)\n -->\n<!-- Title: G Pages: 1 -->\n<svg width=\"619pt\" height=\"511pt\"\n viewBox=\"0.00 0.00 619.07 511.20\" xmlns=\"http://www.w3.org/2000/svg\" xmlns:xlink=\"http://www.w3.org/1999/xlink\">\n<g id=\"graph0\" class=\"graph\" transform=\"scale(1 1) rotate(0) translate(281.272 242.721)\">\n<title>G</title>\n<polygon fill=\"white\" stroke=\"none\" points=\"-281.272,268.484 -281.272,-242.721 337.796,-242.721 337.796,268.484 -281.272,268.484\"/>\n<!-- ไป -->\n<g id=\"node1\" class=\"node\"><title>ไป</title>\n<ellipse fill=\"none\" stroke=\"black\" cx=\"-1.0126\" cy=\"-9.15953\" rx=\"29.4969\" ry=\"18\"/>\n<text text-anchor=\"middle\" x=\"-1.0126\" y=\"-5.45953\" font-family=\"Times,serif\" font-size=\"14.00\">ไป</text>\n</g>\n<!-- ก็ -->\n<g id=\"node2\" class=\"node\"><title>ก็</title>\n<ellipse fill=\"none\" stroke=\"black\" cx=\"140.895\" cy=\"-92.058\" rx=\"29.4969\" ry=\"18\"/>\n<text text-anchor=\"middle\" x=\"140.895\" y=\"-88.358\" font-family=\"Times,serif\" font-size=\"14.00\">ก็</text>\n</g>\n<!-- ไป&#45;&#45;ก็ -->\n<g id=\"edge1\" class=\"edge\"><title>ไป&#45;&#45;ก็</title>\n<path fill=\"none\" stroke=\"red\" d=\"M20.2324,-21.5703C46.9848,-37.1983 92.6837,-63.8945 119.505,-79.5625\"/>\n<text text-anchor=\"middle\" x=\"60.3684\" y=\"-53.1664\" font-family=\"Times,serif\" font-size=\"8.00\">2.33</text>\n</g>\n<!-- แต่นอน -->\n<g id=\"node3\" class=\"node\"><title>แต่นอน</title>\n<ellipse fill=\"none\" stroke=\"black\" cx=\"-49.9454\" cy=\"145.724\" rx=\"66.0889\" ry=\"18\"/>\n<text text-anchor=\"middle\" x=\"-49.9454\" y=\"149.424\" font-family=\"Times,serif\" font-size=\"14.00\">แต่นอน</text>\n</g>\n<!-- ไป&#45;&#45;แต่นอน -->\n<g id=\"edge2\" class=\"edge\"><title>ไป&#45;&#45;แต่นอน</title>\n<path fill=\"none\" stroke=\"pink\" d=\"M-6.62581,8.60758C-16.0146,38.3252 -34.8016,97.7904 -44.2469,127.687\"/>\n<text text-anchor=\"middle\" x=\"-34.9364\" y=\"65.5473\" font-family=\"Times,serif\" font-size=\"8.00\">2.39</text>\n</g>\n<!-- เมื่อยนิด -->\n<g id=\"node4\" class=\"node\"><title>เมื่อยนิด</title>\n<ellipse fill=\"none\" stroke=\"black\" cx=\"-58.302\" cy=\"-190.691\" rx=\"94.4839\" ry=\"18\"/>\n<text text-anchor=\"middle\" x=\"-58.302\" y=\"-186.991\" font-family=\"Times,serif\" font-size=\"14.00\">เมื่อยนิด</text>\n</g>\n<!-- ไป&#45;&#45;เมื่อยนิด -->\n<g id=\"edge3\" class=\"edge\"><title>ไป&#45;&#45;เมื่อยนิด</title>\n<path fill=\"none\" stroke=\"pink\" d=\"M-6.61005,-26.896C-17.5343,-61.5114 -41.5871,-137.727 -52.5969,-172.613\"/>\n<text text-anchor=\"middle\" x=\"-39.1035\" y=\"-102.355\" font-family=\"Times,serif\" font-size=\"8.00\">2.42</text>\n</g>\n<!-- ซื้อมา -->\n<g id=\"node5\" class=\"node\"><title>ซื้อมา</title>\n<ellipse fill=\"none\" stroke=\"black\" cx=\"81.4016\" cy=\"-220.721\" rx=\"66.0889\" ry=\"18\"/>\n<text text-anchor=\"middle\" x=\"81.4016\" y=\"-217.021\" font-family=\"Times,serif\" font-size=\"14.00\">ซื้อมา</text>\n</g>\n<!-- ไป&#45;&#45;ซื้อมา -->\n<g id=\"edge4\" class=\"edge\"><title>ไป&#45;&#45;ซื้อมา</title>\n<path fill=\"none\" stroke=\"pink\" d=\"M5.87224,-26.8332C21.3468,-66.5571 58.7418,-162.552 74.3616,-202.649\"/>\n<text text-anchor=\"middle\" x=\"30.6169\" y=\"-117.341\" font-family=\"Times,serif\" font-size=\"8.00\">2.51</text>\n</g>\n<!-- ไปช่าง -->\n<g id=\"node6\" class=\"node\"><title>ไปช่าง</title>\n<ellipse fill=\"none\" stroke=\"black\" cx=\"-193.077\" cy=\"-156.909\" rx=\"66.0889\" ry=\"18\"/>\n<text text-anchor=\"middle\" x=\"-193.077\" y=\"-153.209\" font-family=\"Times,serif\" font-size=\"14.00\">ไปช่าง</text>\n</g>\n<!-- ไป&#45;&#45;ไปช่าง -->\n<g id=\"edge5\" class=\"edge\"><title>ไป&#45;&#45;ไปช่าง</title>\n<path fill=\"none\" stroke=\"pink\" d=\"M-19.4285,-23.3264C-54.9192,-50.6284 -132.654,-110.428 -170.912,-139.859\"/>\n<text text-anchor=\"middle\" x=\"-104.67\" y=\"-84.1926\" font-family=\"Times,serif\" font-size=\"8.00\">2.72</text>\n</g>\n<!-- จอด -->\n<g id=\"node7\" class=\"node\"><title>จอด</title>\n<ellipse fill=\"none\" stroke=\"black\" cx=\"-238.925\" cy=\"-3.93195\" rx=\"38.1938\" ry=\"18\"/>\n<text text-anchor=\"middle\" x=\"-238.925\" y=\"-0.231947\" font-family=\"Times,serif\" font-size=\"14.00\">จอด</text>\n</g>\n<!-- ไป&#45;&#45;จอด -->\n<g id=\"edge6\" class=\"edge\"><title>ไป&#45;&#45;จอด</title>\n<path fill=\"none\" stroke=\"pink\" d=\"M-30.6633,-8.50802C-73.5133,-7.5665 -152.796,-5.82443 -200.212,-4.78257\"/>\n<text text-anchor=\"middle\" x=\"-124.938\" y=\"-9.2453\" font-family=\"Times,serif\" font-size=\"8.00\">2.76</text>\n</g>\n<!-- โมงลงรถ -->\n<g id=\"node8\" class=\"node\"><title>โมงลงรถ</title>\n<ellipse fill=\"none\" stroke=\"black\" cx=\"258.403\" cy=\"-23.0074\" rx=\"75.2868\" ry=\"18\"/>\n<text text-anchor=\"middle\" x=\"258.403\" y=\"-19.3074\" font-family=\"Times,serif\" font-size=\"14.00\">โมงลงรถ</text>\n</g>\n<!-- ไป&#45;&#45;โมงลงรถ -->\n<g id=\"edge7\" class=\"edge\"><title>ไป&#45;&#45;โมงลงรถ</title>\n<path fill=\"none\" stroke=\"pink\" d=\"M28.2414,-10.7211C65.9397,-12.7335 132.808,-16.303 184.789,-19.0778\"/>\n<text text-anchor=\"middle\" x=\"97.0152\" y=\"-17.4995\" font-family=\"Times,serif\" font-size=\"8.00\">2.80</text>\n</g>\n<!-- กันชั่ว -->\n<g id=\"node9\" class=\"node\"><title>กันชั่ว</title>\n<ellipse fill=\"none\" stroke=\"black\" cx=\"-196.002\" cy=\"161.288\" rx=\"75.2868\" ry=\"18\"/>\n<text text-anchor=\"middle\" x=\"-196.002\" y=\"164.988\" font-family=\"Times,serif\" font-size=\"14.00\">กันชั่ว</text>\n</g>\n<!-- ไป&#45;&#45;กันชั่ว -->\n<g id=\"edge8\" class=\"edge\"><title>ไป&#45;&#45;กันชั่ว</title>\n<path fill=\"none\" stroke=\"pink\" d=\"M-17.9756,5.66843C-53.9261,37.0941 -137.626,110.26 -176.06,143.856\"/>\n<text text-anchor=\"middle\" x=\"-106.518\" y=\"72.1621\" font-family=\"Times,serif\" font-size=\"8.00\">2.82</text>\n</g>\n<!-- เลยนะง่ายๆ -->\n<g id=\"node10\" class=\"node\"><title>เลยนะง่ายๆ</title>\n<ellipse fill=\"none\" stroke=\"black\" cx=\"196.609\" cy=\"142.981\" rx=\"103.182\" ry=\"18\"/>\n<text text-anchor=\"middle\" x=\"196.609\" y=\"146.681\" font-family=\"Times,serif\" font-size=\"14.00\">เลยนะง่ายๆ</text>\n</g>\n<!-- ไป&#45;&#45;เลยนะง่ายๆ -->\n<g id=\"edge9\" class=\"edge\"><title>ไป&#45;&#45;เลยนะง่ายๆ</title>\n<path fill=\"none\" stroke=\"pink\" d=\"M17.5792,5.15345C53.899,33.1145 134.172,94.9134 173.702,125.346\"/>\n<text text-anchor=\"middle\" x=\"86.1407\" y=\"62.6497\" font-family=\"Times,serif\" font-size=\"8.00\">2.83</text>\n</g>\n<!-- กระบะดันราง -->\n<g id=\"node11\" class=\"node\"><title>กระบะดันราง</title>\n<ellipse fill=\"none\" stroke=\"black\" cx=\"59.9562\" cy=\"246.484\" rx=\"112.38\" ry=\"18\"/>\n<text text-anchor=\"middle\" x=\"59.9562\" y=\"250.184\" font-family=\"Times,serif\" font-size=\"14.00\">กระบะดันราง</text>\n</g>\n<!-- ไป&#45;&#45;กระบะดันราง -->\n<g id=\"edge10\" class=\"edge\"><title>ไป&#45;&#45;กระบะดันราง</title>\n<path fill=\"none\" stroke=\"pink\" d=\"M3.27461,8.81684C14.4419,55.6416 44.3394,181.003 55.5921,228.186\"/>\n<text text-anchor=\"middle\" x=\"19.9334\" y=\"115.901\" font-family=\"Times,serif\" font-size=\"8.00\">2.86</text>\n</g>\n</g>\n</svg>\n"
          },
          "metadata": {
            "tags": []
          },
          "execution_count": 9
        }
      ]
    },
    {
      "metadata": {
        "id": "UIx31Xmyj6Z9",
        "colab_type": "code",
        "colab": {
          "base_uri": "https://localhost:8080/",
          "height": 785
        },
        "outputId": "cb303c2f-a59b-48db-f6c0-ae140a234fb1"
      },
      "cell_type": "code",
      "source": [
        "show_graph (dict_sort[5][0], w2v_model)"
      ],
      "execution_count": 10,
      "outputs": [
        {
          "output_type": "stream",
          "text": [
            "Show word list and graph...\n",
            "จะ : ก็(2.48), หน่อยยอด(2.73), ก่อนอยู่(2.74), เวลา(2.76), ไม่รู้(2.81), คง(2.86), แต่(2.89), ครับดังนั้น(2.99), ก่อน(3.00), ถต่อ(3.01), \n",
            "\n"
          ],
          "name": "stdout"
        },
        {
          "output_type": "execute_result",
          "data": {
            "text/plain": [
              "<graphviz.files.Source at 0x7f1140d9e4e0>"
            ],
            "image/svg+xml": "<?xml version=\"1.0\" encoding=\"UTF-8\" standalone=\"no\"?>\n<!DOCTYPE svg PUBLIC \"-//W3C//DTD SVG 1.1//EN\"\n \"http://www.w3.org/Graphics/SVG/1.1/DTD/svg11.dtd\">\n<!-- Generated by graphviz version 2.38.0 (20140413.2041)\n -->\n<!-- Title: G Pages: 1 -->\n<svg width=\"637pt\" height=\"535pt\"\n viewBox=\"0.00 0.00 636.89 535.16\" xmlns=\"http://www.w3.org/2000/svg\" xmlns:xlink=\"http://www.w3.org/1999/xlink\">\n<g id=\"graph0\" class=\"graph\" transform=\"scale(1 1) rotate(0) translate(331.699 260.185)\">\n<title>G</title>\n<polygon fill=\"white\" stroke=\"none\" points=\"-331.699,274.977 -331.699,-260.185 305.191,-260.185 305.191,274.977 -331.699,274.977\"/>\n<!-- จะ -->\n<g id=\"node1\" class=\"node\"><title>จะ</title>\n<ellipse fill=\"none\" stroke=\"black\" cx=\"-2.72615\" cy=\"-5.54349\" rx=\"29.4969\" ry=\"18\"/>\n<text text-anchor=\"middle\" x=\"-2.72615\" y=\"-1.84349\" font-family=\"Times,serif\" font-size=\"14.00\">จะ</text>\n</g>\n<!-- ก็ -->\n<g id=\"node2\" class=\"node\"><title>ก็</title>\n<ellipse fill=\"none\" stroke=\"black\" cx=\"139.891\" cy=\"-96.7781\" rx=\"29.4969\" ry=\"18\"/>\n<text text-anchor=\"middle\" x=\"139.891\" y=\"-93.0781\" font-family=\"Times,serif\" font-size=\"14.00\">ก็</text>\n</g>\n<!-- จะ&#45;&#45;ก็ -->\n<g id=\"edge1\" class=\"edge\"><title>จะ&#45;&#45;ก็</title>\n<path fill=\"none\" stroke=\"red\" d=\"M17.7075,-18.6152C44.819,-35.9589 92.4031,-66.3992 119.496,-83.7306\"/>\n<text text-anchor=\"middle\" x=\"59.1015\" y=\"-53.7729\" font-family=\"Times,serif\" font-size=\"8.00\">2.48</text>\n</g>\n<!-- หน่อยยอด -->\n<g id=\"node3\" class=\"node\"><title>หน่อยยอด</title>\n<ellipse fill=\"none\" stroke=\"black\" cx=\"-64.4301\" cy=\"192.735\" rx=\"85.2851\" ry=\"18\"/>\n<text text-anchor=\"middle\" x=\"-64.4301\" y=\"196.435\" font-family=\"Times,serif\" font-size=\"14.00\">หน่อยยอด</text>\n</g>\n<!-- จะ&#45;&#45;หน่อยยอด -->\n<g id=\"edge2\" class=\"edge\"><title>จะ&#45;&#45;หน่อยยอด</title>\n<path fill=\"none\" stroke=\"pink\" d=\"M-8.31079,12.4021C-20.0289,50.0566 -47.0679,136.943 -58.8136,174.687\"/>\n<text text-anchor=\"middle\" x=\"-43.0622\" y=\"90.9444\" font-family=\"Times,serif\" font-size=\"8.00\">2.73</text>\n</g>\n<!-- ก่อนอยู่ -->\n<g id=\"node4\" class=\"node\"><title>ก่อนอยู่</title>\n<ellipse fill=\"none\" stroke=\"black\" cx=\"-66.2182\" cy=\"-230.075\" rx=\"85.2851\" ry=\"18\"/>\n<text text-anchor=\"middle\" x=\"-66.2182\" y=\"-226.375\" font-family=\"Times,serif\" font-size=\"14.00\">ก่อนอยู่</text>\n</g>\n<!-- จะ&#45;&#45;ก่อนอยู่ -->\n<g id=\"edge3\" class=\"edge\"><title>จะ&#45;&#45;ก่อนอยู่</title>\n<path fill=\"none\" stroke=\"pink\" d=\"M-7.81464,-23.5383C-19.703,-65.5798 -49.1932,-169.868 -61.1055,-211.994\"/>\n<text text-anchor=\"middle\" x=\"-43.9601\" y=\"-120.366\" font-family=\"Times,serif\" font-size=\"8.00\">2.74</text>\n</g>\n<!-- เวลา -->\n<g id=\"node5\" class=\"node\"><title>เวลา</title>\n<ellipse fill=\"none\" stroke=\"black\" cx=\"96.0103\" cy=\"-238.185\" rx=\"48.1917\" ry=\"18\"/>\n<text text-anchor=\"middle\" x=\"96.0103\" y=\"-234.485\" font-family=\"Times,serif\" font-size=\"14.00\">เวลา</text>\n</g>\n<!-- จะ&#45;&#45;เวลา -->\n<g id=\"edge4\" class=\"edge\"><title>จะ&#45;&#45;เวลา</title>\n<path fill=\"none\" stroke=\"pink\" d=\"M4.69513,-23.0294C22.9484,-66.0374 69.8839,-176.626 88.3672,-220.176\"/>\n<text text-anchor=\"middle\" x=\"37.0312\" y=\"-124.203\" font-family=\"Times,serif\" font-size=\"8.00\">2.76</text>\n</g>\n<!-- ไม่รู้ -->\n<g id=\"node6\" class=\"node\"><title>ไม่รู้</title>\n<ellipse fill=\"none\" stroke=\"black\" cx=\"-194.633\" cy=\"-151.366\" rx=\"66.0889\" ry=\"18\"/>\n<text text-anchor=\"middle\" x=\"-194.633\" y=\"-147.666\" font-family=\"Times,serif\" font-size=\"14.00\">ไม่รู้</text>\n</g>\n<!-- จะ&#45;&#45;ไม่รู้ -->\n<g id=\"edge5\" class=\"edge\"><title>จะ&#45;&#45;ไม่รู้</title>\n<path fill=\"none\" stroke=\"pink\" d=\"M-21.4764,-19.7911C-57.0328,-46.809 -134.109,-105.376 -172.282,-134.383\"/>\n<text text-anchor=\"middle\" x=\"-106.379\" y=\"-79.6869\" font-family=\"Times,serif\" font-size=\"8.00\">2.81</text>\n</g>\n<!-- คง -->\n<g id=\"node7\" class=\"node\"><title>คง</title>\n<ellipse fill=\"none\" stroke=\"black\" cx=\"-243.663\" cy=\"-6.11797\" rx=\"29.4969\" ry=\"18\"/>\n<text text-anchor=\"middle\" x=\"-243.663\" y=\"-2.41797\" font-family=\"Times,serif\" font-size=\"14.00\">คง</text>\n</g>\n<!-- จะ&#45;&#45;คง -->\n<g id=\"edge6\" class=\"edge\"><title>จะ&#45;&#45;คง</title>\n<path fill=\"none\" stroke=\"pink\" d=\"M-32.2698,-5.61393C-78.6377,-5.72449 -167.971,-5.93749 -214.255,-6.04785\"/>\n<text text-anchor=\"middle\" x=\"-132.762\" y=\"-8.43089\" font-family=\"Times,serif\" font-size=\"8.00\">2.86</text>\n</g>\n<!-- แต่ -->\n<g id=\"node8\" class=\"node\"><title>แต่</title>\n<ellipse fill=\"none\" stroke=\"black\" cx=\"262.844\" cy=\"-23.6608\" rx=\"38.1938\" ry=\"18\"/>\n<text text-anchor=\"middle\" x=\"262.844\" y=\"-19.9608\" font-family=\"Times,serif\" font-size=\"14.00\">แต่</text>\n</g>\n<!-- จะ&#45;&#45;แต่ -->\n<g id=\"edge7\" class=\"edge\"><title>จะ&#45;&#45;แต่</title>\n<path fill=\"none\" stroke=\"pink\" d=\"M26.4542,-7.53419C74.6919,-10.825 171.045,-17.3982 224.643,-21.0547\"/>\n<text text-anchor=\"middle\" x=\"116.049\" y=\"-16.8945\" font-family=\"Times,serif\" font-size=\"8.00\">2.89</text>\n</g>\n<!-- ครับดังนั้น -->\n<g id=\"node9\" class=\"node\"><title>ครับดังนั้น</title>\n<ellipse fill=\"none\" stroke=\"black\" cx=\"-215.259\" cy=\"158.032\" rx=\"112.38\" ry=\"18\"/>\n<text text-anchor=\"middle\" x=\"-215.259\" y=\"161.732\" font-family=\"Times,serif\" font-size=\"14.00\">ครับดังนั้น</text>\n</g>\n<!-- จะ&#45;&#45;ครับดังนั้น -->\n<g id=\"edge8\" class=\"edge\"><title>จะ&#45;&#45;ครับดังนั้น</title>\n<path fill=\"none\" stroke=\"pink\" d=\"M-21.2153,8.68665C-59.9963,38.5344 -149.756,107.618 -192.211,140.294\"/>\n<text text-anchor=\"middle\" x=\"-116.213\" y=\"71.8902\" font-family=\"Times,serif\" font-size=\"8.00\">2.99</text>\n</g>\n<!-- ก่อน -->\n<g id=\"node10\" class=\"node\"><title>ก่อน</title>\n<ellipse fill=\"none\" stroke=\"black\" cx=\"212.178\" cy=\"147.982\" rx=\"48.1917\" ry=\"18\"/>\n<text text-anchor=\"middle\" x=\"212.178\" y=\"151.682\" font-family=\"Times,serif\" font-size=\"14.00\">ก่อน</text>\n</g>\n<!-- จะ&#45;&#45;ก่อน -->\n<g id=\"edge9\" class=\"edge\"><title>จะ&#45;&#45;ก่อน</title>\n<path fill=\"none\" stroke=\"pink\" d=\"M16.7242,8.35164C56.6064,36.843 147.445,101.737 189.739,131.952\"/>\n<text text-anchor=\"middle\" x=\"93.7317\" y=\"67.5516\" font-family=\"Times,serif\" font-size=\"8.00\">3.00</text>\n</g>\n<!-- ถต่อ -->\n<g id=\"node11\" class=\"node\"><title>ถต่อ</title>\n<ellipse fill=\"none\" stroke=\"black\" cx=\"76.0057\" cy=\"252.977\" rx=\"48.1917\" ry=\"18\"/>\n<text text-anchor=\"middle\" x=\"76.0057\" y=\"256.677\" font-family=\"Times,serif\" font-size=\"14.00\">ถต่อ</text>\n</g>\n<!-- จะ&#45;&#45;ถต่อ -->\n<g id=\"edge10\" class=\"edge\"><title>จะ&#45;&#45;ถต่อ</title>\n<path fill=\"none\" stroke=\"pink\" d=\"M2.68541,12.2257C17.0685,59.4533 56.13,187.714 70.5562,235.083\"/>\n<text text-anchor=\"middle\" x=\"27.1208\" y=\"121.055\" font-family=\"Times,serif\" font-size=\"8.00\">3.01</text>\n</g>\n</g>\n</svg>\n"
          },
          "metadata": {
            "tags": []
          },
          "execution_count": 10
        }
      ]
    },
    {
      "metadata": {
        "id": "zmpwQsjoj6dV",
        "colab_type": "code",
        "colab": {
          "base_uri": "https://localhost:8080/",
          "height": 711
        },
        "outputId": "75973ff2-d81a-410b-97f0-9729734c6e79"
      },
      "cell_type": "code",
      "source": [
        "show_graph (dict_sort[6][0], w2v_model)"
      ],
      "execution_count": 11,
      "outputs": [
        {
          "output_type": "stream",
          "text": [
            "Show word list and graph...\n",
            "ก็ : ครับ(2.04), ผมยัง(2.13), ได้(2.25), ไป(2.33), ไม่(2.45), จะ(2.48), เลย(2.53), ซื้อมา(2.54), แต่(2.61), ค่อย(2.66), \n",
            "\n"
          ],
          "name": "stdout"
        },
        {
          "output_type": "execute_result",
          "data": {
            "text/plain": [
              "<graphviz.files.Source at 0x7f114109bef0>"
            ],
            "image/svg+xml": "<?xml version=\"1.0\" encoding=\"UTF-8\" standalone=\"no\"?>\n<!DOCTYPE svg PUBLIC \"-//W3C//DTD SVG 1.1//EN\"\n \"http://www.w3.org/Graphics/SVG/1.1/DTD/svg11.dtd\">\n<!-- Generated by graphviz version 2.38.0 (20140413.2041)\n -->\n<!-- Title: G Pages: 1 -->\n<svg width=\"524pt\" height=\"479pt\"\n viewBox=\"0.00 0.00 524.42 479.18\" xmlns=\"http://www.w3.org/2000/svg\" xmlns:xlink=\"http://www.w3.org/1999/xlink\">\n<g id=\"graph0\" class=\"graph\" transform=\"scale(1 1) rotate(0) translate(249.316 224.549)\">\n<title>G</title>\n<polygon fill=\"white\" stroke=\"none\" points=\"-249.316,254.63 -249.316,-224.549 275.106,-224.549 275.106,254.63 -249.316,254.63\"/>\n<!-- ก็ -->\n<g id=\"node1\" class=\"node\"><title>ก็</title>\n<ellipse fill=\"none\" stroke=\"black\" cx=\"-4.14354\" cy=\"-8.50449\" rx=\"29.4969\" ry=\"18\"/>\n<text text-anchor=\"middle\" x=\"-4.14354\" y=\"-4.80449\" font-family=\"Times,serif\" font-size=\"14.00\">ก็</text>\n</g>\n<!-- ครับ -->\n<g id=\"node2\" class=\"node\"><title>ครับ</title>\n<ellipse fill=\"none\" stroke=\"black\" cx=\"114.268\" cy=\"-70.6432\" rx=\"48.1917\" ry=\"18\"/>\n<text text-anchor=\"middle\" x=\"114.268\" y=\"-66.9432\" font-family=\"Times,serif\" font-size=\"14.00\">ครับ</text>\n</g>\n<!-- ก็&#45;&#45;ครับ -->\n<g id=\"edge1\" class=\"edge\"><title>ก็&#45;&#45;ครับ</title>\n<path fill=\"none\" stroke=\"red\" d=\"M18.1287,-20.1923C37.4229,-30.3174 65.4301,-45.0147 86.2434,-55.9369\"/>\n<text text-anchor=\"middle\" x=\"42.686\" y=\"-40.6646\" font-family=\"Times,serif\" font-size=\"8.00\">2.04</text>\n</g>\n<!-- ผมยัง -->\n<g id=\"node3\" class=\"node\"><title>ผมยัง</title>\n<ellipse fill=\"none\" stroke=\"black\" cx=\"-40.3427\" cy=\"130.024\" rx=\"57.3905\" ry=\"18\"/>\n<text text-anchor=\"middle\" x=\"-40.3427\" y=\"133.724\" font-family=\"Times,serif\" font-size=\"14.00\">ผมยัง</text>\n</g>\n<!-- ก็&#45;&#45;ผมยัง -->\n<g id=\"edge2\" class=\"edge\"><title>ก็&#45;&#45;ผมยัง</title>\n<path fill=\"none\" stroke=\"pink\" d=\"M-8.80183,9.32213C-15.7143,35.7753 -28.6192,85.1602 -35.5873,111.826\"/>\n<text text-anchor=\"middle\" x=\"-31.6946\" y=\"57.9742\" font-family=\"Times,serif\" font-size=\"8.00\">2.13</text>\n</g>\n<!-- ได้ -->\n<g id=\"node4\" class=\"node\"><title>ได้</title>\n<ellipse fill=\"none\" stroke=\"black\" cx=\"-53.4228\" cy=\"-185.313\" rx=\"38.1938\" ry=\"18\"/>\n<text text-anchor=\"middle\" x=\"-53.4228\" y=\"-181.613\" font-family=\"Times,serif\" font-size=\"14.00\">ได้</text>\n</g>\n<!-- ก็&#45;&#45;ได้ -->\n<g id=\"edge3\" class=\"edge\"><title>ก็&#45;&#45;ได้</title>\n<path fill=\"none\" stroke=\"pink\" d=\"M-9.13989,-26.4308C-18.585,-60.3188 -38.958,-133.415 -48.4133,-167.339\"/>\n<text text-anchor=\"middle\" x=\"-38.2766\" y=\"-99.485\" font-family=\"Times,serif\" font-size=\"8.00\">2.25</text>\n</g>\n<!-- ไป -->\n<g id=\"node5\" class=\"node\"><title>ไป</title>\n<ellipse fill=\"none\" stroke=\"black\" cx=\"82.976\" cy=\"-202.549\" rx=\"29.4969\" ry=\"18\"/>\n<text text-anchor=\"middle\" x=\"82.976\" y=\"-198.849\" font-family=\"Times,serif\" font-size=\"14.00\">ไป</text>\n</g>\n<!-- ก็&#45;&#45;ไป -->\n<g id=\"edge4\" class=\"edge\"><title>ก็&#45;&#45;ไป</title>\n<path fill=\"none\" stroke=\"pink\" d=\"M3.7414,-26.0669C20.328,-63.0107 58.6558,-148.38 75.1717,-185.166\"/>\n<text text-anchor=\"middle\" x=\"29.9565\" y=\"-108.216\" font-family=\"Times,serif\" font-size=\"8.00\">2.33</text>\n</g>\n<!-- ไม่ -->\n<g id=\"node6\" class=\"node\"><title>ไม่</title>\n<ellipse fill=\"none\" stroke=\"black\" cx=\"-174.978\" cy=\"-138.892\" rx=\"38.1938\" ry=\"18\"/>\n<text text-anchor=\"middle\" x=\"-174.978\" y=\"-135.192\" font-family=\"Times,serif\" font-size=\"14.00\">ไม่</text>\n</g>\n<!-- ก็&#45;&#45;ไม่ -->\n<g id=\"edge5\" class=\"edge\"><title>ก็&#45;&#45;ไม่</title>\n<path fill=\"none\" stroke=\"pink\" d=\"M-22.751,-22.7065C-55.0936,-47.3917 -121.412,-98.0084 -154.812,-123.501\"/>\n<text text-anchor=\"middle\" x=\"-98.2813\" y=\"-75.7035\" font-family=\"Times,serif\" font-size=\"8.00\">2.45</text>\n</g>\n<!-- จะ -->\n<g id=\"node7\" class=\"node\"><title>จะ</title>\n<ellipse fill=\"none\" stroke=\"black\" cx=\"-216.068\" cy=\"-2.84366\" rx=\"29.4969\" ry=\"18\"/>\n<text text-anchor=\"middle\" x=\"-216.068\" y=\"0.856342\" font-family=\"Times,serif\" font-size=\"14.00\">จะ</text>\n</g>\n<!-- ก็&#45;&#45;จะ -->\n<g id=\"edge6\" class=\"edge\"><title>ก็&#45;&#45;จะ</title>\n<path fill=\"none\" stroke=\"pink\" d=\"M-33.6108,-7.71738C-73.9859,-6.6389 -146.088,-4.71294 -186.51,-3.63319\"/>\n<text text-anchor=\"middle\" x=\"-119.561\" y=\"-8.27528\" font-family=\"Times,serif\" font-size=\"8.00\">2.48</text>\n</g>\n<!-- เลย -->\n<g id=\"node8\" class=\"node\"><title>เลย</title>\n<ellipse fill=\"none\" stroke=\"black\" cx=\"232.759\" cy=\"-30.5525\" rx=\"38.1938\" ry=\"18\"/>\n<text text-anchor=\"middle\" x=\"232.759\" y=\"-26.8525\" font-family=\"Times,serif\" font-size=\"14.00\">เลย</text>\n</g>\n<!-- ก็&#45;&#45;เลย -->\n<g id=\"edge7\" class=\"edge\"><title>ก็&#45;&#45;เลย</title>\n<path fill=\"none\" stroke=\"pink\" d=\"M24.9054,-11.208C67.6552,-15.1867 147.549,-22.6222 194.861,-27.0254\"/>\n<text text-anchor=\"middle\" x=\"100.383\" y=\"-21.7167\" font-family=\"Times,serif\" font-size=\"8.00\">2.53</text>\n</g>\n<!-- ซื้อมา -->\n<g id=\"node9\" class=\"node\"><title>ซื้อมา</title>\n<ellipse fill=\"none\" stroke=\"black\" cx=\"-176.679\" cy=\"145.889\" rx=\"66.0889\" ry=\"18\"/>\n<text text-anchor=\"middle\" x=\"-176.679\" y=\"149.589\" font-family=\"Times,serif\" font-size=\"14.00\">ซื้อมา</text>\n</g>\n<!-- ก็&#45;&#45;ซื้อมา -->\n<g id=\"edge8\" class=\"edge\"><title>ก็&#45;&#45;ซื้อมา</title>\n<path fill=\"none\" stroke=\"pink\" d=\"M-21.0011,6.58054C-53.2226,35.4141 -123.369,98.185 -157.397,128.635\"/>\n<text text-anchor=\"middle\" x=\"-98.6989\" y=\"65.0076\" font-family=\"Times,serif\" font-size=\"8.00\">2.54</text>\n</g>\n<!-- แต่ -->\n<g id=\"node10\" class=\"node\"><title>แต่</title>\n<ellipse fill=\"none\" stroke=\"black\" cx=\"183.769\" cy=\"130.755\" rx=\"38.1938\" ry=\"18\"/>\n<text text-anchor=\"middle\" x=\"183.769\" y=\"134.455\" font-family=\"Times,serif\" font-size=\"14.00\">แต่</text>\n</g>\n<!-- ก็&#45;&#45;แต่ -->\n<g id=\"edge9\" class=\"edge\"><title>ก็&#45;&#45;แต่</title>\n<path fill=\"none\" stroke=\"pink\" d=\"M14.5613,5.35732C49.9305,31.5689 126.359,88.2084 163.153,115.476\"/>\n<text text-anchor=\"middle\" x=\"79.357\" y=\"57.8167\" font-family=\"Times,serif\" font-size=\"8.00\">2.61</text>\n</g>\n<!-- ค่อย -->\n<g id=\"node11\" class=\"node\"><title>ค่อย</title>\n<ellipse fill=\"none\" stroke=\"black\" cx=\"51.8616\" cy=\"232.63\" rx=\"48.1917\" ry=\"18\"/>\n<text text-anchor=\"middle\" x=\"51.8616\" y=\"236.33\" font-family=\"Times,serif\" font-size=\"14.00\">ค่อย</text>\n</g>\n<!-- ก็&#45;&#45;ค่อย -->\n<g id=\"edge10\" class=\"edge\"><title>ก็&#45;&#45;ค่อย</title>\n<path fill=\"none\" stroke=\"pink\" d=\"M0.0659478,9.61979C10.4704,54.4169 37.3043,169.952 47.6796,214.624\"/>\n<text text-anchor=\"middle\" x=\"14.3728\" y=\"109.522\" font-family=\"Times,serif\" font-size=\"8.00\">2.66</text>\n</g>\n</g>\n</svg>\n"
          },
          "metadata": {
            "tags": []
          },
          "execution_count": 11
        }
      ]
    },
    {
      "metadata": {
        "id": "7S5UGUlrj6gd",
        "colab_type": "code",
        "colab": {
          "base_uri": "https://localhost:8080/",
          "height": 691
        },
        "outputId": "6f6065a8-9eb8-4d47-9ccd-2898f1e54cfe"
      },
      "cell_type": "code",
      "source": [
        "show_graph (dict_sort[7][0], w2v_model)"
      ],
      "execution_count": 12,
      "outputs": [
        {
          "output_type": "stream",
          "text": [
            "Show word list and graph...\n",
            "การ : แผน(2.25), พการ(2.25), และ(2.37), จึง(2.37), การบริ(2.38), โภ(2.43), ผู้(2.47), ผูั(2.52), เพื่อ(2.52), ทั่ๆ(2.54), \n",
            "\n"
          ],
          "name": "stdout"
        },
        {
          "output_type": "execute_result",
          "data": {
            "text/plain": [
              "<graphviz.files.Source at 0x7f1142408630>"
            ],
            "image/svg+xml": "<?xml version=\"1.0\" encoding=\"UTF-8\" standalone=\"no\"?>\n<!DOCTYPE svg PUBLIC \"-//W3C//DTD SVG 1.1//EN\"\n \"http://www.w3.org/Graphics/SVG/1.1/DTD/svg11.dtd\">\n<!-- Generated by graphviz version 2.38.0 (20140413.2041)\n -->\n<!-- Title: G Pages: 1 -->\n<svg width=\"505pt\" height=\"464pt\"\n viewBox=\"0.00 0.00 505.34 464.44\" xmlns=\"http://www.w3.org/2000/svg\" xmlns:xlink=\"http://www.w3.org/1999/xlink\">\n<g id=\"graph0\" class=\"graph\" transform=\"scale(1 1) rotate(0) translate(242.315 223.916)\">\n<title>G</title>\n<polygon fill=\"white\" stroke=\"none\" points=\"-242.315,240.523 -242.315,-223.916 263.023,-223.916 263.023,240.523 -242.315,240.523\"/>\n<!-- การ -->\n<g id=\"node1\" class=\"node\"><title>การ</title>\n<ellipse fill=\"none\" stroke=\"black\" cx=\"-0.700473\" cy=\"-5.07387\" rx=\"38.1938\" ry=\"18\"/>\n<text text-anchor=\"middle\" x=\"-0.700473\" y=\"-1.37387\" font-family=\"Times,serif\" font-size=\"14.00\">การ</text>\n</g>\n<!-- แผน -->\n<g id=\"node2\" class=\"node\"><title>แผน</title>\n<ellipse fill=\"none\" stroke=\"black\" cx=\"141.457\" cy=\"-100.943\" rx=\"38.1938\" ry=\"18\"/>\n<text text-anchor=\"middle\" x=\"141.457\" y=\"-97.2433\" font-family=\"Times,serif\" font-size=\"14.00\">แผน</text>\n</g>\n<!-- การ&#45;&#45;แผน -->\n<g id=\"edge1\" class=\"edge\"><title>การ&#45;&#45;แผน</title>\n<path fill=\"none\" stroke=\"red\" d=\"M21.5117,-20.0535C48.2183,-38.0641 92.7641,-68.1053 119.401,-86.0689\"/>\n<text text-anchor=\"middle\" x=\"60.9564\" y=\"-55.6612\" font-family=\"Times,serif\" font-size=\"8.00\">2.25</text>\n</g>\n<!-- พการ -->\n<g id=\"node3\" class=\"node\"><title>พการ</title>\n<ellipse fill=\"none\" stroke=\"black\" cx=\"-50.4926\" cy=\"150.053\" rx=\"48.1917\" ry=\"18\"/>\n<text text-anchor=\"middle\" x=\"-50.4926\" y=\"153.753\" font-family=\"Times,serif\" font-size=\"14.00\">พการ</text>\n</g>\n<!-- การ&#45;&#45;พการ -->\n<g id=\"edge2\" class=\"edge\"><title>การ&#45;&#45;พการ</title>\n<path fill=\"none\" stroke=\"pink\" d=\"M-6.50971,13.0247C-16.1041,42.9161 -35.1503,102.254 -44.7203,132.07\"/>\n<text text-anchor=\"middle\" x=\"-35.115\" y=\"69.9472\" font-family=\"Times,serif\" font-size=\"8.00\">2.25</text>\n</g>\n<!-- และ -->\n<g id=\"node4\" class=\"node\"><title>และ</title>\n<ellipse fill=\"none\" stroke=\"black\" cx=\"-61.6428\" cy=\"-197.619\" rx=\"38.1938\" ry=\"18\"/>\n<text text-anchor=\"middle\" x=\"-61.6428\" y=\"-193.919\" font-family=\"Times,serif\" font-size=\"14.00\">และ</text>\n</g>\n<!-- การ&#45;&#45;และ -->\n<g id=\"edge3\" class=\"edge\"><title>การ&#45;&#45;และ</title>\n<path fill=\"none\" stroke=\"pink\" d=\"M-6.43378,-23.188C-18.0785,-59.9791 -44.3746,-143.06 -55.9691,-179.693\"/>\n<text text-anchor=\"middle\" x=\"-40.7014\" y=\"-104.04\" font-family=\"Times,serif\" font-size=\"8.00\">2.37</text>\n</g>\n<!-- จึง -->\n<g id=\"node5\" class=\"node\"><title>จึง</title>\n<ellipse fill=\"none\" stroke=\"black\" cx=\"71.2837\" cy=\"-201.916\" rx=\"38.1938\" ry=\"18\"/>\n<text text-anchor=\"middle\" x=\"71.2837\" y=\"-198.216\" font-family=\"Times,serif\" font-size=\"14.00\">จึง</text>\n</g>\n<!-- การ&#45;&#45;จึง -->\n<g id=\"edge4\" class=\"edge\"><title>การ&#45;&#45;จึง</title>\n<path fill=\"none\" stroke=\"pink\" d=\"M5.8146,-22.8895C19.485,-60.2715 51.0288,-146.529 64.7315,-183.999\"/>\n<text text-anchor=\"middle\" x=\"25.773\" y=\"-106.044\" font-family=\"Times,serif\" font-size=\"8.00\">2.37</text>\n</g>\n<!-- การบริ -->\n<g id=\"node6\" class=\"node\"><title>การบริ</title>\n<ellipse fill=\"none\" stroke=\"black\" cx=\"-164.532\" cy=\"-122.672\" rx=\"66.0889\" ry=\"18\"/>\n<text text-anchor=\"middle\" x=\"-164.532\" y=\"-118.972\" font-family=\"Times,serif\" font-size=\"14.00\">การบริ</text>\n</g>\n<!-- การ&#45;&#45;การบริ -->\n<g id=\"edge5\" class=\"edge\"><title>การ&#45;&#45;การบริ</title>\n<path fill=\"none\" stroke=\"pink\" d=\"M-21.7832,-20.207C-52.3768,-42.1669 -108.905,-82.7428 -140.881,-105.695\"/>\n<text text-anchor=\"middle\" x=\"-90.8319\" y=\"-65.5508\" font-family=\"Times,serif\" font-size=\"8.00\">2.38</text>\n</g>\n<!-- โภ -->\n<g id=\"node7\" class=\"node\"><title>โภ</title>\n<ellipse fill=\"none\" stroke=\"black\" cx=\"-209.068\" cy=\"-1.76172\" rx=\"29.4969\" ry=\"18\"/>\n<text text-anchor=\"middle\" x=\"-209.068\" y=\"1.93828\" font-family=\"Times,serif\" font-size=\"14.00\">โภ</text>\n</g>\n<!-- การ&#45;&#45;โภ -->\n<g id=\"edge6\" class=\"edge\"><title>การ&#45;&#45;โภ</title>\n<path fill=\"none\" stroke=\"pink\" d=\"M-39.4045,-4.45864C-80.0083,-3.81321 -142.927,-2.81308 -179.652,-2.22931\"/>\n<text text-anchor=\"middle\" x=\"-119.028\" y=\"-5.94398\" font-family=\"Times,serif\" font-size=\"8.00\">2.43</text>\n</g>\n<!-- ผู้ -->\n<g id=\"node8\" class=\"node\"><title>ผู้</title>\n<ellipse fill=\"none\" stroke=\"black\" cx=\"220.676\" cy=\"-6.54186\" rx=\"38.1938\" ry=\"18\"/>\n<text text-anchor=\"middle\" x=\"220.676\" y=\"-2.84186\" font-family=\"Times,serif\" font-size=\"14.00\">ผู้</text>\n</g>\n<!-- การ&#45;&#45;ผู้ -->\n<g id=\"edge7\" class=\"edge\"><title>การ&#45;&#45;ผู้</title>\n<path fill=\"none\" stroke=\"pink\" d=\"M37.8604,-5.32957C78.3688,-5.59819 141.705,-6.01818 182.187,-6.28663\"/>\n<text text-anchor=\"middle\" x=\"100.524\" y=\"-8.4081\" font-family=\"Times,serif\" font-size=\"8.00\">2.47</text>\n</g>\n<!-- ผูั -->\n<g id=\"node9\" class=\"node\"><title>ผูั</title>\n<ellipse fill=\"none\" stroke=\"black\" cx=\"-179.835\" cy=\"139.843\" rx=\"38.1938\" ry=\"18\"/>\n<text text-anchor=\"middle\" x=\"-179.835\" y=\"143.543\" font-family=\"Times,serif\" font-size=\"14.00\">ผูั</text>\n</g>\n<!-- การ&#45;&#45;ผูั -->\n<g id=\"edge8\" class=\"edge\"><title>การ&#45;&#45;ผูั</title>\n<path fill=\"none\" stroke=\"pink\" d=\"M-20.212,10.7106C-54.6702,38.5866 -125.907,96.2157 -160.348,124.078\"/>\n<text text-anchor=\"middle\" x=\"-99.7799\" y=\"64.7942\" font-family=\"Times,serif\" font-size=\"8.00\">2.52</text>\n</g>\n<!-- เพื่อ -->\n<g id=\"node10\" class=\"node\"><title>เพื่อ</title>\n<ellipse fill=\"none\" stroke=\"black\" cx=\"173.805\" cy=\"128.109\" rx=\"57.3905\" ry=\"18\"/>\n<text text-anchor=\"middle\" x=\"173.805\" y=\"131.809\" font-family=\"Times,serif\" font-size=\"14.00\">เพื่อ</text>\n</g>\n<!-- การ&#45;&#45;เพื่อ -->\n<g id=\"edge9\" class=\"edge\"><title>การ&#45;&#45;เพื่อ</title>\n<path fill=\"none\" stroke=\"pink\" d=\"M19.659,10.4645C52.745,35.7157 117.902,85.4436 151.935,111.418\"/>\n<text text-anchor=\"middle\" x=\"76.2972\" y=\"58.3413\" font-family=\"Times,serif\" font-size=\"8.00\">2.52</text>\n</g>\n<!-- ทั่ๆ -->\n<g id=\"node11\" class=\"node\"><title>ทั่ๆ</title>\n<ellipse fill=\"none\" stroke=\"black\" cx=\"59.0493\" cy=\"218.523\" rx=\"48.1917\" ry=\"18\"/>\n<text text-anchor=\"middle\" x=\"59.0493\" y=\"222.223\" font-family=\"Times,serif\" font-size=\"14.00\">ทั่ๆ</text>\n</g>\n<!-- การ&#45;&#45;ทั่ๆ -->\n<g id=\"edge10\" class=\"edge\"><title>การ&#45;&#45;ทั่ๆ</title>\n<path fill=\"none\" stroke=\"pink\" d=\"M4.0881,12.846C15.2757,54.7126 43.0278,158.567 54.2379,200.518\"/>\n<text text-anchor=\"middle\" x=\"19.663\" y=\"104.082\" font-family=\"Times,serif\" font-size=\"8.00\">2.54</text>\n</g>\n</g>\n</svg>\n"
          },
          "metadata": {
            "tags": []
          },
          "execution_count": 12
        }
      ]
    },
    {
      "metadata": {
        "id": "ZPokCR_lj6jU",
        "colab_type": "code",
        "colab": {
          "base_uri": "https://localhost:8080/",
          "height": 789
        },
        "outputId": "dcc51e63-98bb-4538-92b4-9af2fb310cb9"
      },
      "cell_type": "code",
      "source": [
        "show_graph (dict_sort[8][0], w2v_model)"
      ],
      "execution_count": 13,
      "outputs": [
        {
          "output_type": "stream",
          "text": [
            "Show word list and graph...\n",
            "แต่ : ไม่(2.57), ก็(2.61), แต่มัน(2.75), ขนาดรา(2.82), จุดด้อย(2.86), แต่ยัง(2.86), จะ(2.89), แต่ยาริส(2.90), หรอก(2.90), ครับ(2.93), \n",
            "\n"
          ],
          "name": "stdout"
        },
        {
          "output_type": "execute_result",
          "data": {
            "text/plain": [
              "<graphviz.files.Source at 0x7f1142387a20>"
            ],
            "image/svg+xml": "<?xml version=\"1.0\" encoding=\"UTF-8\" standalone=\"no\"?>\n<!DOCTYPE svg PUBLIC \"-//W3C//DTD SVG 1.1//EN\"\n \"http://www.w3.org/Graphics/SVG/1.1/DTD/svg11.dtd\">\n<!-- Generated by graphviz version 2.38.0 (20140413.2041)\n -->\n<!-- Title: G Pages: 1 -->\n<svg width=\"611pt\" height=\"538pt\"\n viewBox=\"0.00 0.00 610.65 538.32\" xmlns=\"http://www.w3.org/2000/svg\" xmlns:xlink=\"http://www.w3.org/1999/xlink\">\n<g id=\"graph0\" class=\"graph\" transform=\"scale(1 1) rotate(0) translate(315.624 263.765)\">\n<title>G</title>\n<polygon fill=\"white\" stroke=\"none\" points=\"-315.624,274.55 -315.624,-263.765 295.03,-263.765 295.03,274.55 -315.624,274.55\"/>\n<!-- แต่ -->\n<g id=\"node1\" class=\"node\"><title>แต่</title>\n<ellipse fill=\"none\" stroke=\"black\" cx=\"-1.14102\" cy=\"-2.94037\" rx=\"38.1938\" ry=\"18\"/>\n<text text-anchor=\"middle\" x=\"-1.14102\" y=\"0.759635\" font-family=\"Times,serif\" font-size=\"14.00\">แต่</text>\n</g>\n<!-- ไม่ -->\n<g id=\"node2\" class=\"node\"><title>ไม่</title>\n<ellipse fill=\"none\" stroke=\"black\" cx=\"154.264\" cy=\"-108.124\" rx=\"38.1938\" ry=\"18\"/>\n<text text-anchor=\"middle\" x=\"154.264\" y=\"-104.424\" font-family=\"Times,serif\" font-size=\"14.00\">ไม่</text>\n</g>\n<!-- แต่&#45;&#45;ไม่ -->\n<g id=\"edge1\" class=\"edge\"><title>แต่&#45;&#45;ไม่</title>\n<path fill=\"none\" stroke=\"red\" d=\"M20.7952,-17.7875C50.246,-37.7207 102.287,-72.9437 131.936,-93.0114\"/>\n<text text-anchor=\"middle\" x=\"66.8658\" y=\"-57.9994\" font-family=\"Times,serif\" font-size=\"8.00\">2.57</text>\n</g>\n<!-- ก็ -->\n<g id=\"node3\" class=\"node\"><title>ก็</title>\n<ellipse fill=\"none\" stroke=\"black\" cx=\"-59.8483\" cy=\"179.233\" rx=\"29.4969\" ry=\"18\"/>\n<text text-anchor=\"middle\" x=\"-59.8483\" y=\"182.933\" font-family=\"Times,serif\" font-size=\"14.00\">ก็</text>\n</g>\n<!-- แต่&#45;&#45;ก็ -->\n<g id=\"edge2\" class=\"edge\"><title>แต่&#45;&#45;ก็</title>\n<path fill=\"none\" stroke=\"pink\" d=\"M-6.87701,14.8589C-18.1005,49.6862 -42.8469,126.476 -54.089,161.362\"/>\n<text text-anchor=\"middle\" x=\"-39.983\" y=\"85.5103\" font-family=\"Times,serif\" font-size=\"8.00\">2.61</text>\n</g>\n<!-- แต่มัน -->\n<g id=\"node4\" class=\"node\"><title>แต่มัน</title>\n<ellipse fill=\"none\" stroke=\"black\" cx=\"-66.7812\" cy=\"-222.263\" rx=\"66.0889\" ry=\"18\"/>\n<text text-anchor=\"middle\" x=\"-66.7812\" y=\"-218.563\" font-family=\"Times,serif\" font-size=\"14.00\">แต่มัน</text>\n</g>\n<!-- แต่&#45;&#45;แต่มัน -->\n<g id=\"edge3\" class=\"edge\"><title>แต่&#45;&#45;แต่มัน</title>\n<path fill=\"none\" stroke=\"pink\" d=\"M-6.51263,-20.8884C-18.8214,-62.0154 -48.9553,-162.701 -61.3353,-204.067\"/>\n<text text-anchor=\"middle\" x=\"-43.424\" y=\"-115.078\" font-family=\"Times,serif\" font-size=\"8.00\">2.75</text>\n</g>\n<!-- ขนาดรา -->\n<g id=\"node5\" class=\"node\"><title>ขนาดรา</title>\n<ellipse fill=\"none\" stroke=\"black\" cx=\"92.062\" cy=\"-241.765\" rx=\"66.0889\" ry=\"18\"/>\n<text text-anchor=\"middle\" x=\"92.062\" y=\"-238.065\" font-family=\"Times,serif\" font-size=\"14.00\">ขนาดรา</text>\n</g>\n<!-- แต่&#45;&#45;ขนาดรา -->\n<g id=\"edge4\" class=\"edge\"><title>แต่&#45;&#45;ขนาดรา</title>\n<path fill=\"none\" stroke=\"pink\" d=\"M5.86435,-20.891C23.137,-65.1506 67.6177,-179.129 84.9753,-223.606\"/>\n<text text-anchor=\"middle\" x=\"35.9198\" y=\"-124.849\" font-family=\"Times,serif\" font-size=\"8.00\">2.82</text>\n</g>\n<!-- จุดด้อย -->\n<g id=\"node6\" class=\"node\"><title>จุดด้อย</title>\n<ellipse fill=\"none\" stroke=\"black\" cx=\"-199.897\" cy=\"-151.657\" rx=\"75.2868\" ry=\"18\"/>\n<text text-anchor=\"middle\" x=\"-199.897\" y=\"-147.957\" font-family=\"Times,serif\" font-size=\"14.00\">จุดด้อย</text>\n</g>\n<!-- แต่&#45;&#45;จุดด้อย -->\n<g id=\"edge5\" class=\"edge\"><title>แต่&#45;&#45;จุดด้อย</title>\n<path fill=\"none\" stroke=\"pink\" d=\"M-21.6628,-18.2956C-58.9556,-46.1996 -137.597,-105.043 -176.744,-134.334\"/>\n<text text-anchor=\"middle\" x=\"-108.704\" y=\"-78.9148\" font-family=\"Times,serif\" font-size=\"8.00\">2.86</text>\n</g>\n<!-- แต่ยัง -->\n<g id=\"node7\" class=\"node\"><title>แต่ยัง</title>\n<ellipse fill=\"none\" stroke=\"black\" cx=\"-245.33\" cy=\"-1.98579\" rx=\"66.0889\" ry=\"18\"/>\n<text text-anchor=\"middle\" x=\"-245.33\" y=\"1.71421\" font-family=\"Times,serif\" font-size=\"14.00\">แต่ยัง</text>\n</g>\n<!-- แต่&#45;&#45;แต่ยัง -->\n<g id=\"edge6\" class=\"edge\"><title>แต่&#45;&#45;แต่ยัง</title>\n<path fill=\"none\" stroke=\"pink\" d=\"M-39.5641,-2.79016C-76.7681,-2.64473 -133.943,-2.42122 -178.591,-2.24668\"/>\n<text text-anchor=\"middle\" x=\"-118.578\" y=\"-5.11842\" font-family=\"Times,serif\" font-size=\"8.00\">2.86</text>\n</g>\n<!-- จะ -->\n<g id=\"node8\" class=\"node\"><title>จะ</title>\n<ellipse fill=\"none\" stroke=\"black\" cx=\"261.782\" cy=\"-10.8042\" rx=\"29.4969\" ry=\"18\"/>\n<text text-anchor=\"middle\" x=\"261.782\" y=\"-7.10417\" font-family=\"Times,serif\" font-size=\"14.00\">จะ</text>\n</g>\n<!-- แต่&#45;&#45;จะ -->\n<g id=\"edge7\" class=\"edge\"><title>แต่&#45;&#45;จะ</title>\n<path fill=\"none\" stroke=\"pink\" d=\"M37.3719,-4.09225C90.4324,-5.67924 184.854,-8.50331 232.524,-9.92907\"/>\n<text text-anchor=\"middle\" x=\"125.448\" y=\"-9.61066\" font-family=\"Times,serif\" font-size=\"8.00\">2.89</text>\n</g>\n<!-- แต่ยาริส -->\n<g id=\"node9\" class=\"node\"><title>แต่ยาริส</title>\n<ellipse fill=\"none\" stroke=\"black\" cx=\"-206.519\" cy=\"159.82\" rx=\"85.2851\" ry=\"18\"/>\n<text text-anchor=\"middle\" x=\"-206.519\" y=\"163.52\" font-family=\"Times,serif\" font-size=\"14.00\">แต่ยาริส</text>\n</g>\n<!-- แต่&#45;&#45;แต่ยาริส -->\n<g id=\"edge8\" class=\"edge\"><title>แต่&#45;&#45;แต่ยาริส</title>\n<path fill=\"none\" stroke=\"pink\" d=\"M-20.8335,12.6657C-59.2865,43.1393 -144.115,110.365 -184.42,142.306\"/>\n<text text-anchor=\"middle\" x=\"-112.127\" y=\"74.8859\" font-family=\"Times,serif\" font-size=\"8.00\">2.90</text>\n</g>\n<!-- หรอก -->\n<g id=\"node10\" class=\"node\"><title>หรอก</title>\n<ellipse fill=\"none\" stroke=\"black\" cx=\"200.824\" cy=\"147.936\" rx=\"48.1917\" ry=\"18\"/>\n<text text-anchor=\"middle\" x=\"200.824\" y=\"151.636\" font-family=\"Times,serif\" font-size=\"14.00\">หรอก</text>\n</g>\n<!-- แต่&#45;&#45;หรอก -->\n<g id=\"edge9\" class=\"edge\"><title>แต่&#45;&#45;หรอก</title>\n<path fill=\"none\" stroke=\"pink\" d=\"M19.3359,12.3568C57.6444,40.9749 139.816,102.36 179.074,131.688\"/>\n<text text-anchor=\"middle\" x=\"89.7049\" y=\"69.4223\" font-family=\"Times,serif\" font-size=\"8.00\">2.90</text>\n</g>\n<!-- ครับ -->\n<g id=\"node11\" class=\"node\"><title>ครับ</title>\n<ellipse fill=\"none\" stroke=\"black\" cx=\"70.5832\" cy=\"252.55\" rx=\"48.1917\" ry=\"18\"/>\n<text text-anchor=\"middle\" x=\"70.5832\" y=\"256.25\" font-family=\"Times,serif\" font-size=\"14.00\">ครับ</text>\n</g>\n<!-- แต่&#45;&#45;ครับ -->\n<g id=\"edge10\" class=\"edge\"><title>แต่&#45;&#45;ครับ</title>\n<path fill=\"none\" stroke=\"pink\" d=\"M3.90248,15.0252C17.0717,61.9355 52.3823,187.716 65.5452,234.604\"/>\n<text text-anchor=\"middle\" x=\"25.2239\" y=\"122.215\" font-family=\"Times,serif\" font-size=\"8.00\">2.93</text>\n</g>\n</g>\n</svg>\n"
          },
          "metadata": {
            "tags": []
          },
          "execution_count": 13
        }
      ]
    },
    {
      "metadata": {
        "id": "K98BvyURj6l0",
        "colab_type": "code",
        "colab": {
          "base_uri": "https://localhost:8080/",
          "height": 753
        },
        "outputId": "388fff38-4cd0-4abc-c4c3-8518e2b4f67d"
      },
      "cell_type": "code",
      "source": [
        "show_graph (dict_sort[9][0], w2v_model)"
      ],
      "execution_count": 14,
      "outputs": [
        {
          "output_type": "stream",
          "text": [
            "Show word list and graph...\n",
            "ใน : ในมี(2.44), ในร(2.53), ในมีมา(2.61), ที่(2.62), คี(2.68), สามัค(2.70), จองอย่าง(2.71), ในมีนา(2.76), ในชม(2.76), ขณะนี้(2.83), \n",
            "\n"
          ],
          "name": "stdout"
        },
        {
          "output_type": "execute_result",
          "data": {
            "text/plain": [
              "<graphviz.files.Source at 0x7f1141e682e8>"
            ],
            "image/svg+xml": "<?xml version=\"1.0\" encoding=\"UTF-8\" standalone=\"no\"?>\n<!DOCTYPE svg PUBLIC \"-//W3C//DTD SVG 1.1//EN\"\n \"http://www.w3.org/Graphics/SVG/1.1/DTD/svg11.dtd\">\n<!-- Generated by graphviz version 2.38.0 (20140413.2041)\n -->\n<!-- Title: G Pages: 1 -->\n<svg width=\"625pt\" height=\"511pt\"\n viewBox=\"0.00 0.00 625.04 511.34\" xmlns=\"http://www.w3.org/2000/svg\" xmlns:xlink=\"http://www.w3.org/1999/xlink\">\n<g id=\"graph0\" class=\"graph\" transform=\"scale(1 1) rotate(0) translate(291.552 246.053)\">\n<title>G</title>\n<polygon fill=\"white\" stroke=\"none\" points=\"-291.552,265.289 -291.552,-246.053 333.489,-246.053 333.489,265.289 -291.552,265.289\"/>\n<!-- ใน -->\n<g id=\"node1\" class=\"node\"><title>ใน</title>\n<ellipse fill=\"none\" stroke=\"black\" cx=\"-0.624162\" cy=\"-4.60002\" rx=\"29.4969\" ry=\"18\"/>\n<text text-anchor=\"middle\" x=\"-0.624162\" y=\"-0.900016\" font-family=\"Times,serif\" font-size=\"14.00\">ใน</text>\n</g>\n<!-- ในมี -->\n<g id=\"node2\" class=\"node\"><title>ในมี</title>\n<ellipse fill=\"none\" stroke=\"black\" cx=\"149.475\" cy=\"-105.905\" rx=\"48.1917\" ry=\"18\"/>\n<text text-anchor=\"middle\" x=\"149.475\" y=\"-102.205\" font-family=\"Times,serif\" font-size=\"14.00\">ในมี</text>\n</g>\n<!-- ใน&#45;&#45;ในมี -->\n<g id=\"edge1\" class=\"edge\"><title>ใน&#45;&#45;ในมี</title>\n<path fill=\"none\" stroke=\"red\" d=\"M19.3078,-18.0525C46.8999,-36.675 96.6443,-70.2485 126,-90.0613\"/>\n<text text-anchor=\"middle\" x=\"63.1539\" y=\"-56.6569\" font-family=\"Times,serif\" font-size=\"8.00\">2.44</text>\n</g>\n<!-- ในร -->\n<g id=\"node3\" class=\"node\"><title>ในร</title>\n<ellipse fill=\"none\" stroke=\"black\" cx=\"-57.6127\" cy=\"175.953\" rx=\"38.1938\" ry=\"18\"/>\n<text text-anchor=\"middle\" x=\"-57.6127\" y=\"179.653\" font-family=\"Times,serif\" font-size=\"14.00\">ในร</text>\n</g>\n<!-- ใน&#45;&#45;ในร -->\n<g id=\"edge2\" class=\"edge\"><title>ใน&#45;&#45;ในร</title>\n<path fill=\"none\" stroke=\"pink\" d=\"M-6.29679,13.3722C-17.2203,47.9804 -41.0576,123.502 -51.963,158.053\"/>\n<text text-anchor=\"middle\" x=\"-38.6299\" y=\"83.1127\" font-family=\"Times,serif\" font-size=\"8.00\">2.53</text>\n</g>\n<!-- ในมีมา -->\n<g id=\"node4\" class=\"node\"><title>ในมีมา</title>\n<ellipse fill=\"none\" stroke=\"black\" cx=\"-64.8369\" cy=\"-214.823\" rx=\"66.0889\" ry=\"18\"/>\n<text text-anchor=\"middle\" x=\"-64.8369\" y=\"-211.123\" font-family=\"Times,serif\" font-size=\"14.00\">ในมีมา</text>\n</g>\n<!-- ใน&#45;&#45;ในมีมา -->\n<g id=\"edge3\" class=\"edge\"><title>ใน&#45;&#45;ในมีมา</title>\n<path fill=\"none\" stroke=\"pink\" d=\"M-6.09891,-22.5235C-18.2002,-62.1411 -47.1123,-156.795 -59.2848,-196.646\"/>\n<text text-anchor=\"middle\" x=\"-42.1919\" y=\"-112.185\" font-family=\"Times,serif\" font-size=\"8.00\">2.61</text>\n</g>\n<!-- ที่ -->\n<g id=\"node5\" class=\"node\"><title>ที่</title>\n<ellipse fill=\"none\" stroke=\"black\" cx=\"82.6961\" cy=\"-224.053\" rx=\"38.1938\" ry=\"18\"/>\n<text text-anchor=\"middle\" x=\"82.6961\" y=\"-220.353\" font-family=\"Times,serif\" font-size=\"14.00\">ที่</text>\n</g>\n<!-- ใน&#45;&#45;ที่ -->\n<g id=\"edge4\" class=\"edge\"><title>ใน&#45;&#45;ที่</title>\n<path fill=\"none\" stroke=\"pink\" d=\"M6.05344,-22.1878C21.6158,-63.1768 60.1629,-164.704 75.8702,-206.075\"/>\n<text text-anchor=\"middle\" x=\"31.4618\" y=\"-116.731\" font-family=\"Times,serif\" font-size=\"8.00\">2.62</text>\n</g>\n<!-- คี -->\n<g id=\"node6\" class=\"node\"><title>คี</title>\n<ellipse fill=\"none\" stroke=\"black\" cx=\"-187.168\" cy=\"-142.264\" rx=\"29.4969\" ry=\"18\"/>\n<text text-anchor=\"middle\" x=\"-187.168\" y=\"-138.564\" font-family=\"Times,serif\" font-size=\"14.00\">คี</text>\n</g>\n<!-- ใน&#45;&#45;คี -->\n<g id=\"edge5\" class=\"edge\"><title>ใน&#45;&#45;คี</title>\n<path fill=\"none\" stroke=\"pink\" d=\"M-19.5376,-18.5576C-55.2915,-44.943 -132.412,-101.856 -168.205,-128.27\"/>\n<text text-anchor=\"middle\" x=\"-103.371\" y=\"-76.0136\" font-family=\"Times,serif\" font-size=\"8.00\">2.68</text>\n</g>\n<!-- สามัค -->\n<g id=\"node7\" class=\"node\"><title>สามัค</title>\n<ellipse fill=\"none\" stroke=\"black\" cx=\"-230.357\" cy=\"-3.29441\" rx=\"57.3905\" ry=\"18\"/>\n<text text-anchor=\"middle\" x=\"-230.357\" y=\"0.405591\" font-family=\"Times,serif\" font-size=\"14.00\">สามัค</text>\n</g>\n<!-- ใน&#45;&#45;สามัค -->\n<g id=\"edge6\" class=\"edge\"><title>ใน&#45;&#45;สามัค</title>\n<path fill=\"none\" stroke=\"pink\" d=\"M-30.1874,-4.432C-66.1795,-4.22745 -127.77,-3.87742 -173.15,-3.61952\"/>\n<text text-anchor=\"middle\" x=\"-111.169\" y=\"-6.62576\" font-family=\"Times,serif\" font-size=\"8.00\">2.70</text>\n</g>\n<!-- จองอย่าง -->\n<g id=\"node8\" class=\"node\"><title>จองอย่าง</title>\n<ellipse fill=\"none\" stroke=\"black\" cx=\"244.346\" cy=\"-9.78333\" rx=\"85.2851\" ry=\"18\"/>\n<text text-anchor=\"middle\" x=\"244.346\" y=\"-6.08333\" font-family=\"Times,serif\" font-size=\"14.00\">จองอย่าง</text>\n</g>\n<!-- ใน&#45;&#45;จองอย่าง -->\n<g id=\"edge7\" class=\"edge\"><title>ใน&#45;&#45;จองอย่าง</title>\n<path fill=\"none\" stroke=\"pink\" d=\"M28.925,-5.22524C61.1206,-5.90647 114.098,-7.02742 159.458,-7.98719\"/>\n<text text-anchor=\"middle\" x=\"84.6917\" y=\"-9.20622\" font-family=\"Times,serif\" font-size=\"8.00\">2.71</text>\n</g>\n<!-- ในมีนา -->\n<g id=\"node9\" class=\"node\"><title>ในมีนา</title>\n<ellipse fill=\"none\" stroke=\"black\" cx=\"-196.202\" cy=\"147.166\" rx=\"66.0889\" ry=\"18\"/>\n<text text-anchor=\"middle\" x=\"-196.202\" y=\"150.866\" font-family=\"Times,serif\" font-size=\"14.00\">ในมีนา</text>\n</g>\n<!-- ใน&#45;&#45;ในมีนา -->\n<g id=\"edge8\" class=\"edge\"><title>ใน&#45;&#45;ในมีนา</title>\n<path fill=\"none\" stroke=\"pink\" d=\"M-19.0237,9.67773C-55.1581,37.7176 -135.253,99.8699 -174.15,130.054\"/>\n<text text-anchor=\"middle\" x=\"-106.087\" y=\"67.2656\" font-family=\"Times,serif\" font-size=\"8.00\">2.76</text>\n</g>\n<!-- ในชม -->\n<g id=\"node10\" class=\"node\"><title>ในชม</title>\n<ellipse fill=\"none\" stroke=\"black\" cx=\"190.652\" cy=\"138.315\" rx=\"48.1917\" ry=\"18\"/>\n<text text-anchor=\"middle\" x=\"190.652\" y=\"142.015\" font-family=\"Times,serif\" font-size=\"14.00\">ในชม</text>\n</g>\n<!-- ใน&#45;&#45;ในชม -->\n<g id=\"edge9\" class=\"edge\"><title>ใน&#45;&#45;ในชม</title>\n<path fill=\"none\" stroke=\"pink\" d=\"M18.0645,9.36349C53.6921,35.9832 131.143,93.8518 168.977,122.12\"/>\n<text text-anchor=\"middle\" x=\"84.0208\" y=\"63.1418\" font-family=\"Times,serif\" font-size=\"8.00\">2.76</text>\n</g>\n<!-- ขณะนี้ -->\n<g id=\"node11\" class=\"node\"><title>ขณะนี้</title>\n<ellipse fill=\"none\" stroke=\"black\" cx=\"69.6311\" cy=\"243.289\" rx=\"66.0889\" ry=\"18\"/>\n<text text-anchor=\"middle\" x=\"69.6311\" y=\"246.989\" font-family=\"Times,serif\" font-size=\"14.00\">ขณะนี้</text>\n</g>\n<!-- ใน&#45;&#45;ขณะนี้ -->\n<g id=\"edge10\" class=\"edge\"><title>ใน&#45;&#45;ขณะนี้</title>\n<path fill=\"none\" stroke=\"pink\" d=\"M4.42842,13.2276C17.3596,58.8539 51.5456,179.476 64.5299,225.29\"/>\n<text text-anchor=\"middle\" x=\"24.9792\" y=\"116.659\" font-family=\"Times,serif\" font-size=\"8.00\">2.83</text>\n</g>\n</g>\n</svg>\n"
          },
          "metadata": {
            "tags": []
          },
          "execution_count": 14
        }
      ]
    },
    {
      "metadata": {
        "id": "MZlid7eUkDhK",
        "colab_type": "code",
        "colab": {}
      },
      "cell_type": "code",
      "source": [
        ""
      ],
      "execution_count": 0,
      "outputs": []
    }
  ]
}