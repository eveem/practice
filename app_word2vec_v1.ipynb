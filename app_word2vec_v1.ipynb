{
  "nbformat": 4,
  "nbformat_minor": 0,
  "metadata": {
    "colab": {
      "name": "app_word2vec_v1.ipynb",
      "version": "0.3.2",
      "provenance": [],
      "collapsed_sections": [],
      "include_colab_link": true
    },
    "kernelspec": {
      "name": "python3",
      "display_name": "Python 3"
    }
  },
  "cells": [
    {
      "cell_type": "markdown",
      "metadata": {
        "id": "view-in-github",
        "colab_type": "text"
      },
      "source": [
        "[View in Colaboratory](https://colab.research.google.com/github/eveem/practice/blob/master/app_word2vec_v1.ipynb)"
      ]
    },
    {
      "metadata": {
        "id": "607TRz2Bj5Ks",
        "colab_type": "text"
      },
      "cell_type": "markdown",
      "source": [
        "### Install and import packages "
      ]
    },
    {
      "metadata": {
        "id": "_ZixXd2ZijiB",
        "colab_type": "code",
        "colab": {
          "base_uri": "https://localhost:8080/",
          "height": 1224
        },
        "outputId": "4c23a303-2f16-47fb-987b-32e4046e79d3"
      },
      "cell_type": "code",
      "source": [
        "!pip install xlrd\n",
        "!pip install pandas\n",
        "!pip install -U -q PyDrive\n",
        "!pip install sklearn_crfsuite\n",
        "!pip install gensim\n",
        "!pip install networkx\n",
        "\n",
        "import pandas as pd\n",
        "import xlrd\n",
        "import zipfile, os\n",
        "import pickle\n",
        "import re\n",
        "import gensim\n",
        "import matplotlib.pyplot as plt\n",
        "import networkx as nx\n",
        "from pydrive.auth import GoogleAuth\n",
        "from pydrive.drive import GoogleDrive\n",
        "from google.colab import auth\n",
        "from oauth2client.client import GoogleCredentials\n",
        "from google.colab import files"
      ],
      "execution_count": 1,
      "outputs": [
        {
          "output_type": "stream",
          "text": [
            "Collecting xlrd\n",
            "\u001b[?25l  Downloading https://files.pythonhosted.org/packages/07/e6/e95c4eec6221bfd8528bcc4ea252a850bffcc4be88ebc367e23a1a84b0bb/xlrd-1.1.0-py2.py3-none-any.whl (108kB)\n",
            "\u001b[K    100% |████████████████████████████████| 112kB 4.4MB/s \n",
            "\u001b[?25hInstalling collected packages: xlrd\n",
            "Successfully installed xlrd-1.1.0\n",
            "Requirement already satisfied: pandas in /usr/local/lib/python3.6/dist-packages (0.22.0)\n",
            "Requirement already satisfied: numpy>=1.9.0 in /usr/local/lib/python3.6/dist-packages (from pandas) (1.14.5)\n",
            "Requirement already satisfied: pytz>=2011k in /usr/local/lib/python3.6/dist-packages (from pandas) (2018.4)\n",
            "Requirement already satisfied: python-dateutil>=2 in /usr/local/lib/python3.6/dist-packages (from pandas) (2.5.3)\n",
            "Requirement already satisfied: six>=1.5 in /usr/local/lib/python3.6/dist-packages (from python-dateutil>=2->pandas) (1.11.0)\n",
            "Collecting sklearn_crfsuite\n",
            "  Downloading https://files.pythonhosted.org/packages/25/74/5b7befa513482e6dee1f3dd68171a6c9dfc14c0eaa00f885ffeba54fe9b0/sklearn_crfsuite-0.3.6-py2.py3-none-any.whl\n",
            "Collecting python-crfsuite>=0.8.3 (from sklearn_crfsuite)\n",
            "\u001b[?25l  Downloading https://files.pythonhosted.org/packages/1b/32/52ca5b15b2d2568a0fc95ad736d1367e84b34647a16dc945cad64d591c49/python_crfsuite-0.9.5-cp36-cp36m-manylinux1_x86_64.whl (745kB)\n",
            "\u001b[K    100% |████████████████████████████████| 747kB 8.4MB/s \n",
            "\u001b[?25hCollecting tqdm>=2.0 (from sklearn_crfsuite)\n",
            "\u001b[?25l  Downloading https://files.pythonhosted.org/packages/93/24/6ab1df969db228aed36a648a8959d1027099ce45fad67532b9673d533318/tqdm-4.23.4-py2.py3-none-any.whl (42kB)\n",
            "\u001b[K    100% |████████████████████████████████| 51kB 16.7MB/s \n",
            "\u001b[?25hRequirement already satisfied: six in /usr/local/lib/python3.6/dist-packages (from sklearn_crfsuite) (1.11.0)\n",
            "Collecting tabulate (from sklearn_crfsuite)\n",
            "\u001b[?25l  Downloading https://files.pythonhosted.org/packages/12/c2/11d6845db5edf1295bc08b2f488cf5937806586afe42936c3f34c097ebdc/tabulate-0.8.2.tar.gz (45kB)\n",
            "\u001b[K    100% |████████████████████████████████| 51kB 17.4MB/s \n",
            "\u001b[?25hBuilding wheels for collected packages: tabulate\n",
            "  Running setup.py bdist_wheel for tabulate ... \u001b[?25l-\b \b\\\b \bdone\n",
            "\u001b[?25h  Stored in directory: /content/.cache/pip/wheels/2a/85/33/2f6da85d5f10614cbe5a625eab3b3aebfdf43e7b857f25f829\n",
            "Successfully built tabulate\n",
            "Installing collected packages: python-crfsuite, tqdm, tabulate, sklearn-crfsuite\n",
            "Successfully installed python-crfsuite-0.9.5 sklearn-crfsuite-0.3.6 tabulate-0.8.2 tqdm-4.23.4\n",
            "Collecting gensim\n",
            "\u001b[?25l  Downloading https://files.pythonhosted.org/packages/33/33/df6cb7acdcec5677ed130f4800f67509d24dbec74a03c329fcbf6b0864f0/gensim-3.4.0-cp36-cp36m-manylinux1_x86_64.whl (22.6MB)\n",
            "\u001b[K    100% |████████████████████████████████| 22.6MB 1.8MB/s \n",
            "\u001b[?25hCollecting smart-open>=1.2.1 (from gensim)\n",
            "  Downloading https://files.pythonhosted.org/packages/4b/69/c92661a333f733510628f28b8282698b62cdead37291c8491f3271677c02/smart_open-1.5.7.tar.gz\n",
            "Requirement already satisfied: numpy>=1.11.3 in /usr/local/lib/python3.6/dist-packages (from gensim) (1.14.5)\n",
            "Requirement already satisfied: scipy>=0.18.1 in /usr/local/lib/python3.6/dist-packages (from gensim) (0.19.1)\n",
            "Requirement already satisfied: six>=1.5.0 in /usr/local/lib/python3.6/dist-packages (from gensim) (1.11.0)\n",
            "Collecting boto>=2.32 (from smart-open>=1.2.1->gensim)\n",
            "\u001b[?25l  Downloading https://files.pythonhosted.org/packages/bd/b7/a88a67002b1185ed9a8e8a6ef15266728c2361fcb4f1d02ea331e4c7741d/boto-2.48.0-py2.py3-none-any.whl (1.4MB)\n",
            "\u001b[K    100% |████████████████████████████████| 1.4MB 14.9MB/s \n",
            "\u001b[?25hCollecting bz2file (from smart-open>=1.2.1->gensim)\n",
            "  Downloading https://files.pythonhosted.org/packages/61/39/122222b5e85cd41c391b68a99ee296584b2a2d1d233e7ee32b4532384f2d/bz2file-0.98.tar.gz\n"
          ],
          "name": "stdout"
        },
        {
          "output_type": "stream",
          "text": [
            "Requirement already satisfied: requests in /usr/local/lib/python3.6/dist-packages (from smart-open>=1.2.1->gensim) (2.18.4)\n",
            "Collecting boto3 (from smart-open>=1.2.1->gensim)\n",
            "\u001b[?25l  Downloading https://files.pythonhosted.org/packages/c8/aa/60603ce1b4959905bc1dd678fed95511e1d36e4448389bf274de89dc2c4b/boto3-1.7.45-py2.py3-none-any.whl (128kB)\n",
            "\u001b[K    100% |████████████████████████████████| 133kB 23.8MB/s \n",
            "\u001b[?25hRequirement already satisfied: urllib3<1.23,>=1.21.1 in /usr/local/lib/python3.6/dist-packages (from requests->smart-open>=1.2.1->gensim) (1.22)\n",
            "Requirement already satisfied: chardet<3.1.0,>=3.0.2 in /usr/local/lib/python3.6/dist-packages (from requests->smart-open>=1.2.1->gensim) (3.0.4)\n",
            "Requirement already satisfied: certifi>=2017.4.17 in /usr/local/lib/python3.6/dist-packages (from requests->smart-open>=1.2.1->gensim) (2018.4.16)\n",
            "Requirement already satisfied: idna<2.7,>=2.5 in /usr/local/lib/python3.6/dist-packages (from requests->smart-open>=1.2.1->gensim) (2.6)\n",
            "Collecting s3transfer<0.2.0,>=0.1.10 (from boto3->smart-open>=1.2.1->gensim)\n",
            "\u001b[?25l  Downloading https://files.pythonhosted.org/packages/d7/14/2a0004d487464d120c9fb85313a75cd3d71a7506955be458eebfe19a6b1d/s3transfer-0.1.13-py2.py3-none-any.whl (59kB)\n",
            "\u001b[K    100% |████████████████████████████████| 61kB 19.5MB/s \n",
            "\u001b[?25hCollecting jmespath<1.0.0,>=0.7.1 (from boto3->smart-open>=1.2.1->gensim)\n",
            "  Downloading https://files.pythonhosted.org/packages/b7/31/05c8d001f7f87f0f07289a5fc0fc3832e9a57f2dbd4d3b0fee70e0d51365/jmespath-0.9.3-py2.py3-none-any.whl\n",
            "Collecting botocore<1.11.0,>=1.10.45 (from boto3->smart-open>=1.2.1->gensim)\n",
            "\u001b[?25l  Downloading https://files.pythonhosted.org/packages/2a/c8/b180fb83fa46d2b56ea059177dc3c00647d622987daf5e7ffbc658555ede/botocore-1.10.45-py2.py3-none-any.whl (4.4MB)\n",
            "\u001b[K    100% |████████████████████████████████| 4.4MB 5.0MB/s \n",
            "\u001b[?25hCollecting docutils>=0.10 (from botocore<1.11.0,>=1.10.45->boto3->smart-open>=1.2.1->gensim)\n",
            "\u001b[?25l  Downloading https://files.pythonhosted.org/packages/36/fa/08e9e6e0e3cbd1d362c3bbee8d01d0aedb2155c4ac112b19ef3cae8eed8d/docutils-0.14-py3-none-any.whl (543kB)\n",
            "\u001b[K    100% |████████████████████████████████| 552kB 23.6MB/s \n",
            "\u001b[?25hRequirement already satisfied: python-dateutil<3.0.0,>=2.1; python_version >= \"2.7\" in /usr/local/lib/python3.6/dist-packages (from botocore<1.11.0,>=1.10.45->boto3->smart-open>=1.2.1->gensim) (2.5.3)\n",
            "Building wheels for collected packages: smart-open, bz2file\n",
            "  Running setup.py bdist_wheel for smart-open ... \u001b[?25l-\b \b\\\b \bdone\n",
            "\u001b[?25h  Stored in directory: /content/.cache/pip/wheels/b1/9e/7d/bb3d3b55c597e72617140a0638c06382a5f17283881eae163e\n",
            "  Running setup.py bdist_wheel for bz2file ... \u001b[?25l-\b \bdone\n",
            "\u001b[?25h  Stored in directory: /content/.cache/pip/wheels/81/75/d6/e1317bf09bf1af5a30befc2a007869fa6e1f516b8f7c591cb9\n",
            "Successfully built smart-open bz2file\n",
            "Installing collected packages: boto, bz2file, docutils, jmespath, botocore, s3transfer, boto3, smart-open, gensim\n",
            "Successfully installed boto-2.48.0 boto3-1.7.45 botocore-1.10.45 bz2file-0.98 docutils-0.14 gensim-3.4.0 jmespath-0.9.3 s3transfer-0.1.13 smart-open-1.5.7\n",
            "Requirement already satisfied: networkx in /usr/local/lib/python3.6/dist-packages (2.1)\n",
            "Requirement already satisfied: decorator>=4.1.0 in /usr/local/lib/python3.6/dist-packages (from networkx) (4.3.0)\n"
          ],
          "name": "stdout"
        }
      ]
    },
    {
      "metadata": {
        "id": "gbr2U07gkdN0",
        "colab_type": "text"
      },
      "cell_type": "markdown",
      "source": [
        "### Define function"
      ]
    },
    {
      "metadata": {
        "id": "_ohnvbqxkByc",
        "colab_type": "code",
        "colab": {
          "base_uri": "https://localhost:8080/",
          "height": 17
        },
        "outputId": "1e49cf42-2fc6-42d4-aacc-baedc0e9cecb"
      },
      "cell_type": "code",
      "source": [
        "def upload_xlsx ():\n",
        "  uploaded = files.upload()\n",
        "  for i in uploaded:\n",
        "    file_name = i\n",
        "    return file_name\n",
        "\n",
        "def create_csv ():\n",
        "  file_name = upload_xlsx()\n",
        "  xls = pd.ExcelFile(file_name, on_demand = True)\n",
        "  sheets = xls.sheet_names\n",
        "  print('Sheet name list : ', end='')\n",
        "  print(sheets)\n",
        "  while True:\n",
        "    sheet_name = input('Enter sheet name : ')\n",
        "    if sheet_name in sheets:\n",
        "      break\n",
        "    else:\n",
        "      print('Error!! Do not have this sheet name..')\n",
        "\n",
        "  df = pd.read_excel(file_name, sheetname=sheet_name, index_col=None)\n",
        "  df.to_csv('csvfile.csv', encoding='utf-8', index=False)\n",
        "  print('Create CSV file complete...')\n",
        "  \n",
        "def create_text_list ():\n",
        "  df = pd.read_csv('csvfile.csv')\n",
        "  print('Field name list : ', end='')\n",
        "  fields = df.columns.values\n",
        "  print(fields)\n",
        "  while True:\n",
        "    field_name = input('Enter field name : ')\n",
        "    if field_name in fields:\n",
        "      break\n",
        "    else:\n",
        "      print('Error!! Do not have this field name..')\n",
        "\n",
        "  text_list = [i for i in df[field_name] if i]\n",
        "  print('Create list of text complete...')\n",
        "  return text_list\n",
        "\n",
        "def sent2labels(sent):\n",
        "  return [label for cur, tag in sent]\n",
        "\n",
        "def sent2features(sent):\n",
        "  data = []\n",
        "  for cur, tag in sent:\n",
        "    data.append({'current': cur, 'tag': tag})\n",
        "  return data\n",
        "\n",
        "def generate_feature (text_list):\n",
        "  tag_type = ['c', 'n', 'v', 'w', 't', 's', 'd']\n",
        "  rex_thai = re.compile(r\"[^\\u0E00-\\u0E7F' ]|^'|'$|''\")\n",
        "  c_tag = set('กขฃคฆงจชซญฎฏฐฑฒณดตถทธนบปพฟภมยรลวศษสฬอ')\n",
        "  n_tag = set('ฅฉผฝฌหฮ')\n",
        "  v_tag = {'ะ', 'ิ', 'ี', 'ึ', 'ื', 'ุ', 'ู', 'า', 'ำ', 'ๅ', '็', 'ั'}\n",
        "  w_tag = {'เ', 'แ', 'โ', 'ใ', 'ไ'}\n",
        "  t_tag = {'่',  '้', '๊', '๋'}\n",
        "  s_tag = {'ฺ', '์', 'ๆ', 'ฯ'}\n",
        "  d_tag = set('0123456789')\n",
        "  \n",
        "  new_text = []\n",
        "  for line in text_list:\n",
        "    char_to_remove = re.findall(rex_thai, line)\n",
        "    list_with_char_removed = [char for char in line if not char in char_to_remove]\n",
        "    line = ''.join(list_with_char_removed)\n",
        "    temp = line\n",
        "    if ' ' in line:\n",
        "      temp = temp.replace(' ', '')\n",
        "    new_text.append(temp)  \n",
        "    \n",
        "  raw_data = []\n",
        "  for line in new_text:\n",
        "    len_line = len(line)\n",
        "    d = []\n",
        "    for i in range(0, len_line):\n",
        "      t = ''\n",
        "      for tag in tag_type:\n",
        "        if line[i] in vars()[tag + '_tag']:\n",
        "          t = tag\n",
        "      d.append((line[i], t))\n",
        "    raw_data.append(d)\n",
        "  print('Create list of char and feature complete...')\n",
        "  return raw_data\n",
        "\n",
        "def download_model ():\n",
        "  # change by url\n",
        "  zip_id = '1WwyyzOS7rsDGTSnxCkEBXaLqGBmGUHA4'\n",
        "  \n",
        "  auth.authenticate_user()\n",
        "  gauth = GoogleAuth()\n",
        "  gauth.credentials = GoogleCredentials.get_application_default()\n",
        "  drive = GoogleDrive(gauth)\n",
        "\n",
        "  # Downloading zip file\n",
        "  myzip = drive.CreateFile({'id': zip_id})\n",
        "  myzip.GetContentFile('model.zip')\n",
        "\n",
        "  # Uncompressing zip file\n",
        "  zip_ref = zipfile.ZipFile('model.zip', 'r')\n",
        "  zip_ref.extractall('MODEL/')\n",
        "  \n",
        "  with open('./MODEL/model.pickle', 'rb') as handle:\n",
        "    crf_model = pickle.load(handle)\n",
        "\n",
        "  print('Download model complete...')\n",
        "  return crf_model\n",
        "\n",
        "def tokenize (model, x_data):\n",
        "  x_data = [sent2features(s) for s in x_data]\n",
        "  y_data = model.predict(x_data)\n",
        "  splited_list = []\n",
        "  len_text = len(x_data)\n",
        "  \n",
        "  for i in range(0, len_text):\n",
        "    len_line = len(x_data[i])\n",
        "    split_by_pipe = ''\n",
        "    if len_line > 1:\n",
        "      for j in range(0, len_line):\n",
        "        if y_data[i][j] == 'B' and j != 0:\n",
        "          split_by_pipe += '|'\n",
        "        split_by_pipe += x_data[i][j]['current']\n",
        "      splited_list.append(split_by_pipe)\n",
        "  return splited_list\n",
        "\n",
        "def generate_word2vec (pipe_list):\n",
        "  documents = []\n",
        "  dict_count = dict()\n",
        "  \n",
        "  for i in pipe_list:\n",
        "    temp = i.split('|')\n",
        "    documents.append(temp)\n",
        "    for word in temp:\n",
        "      if word in dict_count:\n",
        "        dict_count[word] += 1\n",
        "      else:\n",
        "        dict_count[word] = 1\n",
        "  \n",
        "  print('Generate list of text split by pipe complete...')\n",
        "  \n",
        "  model = gensim.models.Word2Vec (documents, size=150, window=10, min_count=2, workers=10)\n",
        "  model.train(documents, total_examples=len(documents), epochs=10)\n",
        "  \n",
        "  print('Generate word2vec complete...')\n",
        "  import operator\n",
        "  dc_sort = sorted(dict_count.items(),key = operator.itemgetter(1), reverse = True)\n",
        "  top_word = dc_sort[0:10]\n",
        "\n",
        "  print('Show word list and graph...')\n",
        "  \n",
        "  for i in top_word:\n",
        "    G = nx.Graph()\n",
        "    w = i[0]\n",
        "    print(w + '[A' + ']' + ' : ', end='')\n",
        "    near = model.wv.most_similar(positive=w, topn=10)\n",
        "    ed = 'B'\n",
        "    for word in near:\n",
        "      nowed = chr(ord(ed) + near.index(word))\n",
        "      print(word[0] + ' [' + nowed + ']' + ', ', end='')\n",
        "      G.add_edge('A', nowed, weight=1/word[1])\n",
        "    print('\\n')\n",
        "    pos = nx.spring_layout(G) \n",
        "    elist = [(u, v) for (u, v, d) in G.edges(data=True) if d['weight'] > 0]\n",
        "    nx.draw_networkx_nodes(G, pos, node_size=700)\n",
        "    nx.draw_networkx_edges(G, pos, edgelist=elist, width=6)\n",
        "    nx.draw_networkx_labels(G, pos)\n",
        "    plt.axis('off')\n",
        "    plt.show()\n",
        "  return 0\n",
        "\n",
        "def run_program ():\n",
        "  create_csv()\n",
        "  text_list = create_text_list()\n",
        "  char_with_feature = generate_feature(text_list)\n",
        "  crf_model = download_model()\n",
        "  pipe_split_list = tokenize(crf_model, char_with_feature)\n",
        "  doc = generate_word2vec(pipe_split_list)"
      ],
      "execution_count": 2,
      "outputs": []
    },
    {
      "metadata": {
        "id": "lZzNGPzxaZ9V",
        "colab_type": "text"
      },
      "cell_type": "markdown",
      "source": [
        "### Run"
      ]
    },
    {
      "metadata": {
        "id": "C10gm08xakeD",
        "colab_type": "text"
      },
      "cell_type": "markdown",
      "source": [
        "* upload file .xlsx \n",
        "* enter **sheet name** \n",
        "* enter **field name**\n",
        "* and.. wait\n",
        "\n"
      ]
    },
    {
      "metadata": {
        "id": "V58lsiei9y0r",
        "colab_type": "code",
        "colab": {
          "base_uri": "https://localhost:8080/",
          "height": 1783
        },
        "outputId": "aad7a96c-4ad2-4a98-b63b-3e6bd3fb0ce6"
      },
      "cell_type": "code",
      "source": [
        "run_program ()"
      ],
      "execution_count": 4,
      "outputs": [
        {
          "output_type": "stream",
          "text": [
            "Download model complete...\n",
            "Generate list of text split by pipe complete...\n",
            "Generate word2vec complete...\n",
            "Show word list and graph...\n",
            "ฟิล[A] : เย็น [B], ฟฟ [C], \n",
            "\n"
          ],
          "name": "stdout"
        },
        {
          "output_type": "display_data",
          "data": {
            "image/png": "[encoded data removed]",
            "text/plain": [
              "<matplotlib.figure.Figure at 0x7f67a44ca630>"
            ]
          },
          "metadata": {
            "tags": []
          }
        },
        {
          "output_type": "stream",
          "text": [
            "เย็น[A] : ฟฟ [B], ฟิล [C], \n",
            "\n"
          ],
          "name": "stdout"
        },
        {
          "output_type": "display_data",
          "data": {
            "image/png": "[encoded data removed]",
            "text/plain": [
              "<matplotlib.figure.Figure at 0x7f67bc7888d0>"
            ]
          },
          "metadata": {
            "tags": []
          }
        },
        {
          "output_type": "stream",
          "text": [
            "ฟฟ[A] : เย็น [B], ฟิล [C], \n",
            "\n"
          ],
          "name": "stdout"
        },
        {
          "output_type": "display_data",
          "data": {
            "image/png": "[encoded data removed]",
            "text/plain": [
              "<matplotlib.figure.Figure at 0x7f67bc821710>"
            ]
          },
          "metadata": {
            "tags": []
          }
        },
        {
          "output_type": "stream",
          "text": [
            "เตอร์ยี่[A] : "
          ],
          "name": "stdout"
        },
        {
          "output_type": "error",
          "ename": "KeyError",
          "evalue": "ignored",
          "traceback": [
            "\u001b[0;31m---------------------------------------------------------------------------\u001b[0m",
            "\u001b[0;31mKeyError\u001b[0m                                  Traceback (most recent call last)",
            "\u001b[0;32m<ipython-input-4-42098b20625a>\u001b[0m in \u001b[0;36m<module>\u001b[0;34m()\u001b[0m\n\u001b[0;32m----> 1\u001b[0;31m \u001b[0mrun_program\u001b[0m \u001b[0;34m(\u001b[0m\u001b[0;34m)\u001b[0m\u001b[0;34m\u001b[0m\u001b[0m\n\u001b[0m",
            "\u001b[0;32m<ipython-input-2-78c2499156f8>\u001b[0m in \u001b[0;36mrun_program\u001b[0;34m()\u001b[0m\n\u001b[1;32m    173\u001b[0m   \u001b[0mcrf_model\u001b[0m \u001b[0;34m=\u001b[0m \u001b[0mdownload_model\u001b[0m\u001b[0;34m(\u001b[0m\u001b[0;34m)\u001b[0m\u001b[0;34m\u001b[0m\u001b[0m\n\u001b[1;32m    174\u001b[0m   \u001b[0mpipe_split_list\u001b[0m \u001b[0;34m=\u001b[0m \u001b[0mtokenize\u001b[0m\u001b[0;34m(\u001b[0m\u001b[0mcrf_model\u001b[0m\u001b[0;34m,\u001b[0m \u001b[0mchar_with_feature\u001b[0m\u001b[0;34m)\u001b[0m\u001b[0;34m\u001b[0m\u001b[0m\n\u001b[0;32m--> 175\u001b[0;31m   \u001b[0mdoc\u001b[0m \u001b[0;34m=\u001b[0m \u001b[0mgenerate_word2vec\u001b[0m\u001b[0;34m(\u001b[0m\u001b[0mpipe_split_list\u001b[0m\u001b[0;34m)\u001b[0m\u001b[0;34m\u001b[0m\u001b[0m\n\u001b[0m",
            "\u001b[0;32m<ipython-input-2-78c2499156f8>\u001b[0m in \u001b[0;36mgenerate_word2vec\u001b[0;34m(pipe_list)\u001b[0m\n\u001b[1;32m    151\u001b[0m     \u001b[0mw\u001b[0m \u001b[0;34m=\u001b[0m \u001b[0mi\u001b[0m\u001b[0;34m[\u001b[0m\u001b[0;36m0\u001b[0m\u001b[0;34m]\u001b[0m\u001b[0;34m\u001b[0m\u001b[0m\n\u001b[1;32m    152\u001b[0m     \u001b[0mprint\u001b[0m\u001b[0;34m(\u001b[0m\u001b[0mw\u001b[0m \u001b[0;34m+\u001b[0m \u001b[0;34m'[A'\u001b[0m \u001b[0;34m+\u001b[0m \u001b[0;34m']'\u001b[0m \u001b[0;34m+\u001b[0m \u001b[0;34m' : '\u001b[0m\u001b[0;34m,\u001b[0m \u001b[0mend\u001b[0m\u001b[0;34m=\u001b[0m\u001b[0;34m''\u001b[0m\u001b[0;34m)\u001b[0m\u001b[0;34m\u001b[0m\u001b[0m\n\u001b[0;32m--> 153\u001b[0;31m     \u001b[0mnear\u001b[0m \u001b[0;34m=\u001b[0m \u001b[0mmodel\u001b[0m\u001b[0;34m.\u001b[0m\u001b[0mwv\u001b[0m\u001b[0;34m.\u001b[0m\u001b[0mmost_similar\u001b[0m\u001b[0;34m(\u001b[0m\u001b[0mpositive\u001b[0m\u001b[0;34m=\u001b[0m\u001b[0mw\u001b[0m\u001b[0;34m,\u001b[0m \u001b[0mtopn\u001b[0m\u001b[0;34m=\u001b[0m\u001b[0;36m10\u001b[0m\u001b[0;34m)\u001b[0m\u001b[0;34m\u001b[0m\u001b[0m\n\u001b[0m\u001b[1;32m    154\u001b[0m     \u001b[0med\u001b[0m \u001b[0;34m=\u001b[0m \u001b[0;34m'B'\u001b[0m\u001b[0;34m\u001b[0m\u001b[0m\n\u001b[1;32m    155\u001b[0m     \u001b[0;32mfor\u001b[0m \u001b[0mword\u001b[0m \u001b[0;32min\u001b[0m \u001b[0mnear\u001b[0m\u001b[0;34m:\u001b[0m\u001b[0;34m\u001b[0m\u001b[0m\n",
            "\u001b[0;32m/usr/local/lib/python3.6/dist-packages/gensim/models/keyedvectors.py\u001b[0m in \u001b[0;36mmost_similar\u001b[0;34m(self, positive, negative, topn, restrict_vocab, indexer)\u001b[0m\n\u001b[1;32m    363\u001b[0m                 \u001b[0mmean\u001b[0m\u001b[0;34m.\u001b[0m\u001b[0mappend\u001b[0m\u001b[0;34m(\u001b[0m\u001b[0mweight\u001b[0m \u001b[0;34m*\u001b[0m \u001b[0mword\u001b[0m\u001b[0;34m)\u001b[0m\u001b[0;34m\u001b[0m\u001b[0m\n\u001b[1;32m    364\u001b[0m             \u001b[0;32melse\u001b[0m\u001b[0;34m:\u001b[0m\u001b[0;34m\u001b[0m\u001b[0m\n\u001b[0;32m--> 365\u001b[0;31m                 \u001b[0mmean\u001b[0m\u001b[0;34m.\u001b[0m\u001b[0mappend\u001b[0m\u001b[0;34m(\u001b[0m\u001b[0mweight\u001b[0m \u001b[0;34m*\u001b[0m \u001b[0mself\u001b[0m\u001b[0;34m.\u001b[0m\u001b[0mword_vec\u001b[0m\u001b[0;34m(\u001b[0m\u001b[0mword\u001b[0m\u001b[0;34m,\u001b[0m \u001b[0muse_norm\u001b[0m\u001b[0;34m=\u001b[0m\u001b[0;32mTrue\u001b[0m\u001b[0;34m)\u001b[0m\u001b[0;34m)\u001b[0m\u001b[0;34m\u001b[0m\u001b[0m\n\u001b[0m\u001b[1;32m    366\u001b[0m                 \u001b[0;32mif\u001b[0m \u001b[0mword\u001b[0m \u001b[0;32min\u001b[0m \u001b[0mself\u001b[0m\u001b[0;34m.\u001b[0m\u001b[0mvocab\u001b[0m\u001b[0;34m:\u001b[0m\u001b[0;34m\u001b[0m\u001b[0m\n\u001b[1;32m    367\u001b[0m                     \u001b[0mall_words\u001b[0m\u001b[0;34m.\u001b[0m\u001b[0madd\u001b[0m\u001b[0;34m(\u001b[0m\u001b[0mself\u001b[0m\u001b[0;34m.\u001b[0m\u001b[0mvocab\u001b[0m\u001b[0;34m[\u001b[0m\u001b[0mword\u001b[0m\u001b[0;34m]\u001b[0m\u001b[0;34m.\u001b[0m\u001b[0mindex\u001b[0m\u001b[0;34m)\u001b[0m\u001b[0;34m\u001b[0m\u001b[0m\n",
            "\u001b[0;32m/usr/local/lib/python3.6/dist-packages/gensim/models/keyedvectors.py\u001b[0m in \u001b[0;36mword_vec\u001b[0;34m(self, word, use_norm)\u001b[0m\n\u001b[1;32m    272\u001b[0m             \u001b[0;32mreturn\u001b[0m \u001b[0mresult\u001b[0m\u001b[0;34m\u001b[0m\u001b[0m\n\u001b[1;32m    273\u001b[0m         \u001b[0;32melse\u001b[0m\u001b[0;34m:\u001b[0m\u001b[0;34m\u001b[0m\u001b[0m\n\u001b[0;32m--> 274\u001b[0;31m             \u001b[0;32mraise\u001b[0m \u001b[0mKeyError\u001b[0m\u001b[0;34m(\u001b[0m\u001b[0;34m\"word '%s' not in vocabulary\"\u001b[0m \u001b[0;34m%\u001b[0m \u001b[0mword\u001b[0m\u001b[0;34m)\u001b[0m\u001b[0;34m\u001b[0m\u001b[0m\n\u001b[0m\u001b[1;32m    275\u001b[0m \u001b[0;34m\u001b[0m\u001b[0m\n\u001b[1;32m    276\u001b[0m     \u001b[0;32mdef\u001b[0m \u001b[0mget_vector\u001b[0m\u001b[0;34m(\u001b[0m\u001b[0mself\u001b[0m\u001b[0;34m,\u001b[0m \u001b[0mword\u001b[0m\u001b[0;34m)\u001b[0m\u001b[0;34m:\u001b[0m\u001b[0;34m\u001b[0m\u001b[0m\n",
            "\u001b[0;31mKeyError\u001b[0m: \"word 'เตอร์ยี่' not in vocabulary\""
          ]
        }
      ]
    }
  ]
}